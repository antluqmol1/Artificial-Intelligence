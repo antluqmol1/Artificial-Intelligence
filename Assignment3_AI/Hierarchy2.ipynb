{
 "cells": [
  {
   "cell_type": "code",
   "execution_count": null,
   "metadata": {
    "id": "rmNeK7ca1ze0"
   },
   "outputs": [],
   "source": [
    "pip install pgmpy"
   ]
  },
  {
   "cell_type": "code",
   "execution_count": 42,
   "metadata": {},
   "outputs": [
    {
     "data": {
      "text/plain": [
       "'c:\\\\Users\\\\Antonio Luque\\\\Desktop\\\\Carpetas\\\\UIT\\\\INF-2600 AI\\\\Assignment 3'"
      ]
     },
     "execution_count": 42,
     "metadata": {},
     "output_type": "execute_result"
    }
   ],
   "source": [
    "import os\n",
    "os.getcwd()\n"
   ]
  },
  {
   "cell_type": "code",
   "execution_count": null,
   "metadata": {},
   "outputs": [],
   "source": [
    "pip install seaborn"
   ]
  },
  {
   "cell_type": "code",
   "execution_count": 43,
   "metadata": {
    "id": "_Dnf0jwzsoK8"
   },
   "outputs": [],
   "source": [
    "# Including the necessary libraries\n",
    "import numpy as np\n",
    "import pandas as pd\n",
    "import seaborn as sns\n",
    "import matplotlib.pyplot as plt\n",
    "\n",
    "from pgmpy.models import BayesianNetwork\n",
    "from pgmpy.factors.discrete import TabularCPD"
   ]
  },
  {
   "cell_type": "markdown",
   "metadata": {
    "id": "8kDXvpvVtFNJ"
   },
   "source": [
    "# Factoring the dataset"
   ]
  },
  {
   "cell_type": "code",
   "execution_count": 44,
   "metadata": {
    "colab": {
     "base_uri": "https://localhost:8080/",
     "height": 206
    },
    "id": "j1UBAX640ozx",
    "outputId": "338206b0-408e-4c58-d0bc-cff2efc89adf"
   },
   "outputs": [
    {
     "data": {
      "text/html": [
       "<div>\n",
       "<style scoped>\n",
       "    .dataframe tbody tr th:only-of-type {\n",
       "        vertical-align: middle;\n",
       "    }\n",
       "\n",
       "    .dataframe tbody tr th {\n",
       "        vertical-align: top;\n",
       "    }\n",
       "\n",
       "    .dataframe thead th {\n",
       "        text-align: right;\n",
       "    }\n",
       "</style>\n",
       "<table border=\"1\" class=\"dataframe\">\n",
       "  <thead>\n",
       "    <tr style=\"text-align: right;\">\n",
       "      <th></th>\n",
       "      <th>date</th>\n",
       "      <th>precipitation</th>\n",
       "      <th>temp_max</th>\n",
       "      <th>temp_min</th>\n",
       "      <th>wind</th>\n",
       "      <th>weather</th>\n",
       "    </tr>\n",
       "  </thead>\n",
       "  <tbody>\n",
       "    <tr>\n",
       "      <th>0</th>\n",
       "      <td>2012-01-01</td>\n",
       "      <td>0.0</td>\n",
       "      <td>12.8</td>\n",
       "      <td>5.0</td>\n",
       "      <td>4.7</td>\n",
       "      <td>drizzle</td>\n",
       "    </tr>\n",
       "    <tr>\n",
       "      <th>1</th>\n",
       "      <td>2012-01-02</td>\n",
       "      <td>10.9</td>\n",
       "      <td>10.6</td>\n",
       "      <td>2.8</td>\n",
       "      <td>4.5</td>\n",
       "      <td>rain</td>\n",
       "    </tr>\n",
       "    <tr>\n",
       "      <th>2</th>\n",
       "      <td>2012-01-03</td>\n",
       "      <td>0.8</td>\n",
       "      <td>11.7</td>\n",
       "      <td>7.2</td>\n",
       "      <td>2.3</td>\n",
       "      <td>rain</td>\n",
       "    </tr>\n",
       "    <tr>\n",
       "      <th>3</th>\n",
       "      <td>2012-01-04</td>\n",
       "      <td>20.3</td>\n",
       "      <td>12.2</td>\n",
       "      <td>5.6</td>\n",
       "      <td>4.7</td>\n",
       "      <td>rain</td>\n",
       "    </tr>\n",
       "    <tr>\n",
       "      <th>4</th>\n",
       "      <td>2012-01-05</td>\n",
       "      <td>1.3</td>\n",
       "      <td>8.9</td>\n",
       "      <td>2.8</td>\n",
       "      <td>6.1</td>\n",
       "      <td>rain</td>\n",
       "    </tr>\n",
       "  </tbody>\n",
       "</table>\n",
       "</div>"
      ],
      "text/plain": [
       "         date  precipitation  temp_max  temp_min  wind  weather\n",
       "0  2012-01-01            0.0      12.8       5.0   4.7  drizzle\n",
       "1  2012-01-02           10.9      10.6       2.8   4.5     rain\n",
       "2  2012-01-03            0.8      11.7       7.2   2.3     rain\n",
       "3  2012-01-04           20.3      12.2       5.6   4.7     rain\n",
       "4  2012-01-05            1.3       8.9       2.8   6.1     rain"
      ]
     },
     "execution_count": 44,
     "metadata": {},
     "output_type": "execute_result"
    }
   ],
   "source": [
    "# Import data, make a copy of the original\n",
    "\n",
    "df0 = pd.read_csv('./seattle-weather.csv')\n",
    "dfc1 = df0.copy()\n",
    "dfc1.head()"
   ]
  },
  {
   "cell_type": "code",
   "execution_count": 45,
   "metadata": {
    "colab": {
     "base_uri": "https://localhost:8080/"
    },
    "id": "nFIlg96M0qH1",
    "outputId": "36b3b9f8-9c4b-454f-c811-a77c6c513354"
   },
   "outputs": [
    {
     "name": "stdout",
     "output_type": "stream",
     "text": [
      "<class 'pandas.core.frame.DataFrame'>\n",
      "RangeIndex: 1461 entries, 0 to 1460\n",
      "Data columns (total 6 columns):\n",
      " #   Column         Non-Null Count  Dtype  \n",
      "---  ------         --------------  -----  \n",
      " 0   date           1461 non-null   object \n",
      " 1   precipitation  1461 non-null   float64\n",
      " 2   temp_max       1461 non-null   float64\n",
      " 3   temp_min       1461 non-null   float64\n",
      " 4   wind           1461 non-null   float64\n",
      " 5   weather        1461 non-null   object \n",
      "dtypes: float64(4), object(2)\n",
      "memory usage: 68.6+ KB\n"
     ]
    }
   ],
   "source": [
    "# Get characteristics of dataset including columns with missing data as well:\n",
    "dfc1.info()"
   ]
  },
  {
   "cell_type": "code",
   "execution_count": 46,
   "metadata": {
    "colab": {
     "base_uri": "https://localhost:8080/"
    },
    "id": "J4-9pU7v9xCI",
    "outputId": "b245bb96-df16-40bc-aa50-805e0efa1ec4"
   },
   "outputs": [
    {
     "name": "stdout",
     "output_type": "stream",
     "text": [
      "['drizzle' 'rain' 'sun' 'snow' 'fog']\n"
     ]
    }
   ],
   "source": [
    "# Checking the unique values in the 'weather' column\n",
    "unique_fields = dfc1['weather'].unique()\n",
    "print(unique_fields)"
   ]
  },
  {
   "cell_type": "code",
   "execution_count": 47,
   "metadata": {
    "colab": {
     "base_uri": "https://localhost:8080/",
     "height": 300
    },
    "id": "yHMgO4oF0tUI",
    "outputId": "851f538c-c6f9-40c9-e3ff-66e0c857543b"
   },
   "outputs": [
    {
     "data": {
      "text/html": [
       "<div>\n",
       "<style scoped>\n",
       "    .dataframe tbody tr th:only-of-type {\n",
       "        vertical-align: middle;\n",
       "    }\n",
       "\n",
       "    .dataframe tbody tr th {\n",
       "        vertical-align: top;\n",
       "    }\n",
       "\n",
       "    .dataframe thead th {\n",
       "        text-align: right;\n",
       "    }\n",
       "</style>\n",
       "<table border=\"1\" class=\"dataframe\">\n",
       "  <thead>\n",
       "    <tr style=\"text-align: right;\">\n",
       "      <th></th>\n",
       "      <th>precipitation</th>\n",
       "      <th>temp_max</th>\n",
       "      <th>temp_min</th>\n",
       "      <th>wind</th>\n",
       "    </tr>\n",
       "  </thead>\n",
       "  <tbody>\n",
       "    <tr>\n",
       "      <th>count</th>\n",
       "      <td>1461.000000</td>\n",
       "      <td>1461.000000</td>\n",
       "      <td>1461.000000</td>\n",
       "      <td>1461.000000</td>\n",
       "    </tr>\n",
       "    <tr>\n",
       "      <th>mean</th>\n",
       "      <td>3.029432</td>\n",
       "      <td>16.439083</td>\n",
       "      <td>8.234771</td>\n",
       "      <td>3.241136</td>\n",
       "    </tr>\n",
       "    <tr>\n",
       "      <th>std</th>\n",
       "      <td>6.680194</td>\n",
       "      <td>7.349758</td>\n",
       "      <td>5.023004</td>\n",
       "      <td>1.437825</td>\n",
       "    </tr>\n",
       "    <tr>\n",
       "      <th>min</th>\n",
       "      <td>0.000000</td>\n",
       "      <td>-1.600000</td>\n",
       "      <td>-7.100000</td>\n",
       "      <td>0.400000</td>\n",
       "    </tr>\n",
       "    <tr>\n",
       "      <th>25%</th>\n",
       "      <td>0.000000</td>\n",
       "      <td>10.600000</td>\n",
       "      <td>4.400000</td>\n",
       "      <td>2.200000</td>\n",
       "    </tr>\n",
       "    <tr>\n",
       "      <th>50%</th>\n",
       "      <td>0.000000</td>\n",
       "      <td>15.600000</td>\n",
       "      <td>8.300000</td>\n",
       "      <td>3.000000</td>\n",
       "    </tr>\n",
       "    <tr>\n",
       "      <th>75%</th>\n",
       "      <td>2.800000</td>\n",
       "      <td>22.200000</td>\n",
       "      <td>12.200000</td>\n",
       "      <td>4.000000</td>\n",
       "    </tr>\n",
       "    <tr>\n",
       "      <th>max</th>\n",
       "      <td>55.900000</td>\n",
       "      <td>35.600000</td>\n",
       "      <td>18.300000</td>\n",
       "      <td>9.500000</td>\n",
       "    </tr>\n",
       "  </tbody>\n",
       "</table>\n",
       "</div>"
      ],
      "text/plain": [
       "       precipitation     temp_max     temp_min         wind\n",
       "count    1461.000000  1461.000000  1461.000000  1461.000000\n",
       "mean        3.029432    16.439083     8.234771     3.241136\n",
       "std         6.680194     7.349758     5.023004     1.437825\n",
       "min         0.000000    -1.600000    -7.100000     0.400000\n",
       "25%         0.000000    10.600000     4.400000     2.200000\n",
       "50%         0.000000    15.600000     8.300000     3.000000\n",
       "75%         2.800000    22.200000    12.200000     4.000000\n",
       "max        55.900000    35.600000    18.300000     9.500000"
      ]
     },
     "execution_count": 47,
     "metadata": {},
     "output_type": "execute_result"
    }
   ],
   "source": [
    "dfc1.describe()"
   ]
  },
  {
   "cell_type": "code",
   "execution_count": 48,
   "metadata": {
    "id": "pD6zggr40w1R"
   },
   "outputs": [
    {
     "data": {
      "text/html": [
       "<div>\n",
       "<style scoped>\n",
       "    .dataframe tbody tr th:only-of-type {\n",
       "        vertical-align: middle;\n",
       "    }\n",
       "\n",
       "    .dataframe tbody tr th {\n",
       "        vertical-align: top;\n",
       "    }\n",
       "\n",
       "    .dataframe thead th {\n",
       "        text-align: right;\n",
       "    }\n",
       "</style>\n",
       "<table border=\"1\" class=\"dataframe\">\n",
       "  <thead>\n",
       "    <tr style=\"text-align: right;\">\n",
       "      <th></th>\n",
       "      <th>date</th>\n",
       "      <th>weather</th>\n",
       "    </tr>\n",
       "  </thead>\n",
       "  <tbody>\n",
       "    <tr>\n",
       "      <th>0</th>\n",
       "      <td>2012-01-01</td>\n",
       "      <td>drizzle</td>\n",
       "    </tr>\n",
       "    <tr>\n",
       "      <th>1</th>\n",
       "      <td>2012-01-02</td>\n",
       "      <td>rain</td>\n",
       "    </tr>\n",
       "    <tr>\n",
       "      <th>2</th>\n",
       "      <td>2012-01-03</td>\n",
       "      <td>rain</td>\n",
       "    </tr>\n",
       "    <tr>\n",
       "      <th>3</th>\n",
       "      <td>2012-01-04</td>\n",
       "      <td>rain</td>\n",
       "    </tr>\n",
       "    <tr>\n",
       "      <th>4</th>\n",
       "      <td>2012-01-05</td>\n",
       "      <td>rain</td>\n",
       "    </tr>\n",
       "  </tbody>\n",
       "</table>\n",
       "</div>"
      ],
      "text/plain": [
       "         date  weather\n",
       "0  2012-01-01  drizzle\n",
       "1  2012-01-02     rain\n",
       "2  2012-01-03     rain\n",
       "3  2012-01-04     rain\n",
       "4  2012-01-05     rain"
      ]
     },
     "execution_count": 48,
     "metadata": {},
     "output_type": "execute_result"
    }
   ],
   "source": [
    "# Put categorical varaibles in a list\n",
    "categorical_lst = ['date','weather']\n",
    "# Create a seperate & smaller dataframe for categorical variables\n",
    "dfc2a = pd.DataFrame(dfc1, columns=categorical_lst, copy=True)\n",
    "dfc2a.head()"
   ]
  },
  {
   "cell_type": "code",
   "execution_count": 49,
   "metadata": {
    "id": "lqmWkjP80yd-"
   },
   "outputs": [
    {
     "data": {
      "text/html": [
       "<div>\n",
       "<style scoped>\n",
       "    .dataframe tbody tr th:only-of-type {\n",
       "        vertical-align: middle;\n",
       "    }\n",
       "\n",
       "    .dataframe tbody tr th {\n",
       "        vertical-align: top;\n",
       "    }\n",
       "\n",
       "    .dataframe thead th {\n",
       "        text-align: right;\n",
       "    }\n",
       "</style>\n",
       "<table border=\"1\" class=\"dataframe\">\n",
       "  <thead>\n",
       "    <tr style=\"text-align: right;\">\n",
       "      <th></th>\n",
       "      <th>precipitation</th>\n",
       "      <th>temp_max</th>\n",
       "      <th>temp_min</th>\n",
       "      <th>wind</th>\n",
       "    </tr>\n",
       "  </thead>\n",
       "  <tbody>\n",
       "    <tr>\n",
       "      <th>0</th>\n",
       "      <td>0.0</td>\n",
       "      <td>12.8</td>\n",
       "      <td>5.0</td>\n",
       "      <td>4.7</td>\n",
       "    </tr>\n",
       "    <tr>\n",
       "      <th>1</th>\n",
       "      <td>10.9</td>\n",
       "      <td>10.6</td>\n",
       "      <td>2.8</td>\n",
       "      <td>4.5</td>\n",
       "    </tr>\n",
       "    <tr>\n",
       "      <th>2</th>\n",
       "      <td>0.8</td>\n",
       "      <td>11.7</td>\n",
       "      <td>7.2</td>\n",
       "      <td>2.3</td>\n",
       "    </tr>\n",
       "    <tr>\n",
       "      <th>3</th>\n",
       "      <td>20.3</td>\n",
       "      <td>12.2</td>\n",
       "      <td>5.6</td>\n",
       "      <td>4.7</td>\n",
       "    </tr>\n",
       "    <tr>\n",
       "      <th>4</th>\n",
       "      <td>1.3</td>\n",
       "      <td>8.9</td>\n",
       "      <td>2.8</td>\n",
       "      <td>6.1</td>\n",
       "    </tr>\n",
       "  </tbody>\n",
       "</table>\n",
       "</div>"
      ],
      "text/plain": [
       "   precipitation  temp_max  temp_min  wind\n",
       "0            0.0      12.8       5.0   4.7\n",
       "1           10.9      10.6       2.8   4.5\n",
       "2            0.8      11.7       7.2   2.3\n",
       "3           20.3      12.2       5.6   4.7\n",
       "4            1.3       8.9       2.8   6.1"
      ]
     },
     "execution_count": 49,
     "metadata": {},
     "output_type": "execute_result"
    }
   ],
   "source": [
    "# Put all continuous variables into a list\n",
    "continuous_lst = ['precipitation', 'temp_max', 'temp_min', 'wind']\n",
    "# Create a seperate & smaller dataframe for our chosen variables. Use 'copy=True' so changes wont affect original\n",
    "dfc2b = pd.DataFrame(dfc1, columns=continuous_lst, copy=True)\n",
    "dfc2b.head()"
   ]
  },
  {
   "cell_type": "markdown",
   "metadata": {
    "id": "TLtIxsxL01vX"
   },
   "source": [
    "### Create new dataframe"
   ]
  },
  {
   "cell_type": "code",
   "execution_count": 50,
   "metadata": {
    "id": "rSVcV5pL01_x"
   },
   "outputs": [],
   "source": [
    "# Create new df with variables we want to work with:\n",
    "new_cols = ['date', 'precipitation', 'temp_max', 'temp_min', 'wind', 'weather']\n",
    "\n",
    "df = df0[new_cols]\n",
    "# df.head()"
   ]
  },
  {
   "cell_type": "code",
   "execution_count": 51,
   "metadata": {
    "id": "0eVsX_2t3HYN"
   },
   "outputs": [
    {
     "data": {
      "text/plain": [
       "date             False\n",
       "precipitation    False\n",
       "temp_max         False\n",
       "temp_min         False\n",
       "wind             False\n",
       "weather          False\n",
       "dtype: bool"
      ]
     },
     "execution_count": 51,
     "metadata": {},
     "output_type": "execute_result"
    }
   ],
   "source": [
    "# Let's show all columns with missing data as well:\n",
    "df[df.isnull().any(axis=1)] # any missing data in columns\n",
    "df.isnull().any()"
   ]
  },
  {
   "cell_type": "code",
   "execution_count": 52,
   "metadata": {
    "colab": {
     "base_uri": "https://localhost:8080/",
     "height": 206
    },
    "id": "YDZTIG8w06pU",
    "outputId": "b162c88d-a4fc-4f02-83df-8d6c28a99a60"
   },
   "outputs": [
    {
     "data": {
      "text/html": [
       "<div>\n",
       "<style scoped>\n",
       "    .dataframe tbody tr th:only-of-type {\n",
       "        vertical-align: middle;\n",
       "    }\n",
       "\n",
       "    .dataframe tbody tr th {\n",
       "        vertical-align: top;\n",
       "    }\n",
       "\n",
       "    .dataframe thead th {\n",
       "        text-align: right;\n",
       "    }\n",
       "</style>\n",
       "<table border=\"1\" class=\"dataframe\">\n",
       "  <thead>\n",
       "    <tr style=\"text-align: right;\">\n",
       "      <th></th>\n",
       "      <th>date</th>\n",
       "      <th>precipitation</th>\n",
       "      <th>temp_max</th>\n",
       "      <th>temp_min</th>\n",
       "      <th>wind</th>\n",
       "      <th>weather</th>\n",
       "    </tr>\n",
       "  </thead>\n",
       "  <tbody>\n",
       "    <tr>\n",
       "      <th>0</th>\n",
       "      <td>2012-01-01</td>\n",
       "      <td>mid</td>\n",
       "      <td>mid</td>\n",
       "      <td>mid</td>\n",
       "      <td>high</td>\n",
       "      <td>drizzle</td>\n",
       "    </tr>\n",
       "    <tr>\n",
       "      <th>1</th>\n",
       "      <td>2012-01-02</td>\n",
       "      <td>high</td>\n",
       "      <td>mid</td>\n",
       "      <td>low</td>\n",
       "      <td>mid</td>\n",
       "      <td>rain</td>\n",
       "    </tr>\n",
       "    <tr>\n",
       "      <th>2</th>\n",
       "      <td>2012-01-03</td>\n",
       "      <td>mid</td>\n",
       "      <td>mid</td>\n",
       "      <td>mid</td>\n",
       "      <td>mid</td>\n",
       "      <td>rain</td>\n",
       "    </tr>\n",
       "    <tr>\n",
       "      <th>3</th>\n",
       "      <td>2012-01-04</td>\n",
       "      <td>high</td>\n",
       "      <td>mid</td>\n",
       "      <td>mid</td>\n",
       "      <td>high</td>\n",
       "      <td>rain</td>\n",
       "    </tr>\n",
       "    <tr>\n",
       "      <th>4</th>\n",
       "      <td>2012-01-05</td>\n",
       "      <td>mid</td>\n",
       "      <td>low</td>\n",
       "      <td>low</td>\n",
       "      <td>high</td>\n",
       "      <td>rain</td>\n",
       "    </tr>\n",
       "  </tbody>\n",
       "</table>\n",
       "</div>"
      ],
      "text/plain": [
       "         date precipitation temp_max temp_min  wind  weather\n",
       "0  2012-01-01           mid      mid      mid  high  drizzle\n",
       "1  2012-01-02          high      mid      low   mid     rain\n",
       "2  2012-01-03           mid      mid      mid   mid     rain\n",
       "3  2012-01-04          high      mid      mid  high     rain\n",
       "4  2012-01-05           mid      low      low  high     rain"
      ]
     },
     "execution_count": 52,
     "metadata": {},
     "output_type": "execute_result"
    }
   ],
   "source": [
    "num_stdv = 1\n",
    "\n",
    "# Define the labels dictionary\n",
    "labels = {\n",
    "    'precipitation': ['low', 'mid', 'high'],\n",
    "    'temp_max': ['low', 'mid', 'high'],\n",
    "    'temp_min': ['low', 'mid', 'high'],\n",
    "    'wind': ['low', 'mid', 'high']\n",
    "}\n",
    "\n",
    "# Create bounds for continuous labels\n",
    "for col in df.columns:\n",
    "    if col in labels:\n",
    "        col_mean = df[col].mean()\n",
    "        col_stdv = df[col].std()\n",
    "        lower_bound = col_mean - col_stdv * num_stdv\n",
    "        upper_bound = col_mean + col_stdv * num_stdv\n",
    "        bins = [-float('inf'), lower_bound, upper_bound, float('inf')]\n",
    "        df[col] = pd.cut(df[col], bins=bins, labels=labels[col])\n",
    "\n",
    "df.head()"
   ]
  },
  {
   "cell_type": "markdown",
   "metadata": {
    "id": "eG6lW2LPsspt"
   },
   "source": [
    "# Creating Bayes Nets"
   ]
  },
  {
   "cell_type": "markdown",
   "metadata": {},
   "source": [
    "# Task 1.4 - Exploring other hierarchies"
   ]
  },
  {
   "cell_type": "markdown",
   "metadata": {},
   "source": [
    "1.4.1 Create a Bayesian Network on the same data with two different hierarchies\n",
    "given below (ref. Figure 2 & 3)."
   ]
  },
  {
   "attachments": {
    "image-2.png": {
     "image/png": "[encoded data removed]"
    }
   },
   "cell_type": "markdown",
   "metadata": {},
   "source": [
    "![image-2.png](attachment:image-2.png)"
   ]
  },
  {
   "cell_type": "markdown",
   "metadata": {},
   "source": [
    "# Hierarchy 2"
   ]
  },
  {
   "cell_type": "code",
   "execution_count": null,
   "metadata": {},
   "outputs": [],
   "source": [
    "# Define the hierarchy\n",
    "modelfig3 = BayesianNetwork([\n",
    "    ('weather', 'wind'), \n",
    "    ('wind', 'precipitation'),\n",
    "    ('precipitation', 'temp_max'), ('precipitation', 'temp_min')\n",
    "])\n",
    "\n",
    "# And, the states for each variables\n",
    "weather_states = ['drizzle', 'rain', 'sun', 'snow', 'fog']\n",
    "precipitation_states = ['low', 'mid', 'high']\n",
    "wind_states = ['low', 'mid', 'high']\n",
    "temp_max_states = ['low', 'mid', 'high']\n",
    "temp_min_states = ['low', 'mid', 'high']\n"
   ]
  },
  {
   "cell_type": "code",
   "execution_count": null,
   "metadata": {},
   "outputs": [],
   "source": [
    "# Calculate Probabilities\n",
    "\n",
    "# Weather does not have any parents so all we need are the marginal probabilities of observing each weather type\n",
    "weather_marginal = (df['weather'].value_counts()/len(df['weather'])).round(3)\n",
    "weather_marginal = np.array([[value] for value in weather_marginal])\n",
    "\n",
    "# Joint Propabilities\n",
    "# Create dict where key=parent, value=child\n",
    "var_dict = {'weather': ['wind'],\n",
    "            'wind': ['precipitation'],\n",
    "            'precipitation': ['temp_max', 'temp_min']\n",
    "            }\n",
    "\n",
    "# Create conditional distributions and store results in a list\n",
    "cpd_lst = []\n",
    "for key, value in var_dict.items():\n",
    "    length = len(value)\n",
    "    for i in range(length):\n",
    "        value_given_key = df.groupby(key)[value[i]].value_counts(normalize=True).sort_index()\n",
    "        cpd = value_given_key.unstack(fill_value=0).to_numpy().T\n",
    "        cpd_lst.append(cpd)\n",
    "# Note that we get 3 Nan values in the above conditional distributions. This is because one of the type of precipitation (low) did not contain any relation with temp_max.\n",
    "# Therefore, normalization, does not produce the intended result.\n",
    "# To mitigate this, we replace Nan with the equal probability within the three values, i.e., 0.33\n",
    "cpd_lst[2][:,0] = .33\n",
    "cpd_lst[3][:,0] = .33\n",
    "cpd_lst\n"
   ]
  },
  {
   "cell_type": "code",
   "execution_count": null,
   "metadata": {},
   "outputs": [],
   "source": [
    "# Creating tabular conditional probability distribution\n",
    "weather_cpd = TabularCPD(variable='weather', variable_card=5, values=weather_marginal, state_names={'weather': weather_states})\n",
    "\n",
    "wind_cpd = TabularCPD(variable='wind', variable_card=3, evidence=['weather'], evidence_card=[5],\n",
    "                               values=cpd_lst[0], state_names={'wind': wind_states, 'weather': weather_states})\n",
    "\n",
    "precipitation_cpd = TabularCPD(variable='precipitation', variable_card=3, evidence=['wind'], evidence_card=[3],\n",
    "                               values=cpd_lst[1], state_names={'precipitation': precipitation_states, 'wind': wind_states})\n",
    "\n",
    "temp_max_cpd = TabularCPD(variable='temp_max', variable_card=3, evidence=['precipitation'], evidence_card=[3],\n",
    "                               values=cpd_lst[2], state_names={'temp_max': temp_max_states, 'precipitation': precipitation_states})\n",
    "\n",
    "temp_min_cpd = TabularCPD(variable='temp_min', variable_card=3, evidence=['precipitation'], evidence_card=[3],\n",
    "                               values=cpd_lst[3], state_names={'temp_min': temp_min_states, 'precipitation': precipitation_states})\n"
   ]
  },
  {
   "cell_type": "code",
   "execution_count": null,
   "metadata": {},
   "outputs": [],
   "source": [
    "# Add CPDs and factors to the model\n",
    "modelfig3.add_cpds(weather_cpd, precipitation_cpd, wind_cpd, temp_max_cpd, temp_min_cpd)\n",
    "\n",
    "# Check if model is consistent\n",
    "modelfig3.check_model()\n",
    "\n",
    "# Viewing nodes of the model\n",
    "modelfig3.nodes()\n",
    "\n",
    "# Viewing edges of the model\n",
    "modelfig3.edges()\n",
    "\n",
    "# Print the probability table of the weather node\n",
    "print(weather_cpd)\n",
    "\n",
    "# Print the probability table of the wind node\n",
    "print(wind_cpd)\n",
    "# Independcies in the model\n",
    "modelfig3.get_independencies()\n",
    "# Checking independcies of a particular node\n",
    "modelfig3.local_independencies('temp_max')\n"
   ]
  },
  {
   "cell_type": "markdown",
   "metadata": {},
   "source": [
    "1.4.2 Compare the joint probabilities from all the three-hierarchy using either exact or approximate inference? Discuss your results?"
   ]
  },
  {
   "cell_type": "code",
   "execution_count": null,
   "metadata": {},
   "outputs": [],
   "source": [
    "inference1 = VariableElimination(modelfig1)\n",
    "joint_prob1 = inference1.query(variables=['weather', 'precipitation', 'wind', 'temp_max', 'temp_min'], joint=True)\n",
    "\n",
    "inference2 = VariableElimination(modelfig2)\n",
    "joint_prob2 = inference2.query(variables=['weather', 'precipitation', 'wind', 'temp_max', 'temp_min'], joint=True)\n",
    "\n",
    "inference3 = VariableElimination(modelfig3)\n",
    "joint_prob3 = inference3.query(variables=['weather', 'precipitation', 'wind', 'temp_max', 'temp_min'], joint=True)"
   ]
  },
  {
   "cell_type": "code",
   "execution_count": null,
   "metadata": {},
   "outputs": [],
   "source": [
    "import pandas as pd\n",
    "import numpy as np\n",
    "import matplotlib.pyplot as plt\n",
    "import seaborn as sns\n",
    "\n",
    "def factor_to_df(factor, model_label):\n",
    "    \"\"\" Converts a DiscreteFactor object to a pandas DataFrame.\n",
    "        Flattens multi-dimensional joint probability arrays and labels each entry.\n",
    "    \"\"\"\n",
    "    # Flatten the factor values and create a product of state names for indexing\n",
    "    flat_values = factor.values.flatten()\n",
    "    index = pd.MultiIndex.from_product(factor.state_names.values(), names=factor.variables)\n",
    "    df = pd.DataFrame(flat_values, index=index, columns=['probability'])\n",
    "    df = df.reset_index()\n",
    "    df['Model'] = model_label  # Assigning model label\n",
    "    return df\n",
    "\n",
    "# Assume joint_prob1, joint_prob2, joint_prob3 are defined DiscreteFactor objects\n",
    "df1 = factor_to_df(joint_prob1, 'Fig1')\n",
    "df2 = factor_to_df(joint_prob2, 'Fig2')\n",
    "df3 = factor_to_df(joint_prob3, 'Fig3')\n",
    "\n",
    "# Concatenate all DataFrames into one DataFrame for visualization\n",
    "all_samples = pd.concat([df1, df2, df3])\n",
    "\n",
    "# Bar plot of Temp_max frequencies across models\n",
    "plt.figure(figsize=(12, 6))\n",
    "sns.barplot(x='temp_max', y='probability', hue='Model', data=all_samples)\n",
    "plt.title('Comparison of Temp_max Probabilities Across Models')\n",
    "plt.xlabel('Temp_max Value')\n",
    "plt.ylabel('Probability')\n",
    "plt.legend(title='Model')\n",
    "plt.show()\n",
    "\n",
    "# Density Plot of Temp_max across models\n",
    "plt.figure(figsize=(12, 6))\n",
    "sns.histplot(data=all_samples, x='temp_max', hue='Model', multiple=\"dodge\", shrink=0.8)\n",
    "plt.title('Histogram of Temp_max Across Models')\n",
    "plt.xlabel('Temp_max Category')\n",
    "plt.ylabel('Count')\n",
    "plt.legend(title='Model')\n",
    "plt.show()\n",
    "\n",
    "\n"
   ]
  },
  {
   "cell_type": "code",
   "execution_count": null,
   "metadata": {},
   "outputs": [],
   "source": [
    "sampler1 = BayesianModelSampling(modelfig1)\n",
    "samples1 = sampler1.forward_sample(size=10000)\n",
    "\n",
    "sampler2 = BayesianModelSampling(modelfig2)\n",
    "samples2 = sampler2.forward_sample(size=10000)\n",
    "\n",
    "sampler3 = BayesianModelSampling(modelfig3)\n",
    "samples3 = sampler3.forward_sample(size=10000)"
   ]
  },
  {
   "cell_type": "code",
   "execution_count": null,
   "metadata": {},
   "outputs": [],
   "source": [
    "import pandas as pd\n",
    "\n",
    "# Convert the samples to pandas DataFrames for easier manipulation\n",
    "df1 = pd.DataFrame(samples1)\n",
    "df2 = pd.DataFrame(samples2)\n",
    "df3 = pd.DataFrame(samples3)\n",
    "\n",
    "# Add a model label for easier plotting and analysis\n",
    "df1['Model'] = 'Fig1'\n",
    "df2['Model'] = 'Fig2'\n",
    "df3['Model'] = 'Fig3'\n",
    "\n",
    "# Concatenate all samples into one DataFrame\n",
    "all_samples = pd.concat([df1, df2, df3])\n"
   ]
  },
  {
   "cell_type": "code",
   "execution_count": null,
   "metadata": {},
   "outputs": [],
   "source": [
    "import seaborn as sns\n",
    "import matplotlib.pyplot as plt\n",
    "\n",
    "# Visualize the distribution of Temp_max across different models\n",
    "plt.figure(figsize=(12, 6))\n",
    "sns.histplot(data=all_samples, x='temp_max', hue='Model', element='step', stat='density', common_norm=False)\n",
    "plt.title('Density Plot of Temp_max Across Models')\n",
    "plt.xlabel('Temp_max')\n",
    "plt.ylabel('Density')\n",
    "plt.show()\n",
    "\n",
    "# Visualize the distribution of Temp_min similarly\n",
    "plt.figure(figsize=(12, 6))\n",
    "sns.histplot(data=all_samples, x='temp_min', hue='Model', element='step', stat='density', common_norm=False)\n",
    "plt.title('Density Plot of Temp_min Across Models')\n",
    "plt.xlabel('Temp_min')\n",
    "plt.ylabel('Density')\n",
    "plt.show()\n"
   ]
  },
  {
   "cell_type": "code",
   "execution_count": null,
   "metadata": {},
   "outputs": [],
   "source": []
  }
 ],
 "metadata": {
  "colab": {
   "provenance": []
  },
  "kernelspec": {
   "display_name": "Python 3 (ipykernel)",
   "language": "python",
   "name": "python3"
  },
  "language_info": {
   "codemirror_mode": {
    "name": "ipython",
    "version": 3
   },
   "file_extension": ".py",
   "mimetype": "text/x-python",
   "name": "python",
   "nbconvert_exporter": "python",
   "pygments_lexer": "ipython3",
   "version": "3.12.3"
  }
 },
 "nbformat": 4,
 "nbformat_minor": 1
}
