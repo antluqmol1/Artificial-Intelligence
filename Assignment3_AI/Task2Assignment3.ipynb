{
 "cells": [
  {
   "cell_type": "code",
   "execution_count": 1,
   "metadata": {
    "id": "_Dnf0jwzsoK8"
   },
   "outputs": [
    {
     "name": "stderr",
     "output_type": "stream",
     "text": [
      "c:\\Users\\Antonio Luque\\AppData\\Local\\Programs\\Python\\Python312\\Lib\\site-packages\\tqdm\\auto.py:21: TqdmWarning: IProgress not found. Please update jupyter and ipywidgets. See https://ipywidgets.readthedocs.io/en/stable/user_install.html\n",
      "  from .autonotebook import tqdm as notebook_tqdm\n"
     ]
    }
   ],
   "source": [
    "# Including the necessary libraries\n",
    "import numpy as np\n",
    "import pandas as pd\n",
    "import seaborn as sns\n",
    "import matplotlib.pyplot as plt\n",
    "\n",
    "from pgmpy.models import BayesianNetwork\n",
    "from pgmpy.factors.discrete import TabularCPD"
   ]
  },
  {
   "cell_type": "markdown",
   "metadata": {
    "id": "8kDXvpvVtFNJ"
   },
   "source": [
    "# Factoring the dataset"
   ]
  },
  {
   "cell_type": "code",
   "execution_count": 2,
   "metadata": {
    "colab": {
     "base_uri": "https://localhost:8080/",
     "height": 206
    },
    "id": "j1UBAX640ozx",
    "outputId": "338206b0-408e-4c58-d0bc-cff2efc89adf"
   },
   "outputs": [
    {
     "name": "stdout",
     "output_type": "stream",
     "text": [
      "             TIMESTAMP  RECORD  BattV_Min  Air_temp_Act  Rel_Humidity_act  \\\n",
      "0  2023-03-15 19:40:00   11445      11.98          -0.9              63.1   \n",
      "1  2023-03-15 19:41:00   11446      11.98          -0.9              62.7   \n",
      "2  2023-03-15 19:42:00   11447      11.98          -0.9              65.8   \n",
      "3  2023-03-15 19:43:00   11448      11.98          -0.8              64.2   \n",
      "4  2023-03-15 19:44:00   11449      11.98          -0.8              66.2   \n",
      "\n",
      "   Rel_Air_Pressure  Wind_Speed_avg  Wind_Speed_max  Wind_Direction_vct  \\\n",
      "0            1001.0             3.5             5.2               142.5   \n",
      "1            1001.0             3.3             5.2               141.3   \n",
      "2            1001.0             3.4             5.2               147.8   \n",
      "3            1001.0             3.3             5.3               160.4   \n",
      "4            1001.0             3.2             5.3               174.7   \n",
      "\n",
      "   reserved  ...  Wind_Direction_max  Specific_Enthalpy_act  Rain_mV  \\\n",
      "0      -2.9  ...               138.1                    4.8      NAN   \n",
      "1      -2.9  ...               138.1                    4.7      NAN   \n",
      "2      -2.7  ...               137.9                    5.0      NAN   \n",
      "3      -2.8  ...               196.8                    4.9      NAN   \n",
      "4      -2.6  ...               196.8                    5.2      NAN   \n",
      "\n",
      "   QLI_pyrgeo_upper_Avg  QLO_pyrgeo_lower_Avg  QLI_ukorr_pyrgeo_upper_Avg  \\\n",
      "0              290.0500              312.8417                   -29.27154   \n",
      "1              289.2050              313.2933                   -30.24712   \n",
      "2              286.8066              313.2316                   -32.78797   \n",
      "3              283.4300              313.0833                   -36.33519   \n",
      "4              280.7167              313.1100                   -39.20926   \n",
      "\n",
      "   QLO_ukorr_pyrgeo_lower_Avg  QSI_pyrano_upper_Avg  QSO_pyrano_lower_Avg  \\\n",
      "0                   -6.468090             -3.816667             -3.903333   \n",
      "1                   -6.155721             -3.853333             -3.481667   \n",
      "2                   -6.361559             -3.898333             -4.116666   \n",
      "3                   -6.676104             -4.071666             -3.746666   \n",
      "4                   -6.815017             -4.230000             -3.750000   \n",
      "\n",
      "   TIQL_Sensortemp_Avg  \n",
      "0             0.800000  \n",
      "1             0.800000  \n",
      "2             0.856667  \n",
      "3             0.900000  \n",
      "4             0.900000  \n",
      "\n",
      "[5 rows x 31 columns]\n"
     ]
    },
    {
     "name": "stderr",
     "output_type": "stream",
     "text": [
      "C:\\Users\\Antonio Luque\\AppData\\Local\\Temp\\ipykernel_11252\\1533437569.py:2: DtypeWarning: Columns (23) have mixed types. Specify dtype option on import or set low_memory=False.\n",
      "  df = pd.read_csv('./SPRICE_Norwegian_Maritime_Data.csv')\n"
     ]
    }
   ],
   "source": [
    "# Import the dataset\n",
    "df = pd.read_csv('./SPRICE_Norwegian_Maritime_Data.csv')\n",
    "\n",
    "# Display the first few rows of the dataframe\n",
    "print(df.head())\n",
    "\n"
   ]
  },
  {
   "cell_type": "code",
   "execution_count": 3,
   "metadata": {
    "colab": {
     "base_uri": "https://localhost:8080/"
    },
    "id": "nFIlg96M0qH1",
    "outputId": "36b3b9f8-9c4b-454f-c811-a77c6c513354"
   },
   "outputs": [
    {
     "name": "stdout",
     "output_type": "stream",
     "text": [
      "<class 'pandas.core.frame.DataFrame'>\n",
      "RangeIndex: 276079 entries, 0 to 276078\n",
      "Data columns (total 31 columns):\n",
      " #   Column                       Non-Null Count   Dtype  \n",
      "---  ------                       --------------   -----  \n",
      " 0   TIMESTAMP                    276079 non-null  object \n",
      " 1   RECORD                       276079 non-null  int64  \n",
      " 2   BattV_Min                    276079 non-null  float64\n",
      " 3   Air_temp_Act                 276079 non-null  float64\n",
      " 4   Rel_Humidity_act             276079 non-null  float64\n",
      " 5   Rel_Air_Pressure             276079 non-null  float64\n",
      " 6   Wind_Speed_avg               276079 non-null  float64\n",
      " 7   Wind_Speed_max               276079 non-null  float64\n",
      " 8   Wind_Direction_vct           276079 non-null  float64\n",
      " 9   reserved                     276079 non-null  float64\n",
      " 10  Precipitation_Type           276079 non-null  int64  \n",
      " 11  Precipitation_Intensity      276079 non-null  float64\n",
      " 12  Dew_Point_act                276079 non-null  float64\n",
      " 13  Wind_chill_Temperature_act   276079 non-null  float64\n",
      " 14  Amount_of_Precip_difference  276079 non-null  float64\n",
      " 15  Wind_Speed_act               276079 non-null  float64\n",
      " 16  Wind_Speed_min               276079 non-null  float64\n",
      " 17  Wind_Speed_vct               276079 non-null  float64\n",
      " 18  Wet_Bulb_Temperature_act     276079 non-null  float64\n",
      " 19  Wind_Direction_act           276079 non-null  float64\n",
      " 20  Wind_Direction_min           276079 non-null  float64\n",
      " 21  Wind_Direction_max           276079 non-null  float64\n",
      " 22  Specific_Enthalpy_act        276079 non-null  float64\n",
      " 23  Rain_mV                      276079 non-null  object \n",
      " 24  QLI_pyrgeo_upper_Avg         276079 non-null  float64\n",
      " 25  QLO_pyrgeo_lower_Avg         276079 non-null  float64\n",
      " 26  QLI_ukorr_pyrgeo_upper_Avg   276079 non-null  float64\n",
      " 27  QLO_ukorr_pyrgeo_lower_Avg   276079 non-null  float64\n",
      " 28  QSI_pyrano_upper_Avg         276079 non-null  float64\n",
      " 29  QSO_pyrano_lower_Avg         276079 non-null  float64\n",
      " 30  TIQL_Sensortemp_Avg          276079 non-null  float64\n",
      "dtypes: float64(27), int64(2), object(2)\n",
      "memory usage: 65.3+ MB\n"
     ]
    }
   ],
   "source": [
    "# Get information about the dataset, including data types and missing values\n",
    "df.info()\n"
   ]
  },
  {
   "cell_type": "code",
   "execution_count": 4,
   "metadata": {
    "colab": {
     "base_uri": "https://localhost:8080/"
    },
    "id": "J4-9pU7v9xCI",
    "outputId": "b245bb96-df16-40bc-aa50-805e0efa1ec4"
   },
   "outputs": [
    {
     "name": "stdout",
     "output_type": "stream",
     "text": [
      "Unique Precipitation Types: [ 0 70 60]\n"
     ]
    }
   ],
   "source": [
    "# Check for unique values in a specific column such as 'Precipitation_Type'\n",
    "unique_precip_types = df['Precipitation_Type'].unique()\n",
    "print(\"Unique Precipitation Types:\", unique_precip_types)"
   ]
  },
  {
   "cell_type": "code",
   "execution_count": 5,
   "metadata": {
    "colab": {
     "base_uri": "https://localhost:8080/",
     "height": 300
    },
    "id": "yHMgO4oF0tUI",
    "outputId": "851f538c-c6f9-40c9-e3ff-66e0c857543b"
   },
   "outputs": [
    {
     "name": "stdout",
     "output_type": "stream",
     "text": [
      "              RECORD      BattV_Min   Air_temp_Act  Rel_Humidity_act  \\\n",
      "count  276079.000000  276079.000000  276079.000000     276079.000000   \n",
      "mean    92999.121273      11.997737       9.406435         72.431792   \n",
      "std     60815.197658       0.017379       6.125171         14.889859   \n",
      "min         0.000000      11.960000      -8.100000         20.900000   \n",
      "25%     40232.500000      11.980000       5.600000         62.200000   \n",
      "50%     79770.000000      11.990000      10.500000         74.400000   \n",
      "75%    144539.500000      12.020000      13.600000         84.800000   \n",
      "max    213617.000000      12.030000      28.500000         99.800000   \n",
      "\n",
      "       Rel_Air_Pressure  Wind_Speed_avg  Wind_Speed_max  Wind_Direction_vct  \\\n",
      "count     276079.000000   276079.000000   276079.000000       276079.000000   \n",
      "mean        1011.086362        3.073275        5.158719          157.555982   \n",
      "std            9.171344        2.813344        4.331517           97.793623   \n",
      "min          988.200000        0.000000        0.000000            0.000000   \n",
      "25%         1003.800000        1.000000        1.900000           58.300000   \n",
      "50%         1011.200000        2.100000        3.700000          179.000000   \n",
      "75%         1017.600000        4.200000        7.100000          219.600000   \n",
      "max         1037.000000       17.700000       32.100000          360.000000   \n",
      "\n",
      "            reserved  Precipitation_Type  ...  Wind_Direction_min  \\\n",
      "count  276079.000000       276079.000000  ...       276079.000000   \n",
      "mean        7.079150            8.536289  ...          109.582830   \n",
      "std         5.800812           21.312843  ...          113.941913   \n",
      "min        -9.700000            0.000000  ...            0.000000   \n",
      "25%         3.300000            0.000000  ...            0.000000   \n",
      "50%         8.100000            0.000000  ...           68.400000   \n",
      "75%        11.900000            0.000000  ...          206.900000   \n",
      "max        20.700000           70.000000  ...          360.000000   \n",
      "\n",
      "       Wind_Direction_max  Specific_Enthalpy_act  QLI_pyrgeo_upper_Avg  \\\n",
      "count       276079.000000          276079.000000         276079.000000   \n",
      "mean           165.454505              23.884348            319.662330   \n",
      "std             94.880529              11.778834             44.347611   \n",
      "min              0.000000              -5.200000            184.181700   \n",
      "25%             69.300000              15.300000            297.156600   \n",
      "50%            183.900000              25.000000            326.860000   \n",
      "75%            222.300000              33.800000            353.130000   \n",
      "max            360.000000              59.700000            430.958300   \n",
      "\n",
      "       QLO_pyrgeo_lower_Avg  QLI_ukorr_pyrgeo_upper_Avg  \\\n",
      "count         276079.000000               276079.000000   \n",
      "mean             361.945175                  -49.298899   \n",
      "std               30.047684                   31.655038   \n",
      "min              292.153300                 -125.171900   \n",
      "25%              340.045000                  -78.778805   \n",
      "50%              364.741700                  -38.073560   \n",
      "75%              382.189150                  -22.755435   \n",
      "max              471.398300                   36.033510   \n",
      "\n",
      "       QLO_ukorr_pyrgeo_lower_Avg  QSI_pyrano_upper_Avg  QSO_pyrano_lower_Avg  \\\n",
      "count               276079.000000         276079.000000         276079.000000   \n",
      "mean                    -7.016038             99.943873             16.436398   \n",
      "std                     10.051077            140.141324             25.452052   \n",
      "min                    -52.156630            -12.816670            -14.416670   \n",
      "25%                    -12.959995             -0.428333             -0.616667   \n",
      "50%                     -6.396883             41.956670              6.636666   \n",
      "75%                     -0.610439            140.765850             23.976670   \n",
      "max                     33.839210            838.576600            139.533300   \n",
      "\n",
      "       TIQL_Sensortemp_Avg  \n",
      "count        276079.000000  \n",
      "mean             10.683583  \n",
      "std               5.961017  \n",
      "min              -6.400000  \n",
      "25%               7.099999  \n",
      "50%              11.573330  \n",
      "75%              14.500000  \n",
      "max              29.000000  \n",
      "\n",
      "[8 rows x 29 columns]\n"
     ]
    }
   ],
   "source": [
    "# Describe the dataset to get statistical summaries for numerical columns\n",
    "print(df.describe())"
   ]
  },
  {
   "cell_type": "code",
   "execution_count": 6,
   "metadata": {
    "id": "pD6zggr40w1R"
   },
   "outputs": [
    {
     "name": "stdout",
     "output_type": "stream",
     "text": [
      "             TIMESTAMP  Precipitation_Type\n",
      "0  2023-03-15 19:40:00                   0\n",
      "1  2023-03-15 19:41:00                   0\n",
      "2  2023-03-15 19:42:00                   0\n",
      "3  2023-03-15 19:43:00                   0\n",
      "4  2023-03-15 19:44:00                   0\n",
      "   Air_temp_Act  Rel_Humidity_act  Rel_Air_Pressure  Wind_Speed_avg\n",
      "0          -0.9              63.1            1001.0             3.5\n",
      "1          -0.9              62.7            1001.0             3.3\n",
      "2          -0.9              65.8            1001.0             3.4\n",
      "3          -0.8              64.2            1001.0             3.3\n",
      "4          -0.8              66.2            1001.0             3.2\n"
     ]
    }
   ],
   "source": [
    "# Identify categorical and continuous variables\n",
    "categorical_vars = ['TIMESTAMP', 'Precipitation_Type']\n",
    "continuous_vars = ['Air_temp_Act', 'Rel_Humidity_act', 'Rel_Air_Pressure', 'Wind_Speed_avg']\n",
    "\n",
    "# Create separate DataFrames for categorical and continuous variables\n",
    "df_categorical = df[categorical_vars].copy()\n",
    "df_continuous = df[continuous_vars].copy()\n",
    "\n",
    "print(df_categorical.head())\n",
    "print(df_continuous.head())"
   ]
  },
  {
   "cell_type": "code",
   "execution_count": 7,
   "metadata": {
    "id": "lqmWkjP80yd-"
   },
   "outputs": [],
   "source": [
    "# Define new columns that are of interest and filter the DataFrame\n",
    "new_columns = ['TIMESTAMP', 'Air_temp_Act', 'Rel_Humidity_act', 'Rel_Air_Pressure', 'Wind_Speed_avg', 'Precipitation_Type']\n",
    "df_selected = df[new_columns].copy()"
   ]
  },
  {
   "cell_type": "markdown",
   "metadata": {
    "id": "TLtIxsxL01vX"
   },
   "source": [
    "### Create new dataframe"
   ]
  },
  {
   "cell_type": "code",
   "execution_count": 8,
   "metadata": {
    "id": "rSVcV5pL01_x"
   },
   "outputs": [
    {
     "name": "stdout",
     "output_type": "stream",
     "text": [
      "Empty DataFrame\n",
      "Columns: [TIMESTAMP, Air_temp_Act, Rel_Humidity_act, Rel_Air_Pressure, Wind_Speed_avg, Precipitation_Type]\n",
      "Index: []\n"
     ]
    }
   ],
   "source": [
    "# Handling missing data - show all rows with any missing data\n",
    "print(df_selected[df_selected.isnull().any(axis=1)])"
   ]
  },
  {
   "cell_type": "code",
   "execution_count": 9,
   "metadata": {
    "colab": {
     "base_uri": "https://localhost:8080/",
     "height": 206
    },
    "id": "YDZTIG8w06pU",
    "outputId": "b162c88d-a4fc-4f02-83df-8d6c28a99a60"
   },
   "outputs": [
    {
     "name": "stdout",
     "output_type": "stream",
     "text": [
      "             TIMESTAMP  RECORD  BattV_Min Air_temp_Act Rel_Humidity_act  \\\n",
      "0  2023-03-15 19:40:00   11445      11.98          low              mid   \n",
      "1  2023-03-15 19:41:00   11446      11.98          low              mid   \n",
      "2  2023-03-15 19:42:00   11447      11.98          low              mid   \n",
      "3  2023-03-15 19:43:00   11448      11.98          low              mid   \n",
      "4  2023-03-15 19:44:00   11449      11.98          low              mid   \n",
      "\n",
      "  Rel_Air_Pressure Wind_Speed_avg  Wind_Speed_max  Wind_Direction_vct  \\\n",
      "0              low            mid             5.2               142.5   \n",
      "1              low            mid             5.2               141.3   \n",
      "2              low            mid             5.2               147.8   \n",
      "3              low            mid             5.3               160.4   \n",
      "4              low            mid             5.3               174.7   \n",
      "\n",
      "   reserved  ...  Wind_Direction_max  Specific_Enthalpy_act  Rain_mV  \\\n",
      "0      -2.9  ...               138.1                    4.8      NAN   \n",
      "1      -2.9  ...               138.1                    4.7      NAN   \n",
      "2      -2.7  ...               137.9                    5.0      NAN   \n",
      "3      -2.8  ...               196.8                    4.9      NAN   \n",
      "4      -2.6  ...               196.8                    5.2      NAN   \n",
      "\n",
      "   QLI_pyrgeo_upper_Avg  QLO_pyrgeo_lower_Avg  QLI_ukorr_pyrgeo_upper_Avg  \\\n",
      "0              290.0500              312.8417                   -29.27154   \n",
      "1              289.2050              313.2933                   -30.24712   \n",
      "2              286.8066              313.2316                   -32.78797   \n",
      "3              283.4300              313.0833                   -36.33519   \n",
      "4              280.7167              313.1100                   -39.20926   \n",
      "\n",
      "   QLO_ukorr_pyrgeo_lower_Avg  QSI_pyrano_upper_Avg  QSO_pyrano_lower_Avg  \\\n",
      "0                   -6.468090             -3.816667             -3.903333   \n",
      "1                   -6.155721             -3.853333             -3.481667   \n",
      "2                   -6.361559             -3.898333             -4.116666   \n",
      "3                   -6.676104             -4.071666             -3.746666   \n",
      "4                   -6.815017             -4.230000             -3.750000   \n",
      "\n",
      "   TIQL_Sensortemp_Avg  \n",
      "0             0.800000  \n",
      "1             0.800000  \n",
      "2             0.856667  \n",
      "3             0.900000  \n",
      "4             0.900000  \n",
      "\n",
      "[5 rows x 31 columns]\n"
     ]
    }
   ],
   "source": [
    "# Standard deviation threshold for binning continuous variables\n",
    "num_std_dev = 1\n",
    "\n",
    "# Labels dictionary for binning continuous variables\n",
    "labels = {\n",
    "    'Air_temp_Act': ['low', 'mid', 'high'],\n",
    "    'Rel_Humidity_act': ['low', 'mid', 'high'],\n",
    "    'Rel_Air_Pressure': ['low', 'mid', 'high'],\n",
    "    'Wind_Speed_avg': ['low', 'mid', 'high']\n",
    "}\n",
    "\n",
    "# Create bounds for continuous labels and categorize data\n",
    "for col in labels:\n",
    "    col_mean = df[col].mean()\n",
    "    col_std = df[col].std()\n",
    "    lower_bound = col_mean - col_std * num_std_dev\n",
    "    upper_bound = col_mean + col_std * num_std_dev\n",
    "    bins = [-np.inf, lower_bound, upper_bound, np.inf]\n",
    "    df[col] = pd.cut(df[col], bins=bins, labels=labels[col])\n",
    "\n",
    "# Display updated DataFrame with binned categories\n",
    "print(df.head())"
   ]
  },
  {
   "cell_type": "markdown",
   "metadata": {
    "id": "eG6lW2LPsspt"
   },
   "source": [
    "# Creating Bayes Nets"
   ]
  },
  {
   "attachments": {
    "image.png": {
     "image/png": "[encoded data removed]"
    }
   },
   "cell_type": "markdown",
   "metadata": {},
   "source": [
    "![image.png](attachment:image.png)"
   ]
  },
  {
   "cell_type": "code",
   "execution_count": 10,
   "metadata": {
    "id": "4jLlqnOisqre"
   },
   "outputs": [],
   "source": [
    "\n",
    "# Define the hierarchy of the network\n",
    "bn_model = BayesianNetwork([\n",
    "    ('Air_temp_Act', 'Rel_Humidity_act'), ('Air_temp_Act', 'Wind_Speed_avg'),\n",
    "    ('Rel_Humidity_act', 'Rel_Air_Pressure'),\n",
    "    ('Wind_Speed_avg', 'Rel_Air_Pressure')\n",
    "])\n",
    "\n",
    "# Define state names for each variable\n",
    "air_temp_states = ['low', 'mid', 'high']\n",
    "rel_humidity_states = ['low', 'mid', 'high']\n",
    "wind_speed_states = ['low', 'mid', 'high']\n",
    "rel_air_pressure_states = ['low', 'mid', 'high']\n",
    "\n"
   ]
  },
  {
   "cell_type": "code",
   "execution_count": 11,
   "metadata": {
    "id": "YfJQrK90s1mh"
   },
   "outputs": [
    {
     "name": "stdout",
     "output_type": "stream",
     "text": [
      "CPD Matrices:\n",
      "Rel_Humidity_act:\n",
      "[[0.33985126 0.11184171 0.32255648]\n",
      " [0.58889617 0.65490155 0.65793732]\n",
      " [0.07125257 0.23325675 0.0195062 ]]\n",
      "\n",
      "Wind_Speed_avg:\n",
      "[[0.33985126 0.11184171 0.32255648]\n",
      " [0.58889617 0.65490155 0.65793732]\n",
      " [0.07125257 0.23325675 0.0195062 ]]\n",
      "\n",
      "Rel_Air_Pressure:\n",
      "[[0.07365439 0.22143663 0.40393129 0.04446915 0.13053691 0.22588053\n",
      "  0.18278368 0.17845758 0.18703507]\n",
      " [0.71671388 0.55352279 0.46325483 0.80016676 0.66675728 0.66570717\n",
      "  0.74063723 0.73181751 0.74176408]\n",
      " [0.20963173 0.22504058 0.13281388 0.15536409 0.20270581 0.1084123\n",
      "  0.07657909 0.08972491 0.07120085]]\n",
      "\n"
     ]
    },
    {
     "name": "stderr",
     "output_type": "stream",
     "text": [
      "C:\\Users\\Antonio Luque\\AppData\\Local\\Temp\\ipykernel_11252\\2376378008.py:21: FutureWarning: The default of observed=False is deprecated and will be changed to True in a future version of pandas. Pass observed=False to retain current behavior or observed=True to adopt the future default and silence this warning.\n",
      "  humidity_given_temp = df.groupby('Air_temp_Act')['Rel_Humidity_act'].value_counts(normalize=True).unstack(fill_value=0)\n",
      "C:\\Users\\Antonio Luque\\AppData\\Local\\Temp\\ipykernel_11252\\2376378008.py:25: FutureWarning: The default of observed=False is deprecated and will be changed to True in a future version of pandas. Pass observed=False to retain current behavior or observed=True to adopt the future default and silence this warning.\n",
      "  wind_speed_given_temp = df.groupby('Air_temp_Act')['Wind_Speed_avg'].value_counts(normalize=True).unstack(fill_value=0)\n",
      "C:\\Users\\Antonio Luque\\AppData\\Local\\Temp\\ipykernel_11252\\2376378008.py:29: FutureWarning: The default of observed=False is deprecated and will be changed to True in a future version of pandas. Pass observed=False to retain current behavior or observed=True to adopt the future default and silence this warning.\n",
      "  pressure_given_wind = df.groupby(['Rel_Humidity_act', 'Wind_Speed_avg'])['Rel_Air_Pressure'].value_counts(normalize=True).unstack(fill_value=0)\n"
     ]
    }
   ],
   "source": [
    "# Check if necessary columns exist to avoid KeyError\n",
    "required_columns = ['Air_temp_Act', 'Rel_Humidity_act', 'Wind_Speed_avg', 'Rel_Air_Pressure']\n",
    "if not all(col in df.columns for col in required_columns):\n",
    "    raise ValueError(\"Not all required columns are present in the dataframe.\")\n",
    "\n",
    "\n",
    "# Marginal probability of Air_temp_Act\n",
    "air_temp_counts = df['Air_temp_Act'].value_counts()\n",
    "air_temp_total = air_temp_counts.sum()\n",
    "air_temp_marginal = np.array([[count / air_temp_total] for count in air_temp_counts])\n",
    "\n",
    "# Marginal probability of Wind_Speed_avg (assuming it's a root node)\n",
    "# wind_speed_counts = df['Wind_Speed_avg'].value_counts()\n",
    "# wind_speed_total = wind_speed_counts.sum()\n",
    "# wind_speed_marginal = np.array([[count / wind_speed_total] for count in wind_speed_counts])\n",
    "\n",
    "# Create a dictionary to store CPD arrays\n",
    "cpd_dict = {}\n",
    "\n",
    "# Conditional probability of Rel_Humidity_act given Air_temp_Act\n",
    "humidity_given_temp = df.groupby('Air_temp_Act')['Rel_Humidity_act'].value_counts(normalize=True).unstack(fill_value=0)\n",
    "cpd_dict['Rel_Humidity_act'] = humidity_given_temp.reindex(columns=rel_humidity_states, fill_value=0).to_numpy().T\n",
    "\n",
    "# Conditional probability of Wind_Speed_avg given Air_temp_Act\n",
    "wind_speed_given_temp = df.groupby('Air_temp_Act')['Wind_Speed_avg'].value_counts(normalize=True).unstack(fill_value=0)\n",
    "cpd_dict['Wind_Speed_avg'] = humidity_given_temp.reindex(columns=rel_humidity_states, fill_value=0).to_numpy().T\n",
    "\n",
    "# Conditional probability of Rel_Air_Pressure given Wind_Speed_avg\n",
    "pressure_given_wind = df.groupby(['Rel_Humidity_act', 'Wind_Speed_avg'])['Rel_Air_Pressure'].value_counts(normalize=True).unstack(fill_value=0)\n",
    "cpd_dict['Rel_Air_Pressure'] = pressure_given_wind.reindex(columns=rel_air_pressure_states, fill_value=0).to_numpy().T\n",
    "\n",
    "# Fill missing states with a uniform distribution if no data is present (example for simplicity)\n",
    "for key, matrix in cpd_dict.items():\n",
    "    if np.isnan(matrix).any():\n",
    "        matrix[np.isnan(matrix)] = 1 / matrix.shape[0] # Uniform distribution for missing data\n",
    "\n",
    "# Normalize each CPD matrix\n",
    "for key, matrix in cpd_dict.items():\n",
    "    row_sums = matrix.sum(axis=0, keepdims=True)\n",
    "    cpd_dict[key] = matrix / row_sums # Normalize\n",
    "\n",
    "# Ensure matrices are stored in cpd_dict correctly\n",
    "print(\"CPD Matrices:\")\n",
    "for key, value in cpd_dict.items():\n",
    "    print(f\"{key}:\\n{value}\\n\")\n"
   ]
  },
  {
   "cell_type": "code",
   "execution_count": 12,
   "metadata": {
    "id": "WM28YMt-s2b_"
   },
   "outputs": [],
   "source": [
    "# Assuming air_temp_marginal is a numpy array of probabilities for each state\n",
    "cpd_air_temp = TabularCPD(\n",
    "    variable='Air_temp_Act', \n",
    "    variable_card=3,  # Number of categories in 'Air_temp_Act'\n",
    "    values=air_temp_marginal.reshape(3, 1),  # This should be reshaped if necessary to match (3, 1)\n",
    "    state_names={'Air_temp_Act': air_temp_states}\n",
    ")\n",
    "\n",
    "# Marginal CPD for 'Wind_Speed_avg'\n",
    "cpd_wind_speed = TabularCPD(\n",
    "    variable='Wind_Speed_avg',\n",
    "    variable_card=3,\n",
    "    values=cpd_dict['Wind_Speed_avg'],\n",
    "    evidence=['Air_temp_Act'],\n",
    "    evidence_card=[3],\n",
    "    state_names={'Wind_Speed_avg': wind_speed_states, 'Air_temp_Act': air_temp_states}\n",
    ")\n",
    "\n",
    "# Conditional CPD for 'Rel_Humidity_act' given 'Air_temp_Act'\n",
    "cpd_rel_humidity = TabularCPD(\n",
    "    variable='Rel_Humidity_act',\n",
    "    variable_card=3,\n",
    "    values=cpd_dict['Rel_Humidity_act'],\n",
    "    evidence=['Air_temp_Act'],\n",
    "    evidence_card=[3],\n",
    "    state_names={'Rel_Humidity_act': rel_humidity_states, 'Air_temp_Act': air_temp_states}\n",
    ")\n",
    "\n",
    "# Conditional CPD for 'Rel_Air_Pressure' given 'Wind_Speed_avg'\n",
    "cpd_rel_air_pressure = TabularCPD(\n",
    "    variable='Rel_Air_Pressure',\n",
    "    variable_card=3,\n",
    "    values=cpd_dict['Rel_Air_Pressure'],\n",
    "    evidence=['Rel_Humidity_act', 'Wind_Speed_avg'],\n",
    "    evidence_card=[3, 3],\n",
    "    state_names={'Rel_Air_Pressure': rel_air_pressure_states, 'Rel_Humidity_act': rel_humidity_states, 'Wind_Speed_avg': wind_speed_states}\n",
    ")\n",
    "\n"
   ]
  },
  {
   "cell_type": "code",
   "execution_count": 13,
   "metadata": {
    "id": "zrJIsmU7s_5N"
   },
   "outputs": [
    {
     "data": {
      "text/plain": [
       "True"
      ]
     },
     "execution_count": 13,
     "metadata": {},
     "output_type": "execute_result"
    }
   ],
   "source": [
    "# Add CPDs and factors to the model\n",
    "bn_model.add_cpds(cpd_air_temp, cpd_wind_speed, cpd_rel_humidity, cpd_rel_air_pressure)\n",
    "\n",
    "# Check if model is consistent\n",
    "bn_model.check_model()"
   ]
  },
  {
   "cell_type": "code",
   "execution_count": 14,
   "metadata": {
    "colab": {
     "base_uri": "https://localhost:8080/"
    },
    "id": "iWEUCooE6Y-z",
    "outputId": "6c9b3be0-c654-442b-a195-a306f902522b"
   },
   "outputs": [
    {
     "data": {
      "text/plain": [
       "NodeView(('Air_temp_Act', 'Rel_Humidity_act', 'Wind_Speed_avg', 'Rel_Air_Pressure'))"
      ]
     },
     "execution_count": 14,
     "metadata": {},
     "output_type": "execute_result"
    }
   ],
   "source": [
    "# Viewing nodes of the model\n",
    "bn_model.nodes()"
   ]
  },
  {
   "cell_type": "code",
   "execution_count": 15,
   "metadata": {
    "colab": {
     "base_uri": "https://localhost:8080/"
    },
    "id": "udgc3c0G6lTJ",
    "outputId": "a1267d64-55f1-4acc-cbee-bfbffb2e00fb"
   },
   "outputs": [
    {
     "data": {
      "text/plain": [
       "OutEdgeView([('Air_temp_Act', 'Rel_Humidity_act'), ('Air_temp_Act', 'Wind_Speed_avg'), ('Rel_Humidity_act', 'Rel_Air_Pressure'), ('Wind_Speed_avg', 'Rel_Air_Pressure')])"
      ]
     },
     "execution_count": 15,
     "metadata": {},
     "output_type": "execute_result"
    }
   ],
   "source": [
    "# Viewing edges of the model\n",
    "bn_model.edges()"
   ]
  },
  {
   "cell_type": "code",
   "execution_count": 16,
   "metadata": {
    "id": "hHv1dS0p6raG"
   },
   "outputs": [
    {
     "name": "stdout",
     "output_type": "stream",
     "text": [
      "+--------------------+----------+\n",
      "| Air_temp_Act(low)  | 0.718881 |\n",
      "+--------------------+----------+\n",
      "| Air_temp_Act(mid)  | 0.160233 |\n",
      "+--------------------+----------+\n",
      "| Air_temp_Act(high) | 0.120886 |\n",
      "+--------------------+----------+\n",
      "+----------------------+-----+---------------------+\n",
      "| Air_temp_Act         | ... | Air_temp_Act(high)  |\n",
      "+----------------------+-----+---------------------+\n",
      "| Wind_Speed_avg(low)  | ... | 0.32255648109306645 |\n",
      "+----------------------+-----+---------------------+\n",
      "| Wind_Speed_avg(mid)  | ... | 0.6579373164739019  |\n",
      "+----------------------+-----+---------------------+\n",
      "| Wind_Speed_avg(high) | ... | 0.0195062024330317  |\n",
      "+----------------------+-----+---------------------+\n"
     ]
    }
   ],
   "source": [
    "# Print the probability table of the air temperature node\n",
    "print(cpd_air_temp)\n",
    "\n",
    "# Print the probability table of the wind speed node\n",
    "print(cpd_wind_speed)"
   ]
  },
  {
   "cell_type": "code",
   "execution_count": 18,
   "metadata": {
    "id": "dSTNY8Mv7P5b"
   },
   "outputs": [
    {
     "data": {
      "text/plain": [
       "(Rel_Air_Pressure ⟂ Air_temp_Act | Wind_Speed_avg, Rel_Humidity_act)"
      ]
     },
     "execution_count": 18,
     "metadata": {},
     "output_type": "execute_result"
    }
   ],
   "source": [
    "# Independcies in the model\n",
    "bn_model.get_independencies()\n",
    "# Checking independcies of a particular node\n",
    "bn_model.local_independencies('Rel_Air_Pressure')"
   ]
  },
  {
   "cell_type": "markdown",
   "metadata": {
    "id": "DLGlLT-u1mgI"
   },
   "source": [
    "# Task 1.2"
   ]
  },
  {
   "cell_type": "code",
   "execution_count": 19,
   "metadata": {
    "id": "f7Bp2mCD1ocl"
   },
   "outputs": [],
   "source": [
    "from pgmpy.inference import VariableElimination\n",
    "inference = VariableElimination(bn_model)"
   ]
  },
  {
   "cell_type": "code",
   "execution_count": 21,
   "metadata": {
    "id": "6C1h4iFn1ut3"
   },
   "outputs": [
    {
     "name": "stdout",
     "output_type": "stream",
     "text": [
      "+------------------------+-------------------------+\n",
      "| Rel_Air_Pressure       |   phi(Rel_Air_Pressure) |\n",
      "+========================+=========================+\n",
      "| Rel_Air_Pressure(low)  |                  0.0642 |\n",
      "+------------------------+-------------------------+\n",
      "| Rel_Air_Pressure(mid)  |                  0.7687 |\n",
      "+------------------------+-------------------------+\n",
      "| Rel_Air_Pressure(high) |                  0.1671 |\n",
      "+------------------------+-------------------------+\n",
      "Probability of high air pressure when the wind speed is low: 16.7104%\n",
      "+----------------------+-----------------------+\n",
      "| Wind_Speed_avg       |   phi(Wind_Speed_avg) |\n",
      "+======================+=======================+\n",
      "| Wind_Speed_avg(low)  |                0.2778 |\n",
      "+----------------------+-----------------------+\n",
      "| Wind_Speed_avg(mid)  |                0.6673 |\n",
      "+----------------------+-----------------------+\n",
      "| Wind_Speed_avg(high) |                0.0549 |\n",
      "+----------------------+-----------------------+\n",
      "Probability of sunny weather when the wind is high: 5.4883%\n"
     ]
    }
   ],
   "source": [
    "\n",
    "# Question 1: (a) What is the probability of high air pressure when the wind speed is low? \n",
    "probs_air_pressure_by_low_wind_speed = inference.query(variables=['Rel_Air_Pressure'], evidence={'Wind_Speed_avg': 'low'})\n",
    "print(probs_air_pressure_by_low_wind_speed)\n",
    "\n",
    "prob_high_air_pressure_by_low_wind_speed = probs_air_pressure_by_low_wind_speed.values[2] * 100\n",
    "print(f\"Probability of high air pressure when the wind speed is low: {prob_high_air_pressure_by_low_wind_speed:.4f}%\")\n",
    "\n",
    "\n",
    "# (b) What is the probability of low wind speed when the air pressure is high?\n",
    "probs_wind_speed_by_high_air_pressure = inference.query(variables=['Wind_Speed_avg'], evidence={'Rel_Air_Pressure': 'high'})\n",
    "print(probs_wind_speed_by_high_air_pressure)\n",
    "\n",
    "prob_low_wind_speed_by_high_air_pressure = probs_wind_speed_by_high_air_pressure.values[2] * 100  # Convert fraction to percentage\n",
    "print(f\"Probability of sunny weather when the wind is high: {prob_low_wind_speed_by_high_air_pressure:.4f}%\")"
   ]
  },
  {
   "cell_type": "code",
   "execution_count": 23,
   "metadata": {},
   "outputs": [
    {
     "name": "stdout",
     "output_type": "stream",
     "text": [
      "+--------------------+------------------------+----------------------+------------------------+----------------------------------------------------------------------+\n",
      "| Air_temp_Act       | Rel_Humidity_act       | Wind_Speed_avg       | Rel_Air_Pressure       |   phi(Air_temp_Act,Rel_Humidity_act,Wind_Speed_avg,Rel_Air_Pressure) |\n",
      "+====================+========================+======================+========================+======================================================================+\n",
      "| Air_temp_Act(low)  | Rel_Humidity_act(low)  | Wind_Speed_avg(low)  | Rel_Air_Pressure(low)  |                                                               0.0061 |\n",
      "+--------------------+------------------------+----------------------+------------------------+----------------------------------------------------------------------+\n",
      "| Air_temp_Act(low)  | Rel_Humidity_act(low)  | Wind_Speed_avg(low)  | Rel_Air_Pressure(mid)  |                                                               0.0595 |\n",
      "+--------------------+------------------------+----------------------+------------------------+----------------------------------------------------------------------+\n",
      "| Air_temp_Act(low)  | Rel_Humidity_act(low)  | Wind_Speed_avg(low)  | Rel_Air_Pressure(high) |                                                               0.0174 |\n",
      "+--------------------+------------------------+----------------------+------------------------+----------------------------------------------------------------------+\n",
      "| Air_temp_Act(low)  | Rel_Humidity_act(low)  | Wind_Speed_avg(mid)  | Rel_Air_Pressure(low)  |                                                               0.0319 |\n",
      "+--------------------+------------------------+----------------------+------------------------+----------------------------------------------------------------------+\n",
      "| Air_temp_Act(low)  | Rel_Humidity_act(low)  | Wind_Speed_avg(mid)  | Rel_Air_Pressure(mid)  |                                                               0.0796 |\n",
      "+--------------------+------------------------+----------------------+------------------------+----------------------------------------------------------------------+\n",
      "| Air_temp_Act(low)  | Rel_Humidity_act(low)  | Wind_Speed_avg(mid)  | Rel_Air_Pressure(high) |                                                               0.0324 |\n",
      "+--------------------+------------------------+----------------------+------------------------+----------------------------------------------------------------------+\n",
      "| Air_temp_Act(low)  | Rel_Humidity_act(low)  | Wind_Speed_avg(high) | Rel_Air_Pressure(low)  |                                                               0.0070 |\n",
      "+--------------------+------------------------+----------------------+------------------------+----------------------------------------------------------------------+\n",
      "| Air_temp_Act(low)  | Rel_Humidity_act(low)  | Wind_Speed_avg(high) | Rel_Air_Pressure(mid)  |                                                               0.0081 |\n",
      "+--------------------+------------------------+----------------------+------------------------+----------------------------------------------------------------------+\n",
      "| Air_temp_Act(low)  | Rel_Humidity_act(low)  | Wind_Speed_avg(high) | Rel_Air_Pressure(high) |                                                               0.0023 |\n",
      "+--------------------+------------------------+----------------------+------------------------+----------------------------------------------------------------------+\n",
      "| Air_temp_Act(low)  | Rel_Humidity_act(mid)  | Wind_Speed_avg(low)  | Rel_Air_Pressure(low)  |                                                               0.0064 |\n",
      "+--------------------+------------------------+----------------------+------------------------+----------------------------------------------------------------------+\n",
      "| Air_temp_Act(low)  | Rel_Humidity_act(mid)  | Wind_Speed_avg(low)  | Rel_Air_Pressure(mid)  |                                                               0.1151 |\n",
      "+--------------------+------------------------+----------------------+------------------------+----------------------------------------------------------------------+\n",
      "| Air_temp_Act(low)  | Rel_Humidity_act(mid)  | Wind_Speed_avg(low)  | Rel_Air_Pressure(high) |                                                               0.0224 |\n",
      "+--------------------+------------------------+----------------------+------------------------+----------------------------------------------------------------------+\n",
      "| Air_temp_Act(low)  | Rel_Humidity_act(mid)  | Wind_Speed_avg(mid)  | Rel_Air_Pressure(low)  |                                                               0.0325 |\n",
      "+--------------------+------------------------+----------------------+------------------------+----------------------------------------------------------------------+\n",
      "| Air_temp_Act(low)  | Rel_Humidity_act(mid)  | Wind_Speed_avg(mid)  | Rel_Air_Pressure(mid)  |                                                               0.1662 |\n",
      "+--------------------+------------------------+----------------------+------------------------+----------------------------------------------------------------------+\n",
      "| Air_temp_Act(low)  | Rel_Humidity_act(mid)  | Wind_Speed_avg(mid)  | Rel_Air_Pressure(high) |                                                               0.0505 |\n",
      "+--------------------+------------------------+----------------------+------------------------+----------------------------------------------------------------------+\n",
      "| Air_temp_Act(low)  | Rel_Humidity_act(mid)  | Wind_Speed_avg(high) | Rel_Air_Pressure(low)  |                                                               0.0068 |\n",
      "+--------------------+------------------------+----------------------+------------------------+----------------------------------------------------------------------+\n",
      "| Air_temp_Act(low)  | Rel_Humidity_act(mid)  | Wind_Speed_avg(high) | Rel_Air_Pressure(mid)  |                                                               0.0201 |\n",
      "+--------------------+------------------------+----------------------+------------------------+----------------------------------------------------------------------+\n",
      "| Air_temp_Act(low)  | Rel_Humidity_act(mid)  | Wind_Speed_avg(high) | Rel_Air_Pressure(high) |                                                               0.0033 |\n",
      "+--------------------+------------------------+----------------------+------------------------+----------------------------------------------------------------------+\n",
      "| Air_temp_Act(low)  | Rel_Humidity_act(high) | Wind_Speed_avg(low)  | Rel_Air_Pressure(low)  |                                                               0.0032 |\n",
      "+--------------------+------------------------+----------------------+------------------------+----------------------------------------------------------------------+\n",
      "| Air_temp_Act(low)  | Rel_Humidity_act(high) | Wind_Speed_avg(low)  | Rel_Air_Pressure(mid)  |                                                               0.0129 |\n",
      "+--------------------+------------------------+----------------------+------------------------+----------------------------------------------------------------------+\n",
      "| Air_temp_Act(low)  | Rel_Humidity_act(high) | Wind_Speed_avg(low)  | Rel_Air_Pressure(high) |                                                               0.0013 |\n",
      "+--------------------+------------------------+----------------------+------------------------+----------------------------------------------------------------------+\n",
      "| Air_temp_Act(low)  | Rel_Humidity_act(high) | Wind_Speed_avg(mid)  | Rel_Air_Pressure(low)  |                                                               0.0054 |\n",
      "+--------------------+------------------------+----------------------+------------------------+----------------------------------------------------------------------+\n",
      "| Air_temp_Act(low)  | Rel_Humidity_act(high) | Wind_Speed_avg(mid)  | Rel_Air_Pressure(mid)  |                                                               0.0221 |\n",
      "+--------------------+------------------------+----------------------+------------------------+----------------------------------------------------------------------+\n",
      "| Air_temp_Act(low)  | Rel_Humidity_act(high) | Wind_Speed_avg(mid)  | Rel_Air_Pressure(high) |                                                               0.0027 |\n",
      "+--------------------+------------------------+----------------------+------------------------+----------------------------------------------------------------------+\n",
      "| Air_temp_Act(low)  | Rel_Humidity_act(high) | Wind_Speed_avg(high) | Rel_Air_Pressure(low)  |                                                               0.0007 |\n",
      "+--------------------+------------------------+----------------------+------------------------+----------------------------------------------------------------------+\n",
      "| Air_temp_Act(low)  | Rel_Humidity_act(high) | Wind_Speed_avg(high) | Rel_Air_Pressure(mid)  |                                                               0.0027 |\n",
      "+--------------------+------------------------+----------------------+------------------------+----------------------------------------------------------------------+\n",
      "| Air_temp_Act(low)  | Rel_Humidity_act(high) | Wind_Speed_avg(high) | Rel_Air_Pressure(high) |                                                               0.0003 |\n",
      "+--------------------+------------------------+----------------------+------------------------+----------------------------------------------------------------------+\n",
      "| Air_temp_Act(mid)  | Rel_Humidity_act(low)  | Wind_Speed_avg(low)  | Rel_Air_Pressure(low)  |                                                               0.0001 |\n",
      "+--------------------+------------------------+----------------------+------------------------+----------------------------------------------------------------------+\n",
      "| Air_temp_Act(mid)  | Rel_Humidity_act(low)  | Wind_Speed_avg(low)  | Rel_Air_Pressure(mid)  |                                                               0.0014 |\n",
      "+--------------------+------------------------+----------------------+------------------------+----------------------------------------------------------------------+\n",
      "| Air_temp_Act(mid)  | Rel_Humidity_act(low)  | Wind_Speed_avg(low)  | Rel_Air_Pressure(high) |                                                               0.0004 |\n",
      "+--------------------+------------------------+----------------------+------------------------+----------------------------------------------------------------------+\n",
      "| Air_temp_Act(mid)  | Rel_Humidity_act(low)  | Wind_Speed_avg(mid)  | Rel_Air_Pressure(low)  |                                                               0.0026 |\n",
      "+--------------------+------------------------+----------------------+------------------------+----------------------------------------------------------------------+\n",
      "| Air_temp_Act(mid)  | Rel_Humidity_act(low)  | Wind_Speed_avg(mid)  | Rel_Air_Pressure(mid)  |                                                               0.0065 |\n",
      "+--------------------+------------------------+----------------------+------------------------+----------------------------------------------------------------------+\n",
      "| Air_temp_Act(mid)  | Rel_Humidity_act(low)  | Wind_Speed_avg(mid)  | Rel_Air_Pressure(high) |                                                               0.0026 |\n",
      "+--------------------+------------------------+----------------------+------------------------+----------------------------------------------------------------------+\n",
      "| Air_temp_Act(mid)  | Rel_Humidity_act(low)  | Wind_Speed_avg(high) | Rel_Air_Pressure(low)  |                                                               0.0017 |\n",
      "+--------------------+------------------------+----------------------+------------------------+----------------------------------------------------------------------+\n",
      "| Air_temp_Act(mid)  | Rel_Humidity_act(low)  | Wind_Speed_avg(high) | Rel_Air_Pressure(mid)  |                                                               0.0019 |\n",
      "+--------------------+------------------------+----------------------+------------------------+----------------------------------------------------------------------+\n",
      "| Air_temp_Act(mid)  | Rel_Humidity_act(low)  | Wind_Speed_avg(high) | Rel_Air_Pressure(high) |                                                               0.0006 |\n",
      "+--------------------+------------------------+----------------------+------------------------+----------------------------------------------------------------------+\n",
      "| Air_temp_Act(mid)  | Rel_Humidity_act(mid)  | Wind_Speed_avg(low)  | Rel_Air_Pressure(low)  |                                                               0.0005 |\n",
      "+--------------------+------------------------+----------------------+------------------------+----------------------------------------------------------------------+\n",
      "| Air_temp_Act(mid)  | Rel_Humidity_act(mid)  | Wind_Speed_avg(low)  | Rel_Air_Pressure(mid)  |                                                               0.0094 |\n",
      "+--------------------+------------------------+----------------------+------------------------+----------------------------------------------------------------------+\n",
      "| Air_temp_Act(mid)  | Rel_Humidity_act(mid)  | Wind_Speed_avg(low)  | Rel_Air_Pressure(high) |                                                               0.0018 |\n",
      "+--------------------+------------------------+----------------------+------------------------+----------------------------------------------------------------------+\n",
      "| Air_temp_Act(mid)  | Rel_Humidity_act(mid)  | Wind_Speed_avg(mid)  | Rel_Air_Pressure(low)  |                                                               0.0090 |\n",
      "+--------------------+------------------------+----------------------+------------------------+----------------------------------------------------------------------+\n",
      "| Air_temp_Act(mid)  | Rel_Humidity_act(mid)  | Wind_Speed_avg(mid)  | Rel_Air_Pressure(mid)  |                                                               0.0458 |\n",
      "+--------------------+------------------------+----------------------+------------------------+----------------------------------------------------------------------+\n",
      "| Air_temp_Act(mid)  | Rel_Humidity_act(mid)  | Wind_Speed_avg(mid)  | Rel_Air_Pressure(high) |                                                               0.0139 |\n",
      "+--------------------+------------------------+----------------------+------------------------+----------------------------------------------------------------------+\n",
      "| Air_temp_Act(mid)  | Rel_Humidity_act(mid)  | Wind_Speed_avg(high) | Rel_Air_Pressure(low)  |                                                               0.0055 |\n",
      "+--------------------+------------------------+----------------------+------------------------+----------------------------------------------------------------------+\n",
      "| Air_temp_Act(mid)  | Rel_Humidity_act(mid)  | Wind_Speed_avg(high) | Rel_Air_Pressure(mid)  |                                                               0.0163 |\n",
      "+--------------------+------------------------+----------------------+------------------------+----------------------------------------------------------------------+\n",
      "| Air_temp_Act(mid)  | Rel_Humidity_act(mid)  | Wind_Speed_avg(high) | Rel_Air_Pressure(high) |                                                               0.0027 |\n",
      "+--------------------+------------------------+----------------------+------------------------+----------------------------------------------------------------------+\n",
      "| Air_temp_Act(mid)  | Rel_Humidity_act(high) | Wind_Speed_avg(low)  | Rel_Air_Pressure(low)  |                                                               0.0008 |\n",
      "+--------------------+------------------------+----------------------+------------------------+----------------------------------------------------------------------+\n",
      "| Air_temp_Act(mid)  | Rel_Humidity_act(high) | Wind_Speed_avg(low)  | Rel_Air_Pressure(mid)  |                                                               0.0031 |\n",
      "+--------------------+------------------------+----------------------+------------------------+----------------------------------------------------------------------+\n",
      "| Air_temp_Act(mid)  | Rel_Humidity_act(high) | Wind_Speed_avg(low)  | Rel_Air_Pressure(high) |                                                               0.0003 |\n",
      "+--------------------+------------------------+----------------------+------------------------+----------------------------------------------------------------------+\n",
      "| Air_temp_Act(mid)  | Rel_Humidity_act(high) | Wind_Speed_avg(mid)  | Rel_Air_Pressure(low)  |                                                               0.0044 |\n",
      "+--------------------+------------------------+----------------------+------------------------+----------------------------------------------------------------------+\n",
      "| Air_temp_Act(mid)  | Rel_Humidity_act(high) | Wind_Speed_avg(mid)  | Rel_Air_Pressure(mid)  |                                                               0.0179 |\n",
      "+--------------------+------------------------+----------------------+------------------------+----------------------------------------------------------------------+\n",
      "| Air_temp_Act(mid)  | Rel_Humidity_act(high) | Wind_Speed_avg(mid)  | Rel_Air_Pressure(high) |                                                               0.0022 |\n",
      "+--------------------+------------------------+----------------------+------------------------+----------------------------------------------------------------------+\n",
      "| Air_temp_Act(mid)  | Rel_Humidity_act(high) | Wind_Speed_avg(high) | Rel_Air_Pressure(low)  |                                                               0.0016 |\n",
      "+--------------------+------------------------+----------------------+------------------------+----------------------------------------------------------------------+\n",
      "| Air_temp_Act(mid)  | Rel_Humidity_act(high) | Wind_Speed_avg(high) | Rel_Air_Pressure(mid)  |                                                               0.0065 |\n",
      "+--------------------+------------------------+----------------------+------------------------+----------------------------------------------------------------------+\n",
      "| Air_temp_Act(mid)  | Rel_Humidity_act(high) | Wind_Speed_avg(high) | Rel_Air_Pressure(high) |                                                               0.0006 |\n",
      "+--------------------+------------------------+----------------------+------------------------+----------------------------------------------------------------------+\n",
      "| Air_temp_Act(high) | Rel_Humidity_act(low)  | Wind_Speed_avg(low)  | Rel_Air_Pressure(low)  |                                                               0.0009 |\n",
      "+--------------------+------------------------+----------------------+------------------------+----------------------------------------------------------------------+\n",
      "| Air_temp_Act(high) | Rel_Humidity_act(low)  | Wind_Speed_avg(low)  | Rel_Air_Pressure(mid)  |                                                               0.0090 |\n",
      "+--------------------+------------------------+----------------------+------------------------+----------------------------------------------------------------------+\n",
      "| Air_temp_Act(high) | Rel_Humidity_act(low)  | Wind_Speed_avg(low)  | Rel_Air_Pressure(high) |                                                               0.0026 |\n",
      "+--------------------+------------------------+----------------------+------------------------+----------------------------------------------------------------------+\n",
      "| Air_temp_Act(high) | Rel_Humidity_act(low)  | Wind_Speed_avg(mid)  | Rel_Air_Pressure(low)  |                                                               0.0057 |\n",
      "+--------------------+------------------------+----------------------+------------------------+----------------------------------------------------------------------+\n",
      "| Air_temp_Act(high) | Rel_Humidity_act(low)  | Wind_Speed_avg(mid)  | Rel_Air_Pressure(mid)  |                                                               0.0142 |\n",
      "+--------------------+------------------------+----------------------+------------------------+----------------------------------------------------------------------+\n",
      "| Air_temp_Act(high) | Rel_Humidity_act(low)  | Wind_Speed_avg(mid)  | Rel_Air_Pressure(high) |                                                               0.0058 |\n",
      "+--------------------+------------------------+----------------------+------------------------+----------------------------------------------------------------------+\n",
      "| Air_temp_Act(high) | Rel_Humidity_act(low)  | Wind_Speed_avg(high) | Rel_Air_Pressure(low)  |                                                               0.0003 |\n",
      "+--------------------+------------------------+----------------------+------------------------+----------------------------------------------------------------------+\n",
      "| Air_temp_Act(high) | Rel_Humidity_act(low)  | Wind_Speed_avg(high) | Rel_Air_Pressure(mid)  |                                                               0.0004 |\n",
      "+--------------------+------------------------+----------------------+------------------------+----------------------------------------------------------------------+\n",
      "| Air_temp_Act(high) | Rel_Humidity_act(low)  | Wind_Speed_avg(high) | Rel_Air_Pressure(high) |                                                               0.0001 |\n",
      "+--------------------+------------------------+----------------------+------------------------+----------------------------------------------------------------------+\n",
      "| Air_temp_Act(high) | Rel_Humidity_act(mid)  | Wind_Speed_avg(low)  | Rel_Air_Pressure(low)  |                                                               0.0011 |\n",
      "+--------------------+------------------------+----------------------+------------------------+----------------------------------------------------------------------+\n",
      "| Air_temp_Act(high) | Rel_Humidity_act(mid)  | Wind_Speed_avg(low)  | Rel_Air_Pressure(mid)  |                                                               0.0205 |\n",
      "+--------------------+------------------------+----------------------+------------------------+----------------------------------------------------------------------+\n",
      "| Air_temp_Act(high) | Rel_Humidity_act(mid)  | Wind_Speed_avg(low)  | Rel_Air_Pressure(high) |                                                               0.0040 |\n",
      "+--------------------+------------------------+----------------------+------------------------+----------------------------------------------------------------------+\n",
      "| Air_temp_Act(high) | Rel_Humidity_act(mid)  | Wind_Speed_avg(mid)  | Rel_Air_Pressure(low)  |                                                               0.0068 |\n",
      "+--------------------+------------------------+----------------------+------------------------+----------------------------------------------------------------------+\n",
      "| Air_temp_Act(high) | Rel_Humidity_act(mid)  | Wind_Speed_avg(mid)  | Rel_Air_Pressure(mid)  |                                                               0.0349 |\n",
      "+--------------------+------------------------+----------------------+------------------------+----------------------------------------------------------------------+\n",
      "| Air_temp_Act(high) | Rel_Humidity_act(mid)  | Wind_Speed_avg(mid)  | Rel_Air_Pressure(high) |                                                               0.0106 |\n",
      "+--------------------+------------------------+----------------------+------------------------+----------------------------------------------------------------------+\n",
      "| Air_temp_Act(high) | Rel_Humidity_act(mid)  | Wind_Speed_avg(high) | Rel_Air_Pressure(low)  |                                                               0.0004 |\n",
      "+--------------------+------------------------+----------------------+------------------------+----------------------------------------------------------------------+\n",
      "| Air_temp_Act(high) | Rel_Humidity_act(mid)  | Wind_Speed_avg(high) | Rel_Air_Pressure(mid)  |                                                               0.0010 |\n",
      "+--------------------+------------------------+----------------------+------------------------+----------------------------------------------------------------------+\n",
      "| Air_temp_Act(high) | Rel_Humidity_act(mid)  | Wind_Speed_avg(high) | Rel_Air_Pressure(high) |                                                               0.0002 |\n",
      "+--------------------+------------------------+----------------------+------------------------+----------------------------------------------------------------------+\n",
      "| Air_temp_Act(high) | Rel_Humidity_act(high) | Wind_Speed_avg(low)  | Rel_Air_Pressure(low)  |                                                               0.0001 |\n",
      "+--------------------+------------------------+----------------------+------------------------+----------------------------------------------------------------------+\n",
      "| Air_temp_Act(high) | Rel_Humidity_act(high) | Wind_Speed_avg(low)  | Rel_Air_Pressure(mid)  |                                                               0.0006 |\n",
      "+--------------------+------------------------+----------------------+------------------------+----------------------------------------------------------------------+\n",
      "| Air_temp_Act(high) | Rel_Humidity_act(high) | Wind_Speed_avg(low)  | Rel_Air_Pressure(high) |                                                               0.0001 |\n",
      "+--------------------+------------------------+----------------------+------------------------+----------------------------------------------------------------------+\n",
      "| Air_temp_Act(high) | Rel_Humidity_act(high) | Wind_Speed_avg(mid)  | Rel_Air_Pressure(low)  |                                                               0.0003 |\n",
      "+--------------------+------------------------+----------------------+------------------------+----------------------------------------------------------------------+\n",
      "| Air_temp_Act(high) | Rel_Humidity_act(high) | Wind_Speed_avg(mid)  | Rel_Air_Pressure(mid)  |                                                               0.0011 |\n",
      "+--------------------+------------------------+----------------------+------------------------+----------------------------------------------------------------------+\n",
      "| Air_temp_Act(high) | Rel_Humidity_act(high) | Wind_Speed_avg(mid)  | Rel_Air_Pressure(high) |                                                               0.0001 |\n",
      "+--------------------+------------------------+----------------------+------------------------+----------------------------------------------------------------------+\n",
      "| Air_temp_Act(high) | Rel_Humidity_act(high) | Wind_Speed_avg(high) | Rel_Air_Pressure(low)  |                                                               0.0000 |\n",
      "+--------------------+------------------------+----------------------+------------------------+----------------------------------------------------------------------+\n",
      "| Air_temp_Act(high) | Rel_Humidity_act(high) | Wind_Speed_avg(high) | Rel_Air_Pressure(mid)  |                                                               0.0000 |\n",
      "+--------------------+------------------------+----------------------+------------------------+----------------------------------------------------------------------+\n",
      "| Air_temp_Act(high) | Rel_Humidity_act(high) | Wind_Speed_avg(high) | Rel_Air_Pressure(high) |                                                               0.0000 |\n",
      "+--------------------+------------------------+----------------------+------------------------+----------------------------------------------------------------------+\n",
      "The most probable condition is:\n",
      "Air_temp_Act             low\n",
      "Rel_Humidity_act         mid\n",
      "Wind_Speed_avg           mid\n",
      "Rel_Air_Pressure         mid\n",
      "Probability         0.166227\n",
      "Name: 13, dtype: object\n"
     ]
    }
   ],
   "source": [
    "# Question 2:\n",
    "# (a) Calculate all the possible joint probability and determine the best probable condition. Explain your results\n",
    "joint_probability = inference.query(variables=['Air_temp_Act', 'Rel_Humidity_act', 'Wind_Speed_avg', 'Rel_Air_Pressure'])\n",
    "print(joint_probability)\n",
    "\n",
    "def factor_to_df(factor):\n",
    "    \"\"\"Converts a DiscreteFactor object to a pandas DataFrame.\"\"\"\n",
    "    # Flatten the values\n",
    "    flat_values = factor.values.flatten()\n",
    "    # Create a multi-index from the state names\n",
    "    index = pd.MultiIndex.from_product(factor.state_names.values(), names=factor.variables)\n",
    "    # Create the DataFrame\n",
    "    df = pd.DataFrame(flat_values, index=index, columns=['Probability'])\n",
    "    return df.reset_index()\n",
    "\n",
    "# Assuming 'joint_probability' is your DiscreteFactor object from pgmpy\n",
    "df = factor_to_df(joint_probability)\n",
    "\n",
    "# Find the row with the maximum probability\n",
    "max_prob_row = df.loc[df['Probability'].idxmax()]\n",
    "\n",
    "# Print the most probable condition\n",
    "print(\"The most probable condition is:\")\n",
    "print(max_prob_row)\n",
    "\n"
   ]
  },
  {
   "cell_type": "code",
   "execution_count": 25,
   "metadata": {},
   "outputs": [
    {
     "name": "stdout",
     "output_type": "stream",
     "text": [
      "+--------------------+------------------------+------------------------+-------------------------------------------------------+\n",
      "| Air_temp_Act       | Rel_Humidity_act       | Rel_Air_Pressure       |   phi(Air_temp_Act,Rel_Humidity_act,Rel_Air_Pressure) |\n",
      "+====================+========================+========================+=======================================================+\n",
      "| Air_temp_Act(low)  | Rel_Humidity_act(low)  | Rel_Air_Pressure(low)  |                                                0.0450 |\n",
      "+--------------------+------------------------+------------------------+-------------------------------------------------------+\n",
      "| Air_temp_Act(low)  | Rel_Humidity_act(low)  | Rel_Air_Pressure(mid)  |                                                0.1472 |\n",
      "+--------------------+------------------------+------------------------+-------------------------------------------------------+\n",
      "| Air_temp_Act(low)  | Rel_Humidity_act(low)  | Rel_Air_Pressure(high) |                                                0.0521 |\n",
      "+--------------------+------------------------+------------------------+-------------------------------------------------------+\n",
      "| Air_temp_Act(low)  | Rel_Humidity_act(mid)  | Rel_Air_Pressure(low)  |                                                0.0458 |\n",
      "+--------------------+------------------------+------------------------+-------------------------------------------------------+\n",
      "| Air_temp_Act(low)  | Rel_Humidity_act(mid)  | Rel_Air_Pressure(mid)  |                                                0.3014 |\n",
      "+--------------------+------------------------+------------------------+-------------------------------------------------------+\n",
      "| Air_temp_Act(low)  | Rel_Humidity_act(mid)  | Rel_Air_Pressure(high) |                                                0.0762 |\n",
      "+--------------------+------------------------+------------------------+-------------------------------------------------------+\n",
      "| Air_temp_Act(low)  | Rel_Humidity_act(high) | Rel_Air_Pressure(low)  |                                                0.0092 |\n",
      "+--------------------+------------------------+------------------------+-------------------------------------------------------+\n",
      "| Air_temp_Act(low)  | Rel_Humidity_act(high) | Rel_Air_Pressure(mid)  |                                                0.0377 |\n",
      "+--------------------+------------------------+------------------------+-------------------------------------------------------+\n",
      "| Air_temp_Act(low)  | Rel_Humidity_act(high) | Rel_Air_Pressure(high) |                                                0.0043 |\n",
      "+--------------------+------------------------+------------------------+-------------------------------------------------------+\n",
      "| Air_temp_Act(mid)  | Rel_Humidity_act(low)  | Rel_Air_Pressure(low)  |                                                0.0044 |\n",
      "+--------------------+------------------------+------------------------+-------------------------------------------------------+\n",
      "| Air_temp_Act(mid)  | Rel_Humidity_act(low)  | Rel_Air_Pressure(mid)  |                                                0.0099 |\n",
      "+--------------------+------------------------+------------------------+-------------------------------------------------------+\n",
      "| Air_temp_Act(mid)  | Rel_Humidity_act(low)  | Rel_Air_Pressure(high) |                                                0.0036 |\n",
      "+--------------------+------------------------+------------------------+-------------------------------------------------------+\n",
      "| Air_temp_Act(mid)  | Rel_Humidity_act(mid)  | Rel_Air_Pressure(low)  |                                                0.0150 |\n",
      "+--------------------+------------------------+------------------------+-------------------------------------------------------+\n",
      "| Air_temp_Act(mid)  | Rel_Humidity_act(mid)  | Rel_Air_Pressure(mid)  |                                                0.0715 |\n",
      "+--------------------+------------------------+------------------------+-------------------------------------------------------+\n",
      "| Air_temp_Act(mid)  | Rel_Humidity_act(mid)  | Rel_Air_Pressure(high) |                                                0.0184 |\n",
      "+--------------------+------------------------+------------------------+-------------------------------------------------------+\n",
      "| Air_temp_Act(mid)  | Rel_Humidity_act(high) | Rel_Air_Pressure(low)  |                                                0.0068 |\n",
      "+--------------------+------------------------+------------------------+-------------------------------------------------------+\n",
      "| Air_temp_Act(mid)  | Rel_Humidity_act(high) | Rel_Air_Pressure(mid)  |                                                0.0275 |\n",
      "+--------------------+------------------------+------------------------+-------------------------------------------------------+\n",
      "| Air_temp_Act(mid)  | Rel_Humidity_act(high) | Rel_Air_Pressure(high) |                                                0.0031 |\n",
      "+--------------------+------------------------+------------------------+-------------------------------------------------------+\n",
      "| Air_temp_Act(high) | Rel_Humidity_act(low)  | Rel_Air_Pressure(low)  |                                                0.0069 |\n",
      "+--------------------+------------------------+------------------------+-------------------------------------------------------+\n",
      "| Air_temp_Act(high) | Rel_Humidity_act(low)  | Rel_Air_Pressure(mid)  |                                                0.0236 |\n",
      "+--------------------+------------------------+------------------------+-------------------------------------------------------+\n",
      "| Air_temp_Act(high) | Rel_Humidity_act(low)  | Rel_Air_Pressure(high) |                                                0.0085 |\n",
      "+--------------------+------------------------+------------------------+-------------------------------------------------------+\n",
      "| Air_temp_Act(high) | Rel_Humidity_act(mid)  | Rel_Air_Pressure(low)  |                                                0.0083 |\n",
      "+--------------------+------------------------+------------------------+-------------------------------------------------------+\n",
      "| Air_temp_Act(high) | Rel_Humidity_act(mid)  | Rel_Air_Pressure(mid)  |                                                0.0565 |\n",
      "+--------------------+------------------------+------------------------+-------------------------------------------------------+\n",
      "| Air_temp_Act(high) | Rel_Humidity_act(mid)  | Rel_Air_Pressure(high) |                                                0.0148 |\n",
      "+--------------------+------------------------+------------------------+-------------------------------------------------------+\n",
      "| Air_temp_Act(high) | Rel_Humidity_act(high) | Rel_Air_Pressure(low)  |                                                0.0004 |\n",
      "+--------------------+------------------------+------------------------+-------------------------------------------------------+\n",
      "| Air_temp_Act(high) | Rel_Humidity_act(high) | Rel_Air_Pressure(mid)  |                                                0.0017 |\n",
      "+--------------------+------------------------+------------------------+-------------------------------------------------------+\n",
      "| Air_temp_Act(high) | Rel_Humidity_act(high) | Rel_Air_Pressure(high) |                                                0.0002 |\n",
      "+--------------------+------------------------+------------------------+-------------------------------------------------------+\n",
      "The most probable condition is:\n",
      "Air_temp_Act             low\n",
      "Rel_Humidity_act         mid\n",
      "Rel_Air_Pressure         mid\n",
      "Probability         0.301432\n",
      "Name: 4, dtype: object\n"
     ]
    }
   ],
   "source": [
    "\n",
    "# (b) What is the most probable condition for air temperature, humidity and air pressure, combined?\n",
    "joint_probability = inference.query(variables=['Air_temp_Act', 'Rel_Humidity_act', 'Rel_Air_Pressure'])\n",
    "print(joint_probability)\n",
    "\n",
    "def factor_to_df(factor):\n",
    "    \"\"\"Converts a DiscreteFactor object to a pandas DataFrame.\"\"\"\n",
    "    # Flatten the values\n",
    "    flat_values = factor.values.flatten()\n",
    "    # Create a multi-index from the state names\n",
    "    index = pd.MultiIndex.from_product(factor.state_names.values(), names=factor.variables)\n",
    "    # Create the DataFrame\n",
    "    df = pd.DataFrame(flat_values, index=index, columns=['Probability'])\n",
    "    return df.reset_index()\n",
    "\n",
    "# Assuming 'joint_probability' is your DiscreteFactor object from pgmpy\n",
    "df = factor_to_df(joint_probability)\n",
    "\n",
    "# Find the row with the maximum probability\n",
    "max_prob_row = df.loc[df['Probability'].idxmax()]\n",
    "\n",
    "# Print the most probable condition\n",
    "print(\"The most probable condition is:\")\n",
    "print(max_prob_row)\n",
    "\n"
   ]
  },
  {
   "cell_type": "code",
   "execution_count": 27,
   "metadata": {
    "id": "pqiWpd1h6Wsd"
   },
   "outputs": [
    {
     "name": "stdout",
     "output_type": "stream",
     "text": [
      "+--------------------+---------------------+\n",
      "| Air_temp_Act       |   phi(Air_temp_Act) |\n",
      "+====================+=====================+\n",
      "| Air_temp_Act(low)  |              0.6965 |\n",
      "+--------------------+---------------------+\n",
      "| Air_temp_Act(mid)  |              0.1726 |\n",
      "+--------------------+---------------------+\n",
      "| Air_temp_Act(high) |              0.1309 |\n",
      "+--------------------+---------------------+\n"
     ]
    }
   ],
   "source": [
    "# Question 3. Find the probability associated with each Air temperature, given that the wind speed is medium? Explain your result.\n",
    "prob_weather_by_med_precipitation = inference.query(variables=['Air_temp_Act'], evidence={'Wind_Speed_avg': 'mid'})\n",
    "print(prob_weather_by_med_precipitation)\n"
   ]
  },
  {
   "cell_type": "code",
   "execution_count": 28,
   "metadata": {
    "id": "kHFGTqpRDIgy"
   },
   "outputs": [
    {
     "name": "stdout",
     "output_type": "stream",
     "text": [
      "Weather given precipitation is medium and wind is low:\n",
      " +--------------------+---------------------+\n",
      "| Air_temp_Act       |   phi(Air_temp_Act) |\n",
      "+====================+=====================+\n",
      "| Air_temp_Act(low)  |              0.7937 |\n",
      "+--------------------+---------------------+\n",
      "| Air_temp_Act(mid)  |              0.0647 |\n",
      "+--------------------+---------------------+\n",
      "| Air_temp_Act(high) |              0.1415 |\n",
      "+--------------------+---------------------+\n",
      "Weather given precipitation is medium and wind is mid:\n",
      " +--------------------+---------------------+\n",
      "| Air_temp_Act       |   phi(Air_temp_Act) |\n",
      "+====================+=====================+\n",
      "| Air_temp_Act(low)  |              0.6731 |\n",
      "+--------------------+---------------------+\n",
      "| Air_temp_Act(mid)  |              0.1856 |\n",
      "+--------------------+---------------------+\n",
      "| Air_temp_Act(high) |              0.1413 |\n",
      "+--------------------+---------------------+\n"
     ]
    }
   ],
   "source": [
    "# Question 4. What is the probability of each air temperature condition given that wind speed is medium and humidity is low or medium? Explain your method and results. How does the result change with the addition of wind factor compared to question 3 of Task 1.2?\n",
    "for rel_humidity_states in ['low', 'mid']:   \n",
    "    prob_air_temp_by_low_or_med_humidity = inference.query(variables=['Air_temp_Act'], evidence={'Wind_Speed_avg': 'mid', 'Rel_Humidity_act': rel_humidity_states})\n",
    "    print(f\"Weather given precipitation is medium and wind is {rel_humidity_states}:\\n\", prob_air_temp_by_low_or_med_humidity)\n"
   ]
  },
  {
   "cell_type": "markdown",
   "metadata": {
    "id": "Kjsqw6ktHlbU"
   },
   "source": [
    "# Task 1.3 - Approximate Inference"
   ]
  },
  {
   "cell_type": "markdown",
   "metadata": {
    "id": "C5tLD8SIJdvz"
   },
   "source": [
    "## Likelihood Weighted Sample\n",
    "\n",
    "Generates weighted sample(s) from joint distribution of the Bayesian Network, that comply with the given evidence."
   ]
  },
  {
   "cell_type": "code",
   "execution_count": 29,
   "metadata": {
    "id": "Qgf1j-UpMJF2"
   },
   "outputs": [],
   "source": [
    "from pgmpy.factors.discrete import State\n",
    "from pgmpy.sampling import BayesianModelSampling"
   ]
  },
  {
   "cell_type": "code",
   "execution_count": 30,
   "metadata": {
    "id": "dJzv6qTcO4m8"
   },
   "outputs": [
    {
     "name": "stderr",
     "output_type": "stream",
     "text": [
      "Generating for node: Rel_Air_Pressure: 100%|██████████| 4/4 [00:00<00:00, 112.64it/s]\n",
      "c:\\Users\\Antonio Luque\\AppData\\Local\\Programs\\Python\\Python312\\Lib\\site-packages\\pgmpy\\sampling\\base.py:598: FutureWarning: Passing a DataFrame to DataFrame.from_records is deprecated. Use set_index and/or drop to modify the DataFrame instead.\n",
      "  df = pd.DataFrame.from_records(samples)\n"
     ]
    },
    {
     "data": {
      "text/html": [
       "<div>\n",
       "<style scoped>\n",
       "    .dataframe tbody tr th:only-of-type {\n",
       "        vertical-align: middle;\n",
       "    }\n",
       "\n",
       "    .dataframe tbody tr th {\n",
       "        vertical-align: top;\n",
       "    }\n",
       "\n",
       "    .dataframe thead th {\n",
       "        text-align: right;\n",
       "    }\n",
       "</style>\n",
       "<table border=\"1\" class=\"dataframe\">\n",
       "  <thead>\n",
       "    <tr style=\"text-align: right;\">\n",
       "      <th></th>\n",
       "      <th>_weight</th>\n",
       "    </tr>\n",
       "    <tr>\n",
       "      <th>Rel_Air_Pressure</th>\n",
       "      <th></th>\n",
       "    </tr>\n",
       "  </thead>\n",
       "  <tbody>\n",
       "    <tr>\n",
       "      <th>high</th>\n",
       "      <td>0.163831</td>\n",
       "    </tr>\n",
       "    <tr>\n",
       "      <th>low</th>\n",
       "      <td>0.064781</td>\n",
       "    </tr>\n",
       "    <tr>\n",
       "      <th>mid</th>\n",
       "      <td>0.771388</td>\n",
       "    </tr>\n",
       "  </tbody>\n",
       "</table>\n",
       "</div>"
      ],
      "text/plain": [
       "                   _weight\n",
       "Rel_Air_Pressure          \n",
       "high              0.163831\n",
       "low               0.064781\n",
       "mid               0.771388"
      ]
     },
     "execution_count": 30,
     "metadata": {},
     "output_type": "execute_result"
    }
   ],
   "source": [
    "# Repeat Q.1. (a) of Task 1.2 - \n",
    "# What is the probability of high air pressure when the wind speed is low? \n",
    "\n",
    "# Instantiate the Bayesian model sampler\n",
    "sampler = BayesianModelSampling(bn_model)\n",
    "\n",
    "# Specify the evidence with the weather condition set to 'sunny'\n",
    "evidence_conditions = [State('Wind_Speed_avg', 'low')]\n",
    "\n",
    "# Generate samples using likelihood weighting, based on the given evidence\n",
    "likelihood_weighted_samples = sampler.likelihood_weighted_sample(\n",
    "    evidence=evidence_conditions, size=10000)[['Rel_Air_Pressure', '_weight']]\n",
    "\n",
    "# Aggregate the weights for each wind condition to calculate the total weight for each category\n",
    "aggregated_weights_by_wind = likelihood_weighted_samples.groupby('Rel_Air_Pressure').sum()\n",
    "\n",
    "# Normalize the aggregated weights to convert them into probability estimates\n",
    "normalized_air_pressure_probabilities = aggregated_weights_by_wind / aggregated_weights_by_wind.sum()\n",
    "\n",
    "# Display the normalized probabilities of each wind condition given that the weather is sunny\n",
    "normalized_air_pressure_probabilities\n"
   ]
  },
  {
   "cell_type": "code",
   "execution_count": 32,
   "metadata": {},
   "outputs": [
    {
     "name": "stdout",
     "output_type": "stream",
     "text": [
      "Probability of high wind when weather is sunny: 16.3831%\n"
     ]
    }
   ],
   "source": [
    "prob_high_air_pressure_when_low_wind_speed = normalized_air_pressure_probabilities.values[0][0] * 100  # Convert fraction to percentage\n",
    "print(f\"Probability of high wind when weather is sunny: {prob_high_air_pressure_when_low_wind_speed:.4f}%\")"
   ]
  },
  {
   "cell_type": "code",
   "execution_count": 33,
   "metadata": {
    "id": "lI68QNwgJalj"
   },
   "outputs": [
    {
     "name": "stderr",
     "output_type": "stream",
     "text": [
      "Generating for node: Rel_Air_Pressure: 100%|██████████| 4/4 [00:00<00:00, 116.70it/s]\n",
      "c:\\Users\\Antonio Luque\\AppData\\Local\\Programs\\Python\\Python312\\Lib\\site-packages\\pgmpy\\sampling\\base.py:598: FutureWarning: Passing a DataFrame to DataFrame.from_records is deprecated. Use set_index and/or drop to modify the DataFrame instead.\n",
      "  df = pd.DataFrame.from_records(samples)\n"
     ]
    },
    {
     "data": {
      "text/html": [
       "<div>\n",
       "<style scoped>\n",
       "    .dataframe tbody tr th:only-of-type {\n",
       "        vertical-align: middle;\n",
       "    }\n",
       "\n",
       "    .dataframe tbody tr th {\n",
       "        vertical-align: top;\n",
       "    }\n",
       "\n",
       "    .dataframe thead th {\n",
       "        text-align: right;\n",
       "    }\n",
       "</style>\n",
       "<table border=\"1\" class=\"dataframe\">\n",
       "  <thead>\n",
       "    <tr style=\"text-align: right;\">\n",
       "      <th></th>\n",
       "      <th>_weight</th>\n",
       "    </tr>\n",
       "    <tr>\n",
       "      <th>Wind_Speed_avg</th>\n",
       "      <th></th>\n",
       "    </tr>\n",
       "  </thead>\n",
       "  <tbody>\n",
       "    <tr>\n",
       "      <th>high</th>\n",
       "      <td>0.054139</td>\n",
       "    </tr>\n",
       "    <tr>\n",
       "      <th>low</th>\n",
       "      <td>0.281030</td>\n",
       "    </tr>\n",
       "    <tr>\n",
       "      <th>mid</th>\n",
       "      <td>0.664831</td>\n",
       "    </tr>\n",
       "  </tbody>\n",
       "</table>\n",
       "</div>"
      ],
      "text/plain": [
       "                 _weight\n",
       "Wind_Speed_avg          \n",
       "high            0.054139\n",
       "low             0.281030\n",
       "mid             0.664831"
      ]
     },
     "execution_count": 33,
     "metadata": {},
     "output_type": "execute_result"
    }
   ],
   "source": [
    "# Repeat Q.1. (b) of Task 1.2 - \n",
    "# What is the probability of low wind speed when the air pressure is high?\n",
    "\n",
    "# Instantiate the Bayesian model sampler\n",
    "sampler = BayesianModelSampling(bn_model)\n",
    "\n",
    "# Define the evidence with the wind condition set to 'high'\n",
    "evidence_conditions = [State('Rel_Air_Pressure', 'high')]\n",
    "\n",
    "# Generate samples using likelihood weighting, based on the given evidence\n",
    "likelihood_weighted_samples = sampler.likelihood_weighted_sample(\n",
    "    evidence=evidence_conditions, size=10000)[['Wind_Speed_avg', '_weight']]\n",
    "\n",
    "# Aggregate the weights for each weather condition to calculate the total weight for each category\n",
    "aggregated_weights_by_weather = likelihood_weighted_samples.groupby('Wind_Speed_avg').sum()\n",
    "\n",
    "# Normalize the aggregated weights to convert them into probability estimates\n",
    "normalized_wind_speed_probabilities = aggregated_weights_by_weather / aggregated_weights_by_weather.sum()\n",
    "\n",
    "# Display the normalized probabilities of each weather condition given that the wind is high\n",
    "normalized_wind_speed_probabilities\n"
   ]
  },
  {
   "cell_type": "code",
   "execution_count": 34,
   "metadata": {},
   "outputs": [
    {
     "name": "stdout",
     "output_type": "stream",
     "text": [
      "Probability of sunny weather when wind is high: 28.1030%\n"
     ]
    }
   ],
   "source": [
    "prob_sunny_when_high_wind = normalized_wind_speed_probabilities.values[1][0] * 100  # Convert fraction to percentage\n",
    "print(f\"Probability of sunny weather when wind is high: {prob_sunny_when_high_wind:.4f}%\")"
   ]
  },
  {
   "cell_type": "markdown",
   "metadata": {
    "id": "-cxZxPokPP-O"
   },
   "source": [
    "## Rejection Sampling"
   ]
  },
  {
   "cell_type": "code",
   "execution_count": 35,
   "metadata": {
    "id": "dFwIjAp3PPY_"
   },
   "outputs": [
    {
     "name": "stderr",
     "output_type": "stream",
     "text": [
      "Generating for node: Rel_Air_Pressure: 100%|██████████| 4/4 [00:00<00:00, 125.75it/s]"
     ]
    },
    {
     "name": "stdout",
     "output_type": "stream",
     "text": [
      "   Air_temp_Act Rel_Humidity_act Wind_Speed_avg Rel_Air_Pressure  Frequency  \\\n",
      "0           low              mid            mid              mid       1637   \n",
      "1           low              mid            low              mid       1192   \n",
      "2           low              low            mid              mid        824   \n",
      "3           low              low            low              mid        608   \n",
      "4           low              mid            mid             high        511   \n",
      "..          ...              ...            ...              ...        ...   \n",
      "71          mid             high           high             high          1   \n",
      "72         high             high            mid             high          1   \n",
      "73         high              low           high              low          1   \n",
      "74         high              mid           high             high          1   \n",
      "75         high             high            low              low          1   \n",
      "\n",
      "    Probability  \n",
      "0        0.1637  \n",
      "1        0.1192  \n",
      "2        0.0824  \n",
      "3        0.0608  \n",
      "4        0.0511  \n",
      "..          ...  \n",
      "71       0.0001  \n",
      "72       0.0001  \n",
      "73       0.0001  \n",
      "74       0.0001  \n",
      "75       0.0001  \n",
      "\n",
      "[76 rows x 6 columns]\n",
      "The most probable condition is:\n",
      "Air_temp_Act           low\n",
      "Rel_Humidity_act       mid\n",
      "Wind_Speed_avg         mid\n",
      "Rel_Air_Pressure       mid\n",
      "Frequency             1637\n",
      "Probability         0.1637\n",
      "Name: 0, dtype: object\n"
     ]
    },
    {
     "name": "stderr",
     "output_type": "stream",
     "text": [
      "\n",
      "c:\\Users\\Antonio Luque\\AppData\\Local\\Programs\\Python\\Python312\\Lib\\site-packages\\pgmpy\\sampling\\base.py:598: FutureWarning: Passing a DataFrame to DataFrame.from_records is deprecated. Use set_index and/or drop to modify the DataFrame instead.\n",
      "  df = pd.DataFrame.from_records(samples)\n"
     ]
    }
   ],
   "source": [
    "# Repeat Q.2 . (a) of Task 1.2 - \n",
    "# Calculate all the possible joint probability and determine the best probable condition. Explain your results\n",
    "\n",
    "# Instantiate the Bayesian model sampler\n",
    "sampler = BayesianModelSampling(bn_model)\n",
    "\n",
    "# Generate samples from the Bayesian network using rejection sampling\n",
    "sampled_data = sampler.rejection_sample(size=10000)\n",
    "\n",
    "# List all the columns to group by all variables for joint probability calculation\n",
    "variable_names = sampled_data.columns.tolist()\n",
    "\n",
    "# Group by all variables to calculate the frequency of each unique combination\n",
    "# and reset the index to convert the result into a DataFrame\n",
    "joint_probability_distribution = sampled_data.groupby(variable_names).size().reset_index(name='Frequency')\n",
    "\n",
    "# Normalize the frequencies to convert them into probabilities\n",
    "joint_probability_distribution['Probability'] = joint_probability_distribution['Frequency'] / joint_probability_distribution['Frequency'].sum()\n",
    "\n",
    "# Sort by probability in descending order to identify the most probable condition\n",
    "joint_probability_distribution = joint_probability_distribution.sort_values('Probability', ascending=False).reset_index(drop=True)\n",
    "\n",
    "# Display the joint probability distribution\n",
    "print(joint_probability_distribution)\n",
    "\n",
    "# Display the most probable condition\n",
    "most_probable_condition = joint_probability_distribution.iloc[0]\n",
    "print(f\"The most probable condition is:\\n{most_probable_condition}\")\n",
    "\n"
   ]
  },
  {
   "cell_type": "code",
   "execution_count": 36,
   "metadata": {
    "id": "9DS0j7ajLbov"
   },
   "outputs": [
    {
     "name": "stderr",
     "output_type": "stream",
     "text": [
      "Generating for node: Rel_Air_Pressure: 100%|██████████| 4/4 [00:00<00:00, 131.55it/s]"
     ]
    },
    {
     "name": "stdout",
     "output_type": "stream",
     "text": [
      "Most probable condition: ('low', 'mid', 'mid')\n",
      "Probability of the most probable condition: 30.4800%\n"
     ]
    },
    {
     "name": "stderr",
     "output_type": "stream",
     "text": [
      "\n",
      "c:\\Users\\Antonio Luque\\AppData\\Local\\Programs\\Python\\Python312\\Lib\\site-packages\\pgmpy\\sampling\\base.py:598: FutureWarning: Passing a DataFrame to DataFrame.from_records is deprecated. Use set_index and/or drop to modify the DataFrame instead.\n",
      "  df = pd.DataFrame.from_records(samples)\n"
     ]
    }
   ],
   "source": [
    "# Repeat Q.2 . (b) of Task 1.2 - \n",
    "# What is the most probable condition for air temperature, humidity and air pressure, combined?\n",
    "\n",
    "# Instantiate the Bayesian model sampler\n",
    "sampler = BayesianModelSampling(bn_model)\n",
    "\n",
    "# Generate samples from the Bayesian network using rejection sampling\n",
    "rejection_samples = sampler.rejection_sample(size=10000)\n",
    "\n",
    "# Focus on the variables of interest: 'temperature', 'humidity', and 'air pressure'\n",
    "selected_variables_samples = rejection_samples[['Air_temp_Act', 'Rel_Humidity_act', 'Rel_Air_Pressure']]\n",
    "\n",
    "# Calculate the joint probabilities for the selected variables and normalize the results\n",
    "joint_probabilities = selected_variables_samples.value_counts(normalize=True)\n",
    "\n",
    "# Identify the most probable condition along with its probability\n",
    "most_probable_condition = joint_probabilities.idxmax()\n",
    "most_probable_probability = joint_probabilities.max() * 100\n",
    "\n",
    "# Output the most probable condition and its associated probability\n",
    "print(\"Most probable condition:\", most_probable_condition)\n",
    "print(f\"Probability of the most probable condition: {most_probable_probability:.4f}%\")\n"
   ]
  },
  {
   "cell_type": "markdown",
   "metadata": {
    "id": "OPYm8MwWJkz_"
   },
   "source": [
    "## Approx Inference"
   ]
  },
  {
   "cell_type": "code",
   "execution_count": 37,
   "metadata": {
    "id": "Z5T8q0KbAVsd"
   },
   "outputs": [],
   "source": [
    "from pgmpy.inference import ApproxInference"
   ]
  },
  {
   "cell_type": "code",
   "execution_count": 39,
   "metadata": {
    "id": "arv0oy_OPJxA"
   },
   "outputs": [
    {
     "name": "stderr",
     "output_type": "stream",
     "text": [
      "  0%|          | 0/10000 [00:00<?, ?it/s]c:\\Users\\Antonio Luque\\AppData\\Local\\Programs\\Python\\Python312\\Lib\\site-packages\\pgmpy\\sampling\\base.py:598: FutureWarning: Passing a DataFrame to DataFrame.from_records is deprecated. Use set_index and/or drop to modify the DataFrame instead.\n",
      "  df = pd.DataFrame.from_records(samples)\n",
      "c:\\Users\\Antonio Luque\\AppData\\Local\\Programs\\Python\\Python312\\Lib\\site-packages\\pgmpy\\sampling\\base.py:598: FutureWarning: Passing a DataFrame to DataFrame.from_records is deprecated. Use set_index and/or drop to modify the DataFrame instead.\n",
      "  df = pd.DataFrame.from_records(samples)\n",
      "100%|██████████| 10000/10000 [00:00<00:00, 196387.37it/s]"
     ]
    },
    {
     "name": "stdout",
     "output_type": "stream",
     "text": [
      "Probability distribution of air temperature given medium wind speed:\n",
      "+--------------------+---------------------+\n",
      "| Air_temp_Act       |   phi(Air_temp_Act) |\n",
      "+====================+=====================+\n",
      "| Air_temp_Act(low)  |              0.7018 |\n",
      "+--------------------+---------------------+\n",
      "| Air_temp_Act(mid)  |              0.1688 |\n",
      "+--------------------+---------------------+\n",
      "| Air_temp_Act(high) |              0.1294 |\n",
      "+--------------------+---------------------+\n"
     ]
    },
    {
     "name": "stderr",
     "output_type": "stream",
     "text": [
      "\n"
     ]
    }
   ],
   "source": [
    "# Repeat Q.3 of Task 1.2 - \n",
    "# Find the probability associated with each Air temperature, given that the wind speed is medium? Explain your result.\n",
    "\n",
    "# Initialize the approximate inference engine for the Bayesian model\n",
    "approx_infer_engine = ApproxInference(bn_model)\n",
    "\n",
    "# Define the evidence where wind speed is set to 'medium'\n",
    "evidence_condition = {'Wind_Speed_avg': 'mid'}\n",
    "\n",
    "# Perform the query to calculate the probability distribution of air temperature given the evidence\n",
    "air_temp_probabilities_given_wind_spped = approx_infer_engine.query(variables=['Air_temp_Act'], evidence=evidence_condition)\n",
    "\n",
    "# Print the resulting probability distribution of weather conditions\n",
    "print(\"Probability distribution of air temperature given medium wind speed:\")\n",
    "print(air_temp_probabilities_given_wind_spped)\n",
    "\n"
   ]
  },
  {
   "cell_type": "markdown",
   "metadata": {
    "id": "a_4fNI7NPZEc"
   },
   "source": [
    "# Normal Sampling"
   ]
  },
  {
   "cell_type": "code",
   "execution_count": 40,
   "metadata": {
    "id": "FvkmgoARHkuV"
   },
   "outputs": [
    {
     "name": "stderr",
     "output_type": "stream",
     "text": [
      "Generating for node: Rel_Air_Pressure: 100%|██████████| 4/4 [00:00<00:00, 16.70it/s]\n",
      "c:\\Users\\Antonio Luque\\AppData\\Local\\Programs\\Python\\Python312\\Lib\\site-packages\\pgmpy\\sampling\\base.py:598: FutureWarning: Passing a DataFrame to DataFrame.from_records is deprecated. Use set_index and/or drop to modify the DataFrame instead.\n",
      "  df = pd.DataFrame.from_records(samples)\n"
     ]
    },
    {
     "name": "stdout",
     "output_type": "stream",
     "text": [
      "Normalized probabilities of air temperatures given medium wind speed and humidity being low or medium:\n",
      "Air_temp_Act\n",
      "low     0.714581\n",
      "mid     0.145065\n",
      "high    0.140354\n",
      "Name: count, dtype: float64\n",
      "\n",
      "Comparison with only medium wind speed (no specific humidity condition):\n",
      "Air_temp_Act\n",
      "low     0.698297\n",
      "mid     0.171594\n",
      "high    0.130110\n",
      "Name: count, dtype: float64\n"
     ]
    }
   ],
   "source": [
    "# Repeat Q.4 of Task 1.2 - \n",
    "# What is the probability of each air temperature condition given that wind speed is medium and humidity is low or medium? \n",
    "# Explain your method and results. \n",
    "# How does the result change with the addition of wind factor compared to question 3 of Task 1.2?\n",
    "\n",
    "# Initialize the Bayesian model sampler\n",
    "sampler = BayesianModelSampling(bn_model)\n",
    "\n",
    "# Generate a large number of samples from the Bayesian network model\n",
    "generated_samples = sampler.forward_sample(size=int(1e5))\n",
    "\n",
    "# Define evidence scenarios where wind speed is 'medium' and humidity is either 'low' or 'medium'\n",
    "evidence_conditions = [\n",
    "    {'Wind_Speed_avg': 'mid', 'Rel_Humidity_act': 'low'},\n",
    "    {'Wind_Speed_avg': 'mid', 'Rel_Humidity_act': 'mid'}\n",
    "]\n",
    "\n",
    "# Filter samples based on the evidence conditions\n",
    "filtered_samples = generated_samples[\n",
    "    (generated_samples['Wind_Speed_avg'] == 'mid') & \n",
    "    ((generated_samples['Rel_Humidity_act'] == 'low') | (generated_samples['Rel_Humidity_act'] == 'mid'))\n",
    "]\n",
    "\n",
    "# Calculate the frequency of each air temperature given the evidence\n",
    "air_temp_frequencies_given_evidence = filtered_samples['Air_temp_Act'].value_counts()\n",
    "\n",
    "# Normalize the frequencies to obtain probabilities\n",
    "normalized_air_temp_probabilities = air_temp_frequencies_given_evidence / air_temp_frequencies_given_evidence.sum()\n",
    "\n",
    "# Print the normalized probabilities of weather conditions given the evidence\n",
    "print(\"Normalized probabilities of air temperatures given medium wind speed and humidity being low or medium:\")\n",
    "print(normalized_air_temp_probabilities)\n",
    "\n",
    "# Comparing to the scenario where only wind speed is medium (from the previous task)\n",
    "single_evidence_samples = generated_samples[generated_samples['Wind_Speed_avg'] == 'mid']\n",
    "single_air_temp_frequencies = single_evidence_samples['Air_temp_Act'].value_counts()\n",
    "normalized_single_air_temp_probabilities = single_air_temp_frequencies / single_air_temp_frequencies.sum()\n",
    "\n",
    "# Display the comparison\n",
    "print(\"\\nComparison with only medium wind speed (no specific humidity condition):\")\n",
    "print(normalized_single_air_temp_probabilities)\n",
    "\n"
   ]
  }
 ],
 "metadata": {
  "colab": {
   "provenance": []
  },
  "kernelspec": {
   "display_name": "Python 3 (ipykernel)",
   "language": "python",
   "name": "python3"
  },
  "language_info": {
   "codemirror_mode": {
    "name": "ipython",
    "version": 3
   },
   "file_extension": ".py",
   "mimetype": "text/x-python",
   "name": "python",
   "nbconvert_exporter": "python",
   "pygments_lexer": "ipython3",
   "version": "3.12.3"
  }
 },
 "nbformat": 4,
 "nbformat_minor": 1
}
