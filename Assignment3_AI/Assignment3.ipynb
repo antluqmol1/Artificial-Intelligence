{
 "cells": [
  {
   "cell_type": "markdown",
   "metadata": {
    "id": "8nGlHSmtz4Vb"
   },
   "source": [
    "# INF-2600-1 24V Artificial Intelligence: Assignment 3 Pre-code\n",
    "This code implements a Bayesian Network model for Analyzing Sensor Data for Weather Prediction using the pgmpy library in Python."
   ]
  },
  {
   "cell_type": "markdown",
   "metadata": {
    "id": "1orEke6Msm1U"
   },
   "source": [
    "\n",
    "### BUILDING THE STRUCTURE OF BAYESIAN NETWORK: Using PgmPy\n",
    "#### Install Package: `!pip install pgmpy`"
   ]
  },
  {
   "cell_type": "code",
   "execution_count": 1,
   "metadata": {
    "id": "rmNeK7ca1ze0"
   },
   "outputs": [
    {
     "name": "stdout",
     "output_type": "stream",
     "text": [
      "Note: you may need to restart the kernel to use updated packages.\n"
     ]
    },
    {
     "name": "stderr",
     "output_type": "stream",
     "text": [
      "c:\\Users\\Antonio Luque\\AppData\\Local\\Programs\\Python\\Python312\\python.exe: No module named pip\n"
     ]
    }
   ],
   "source": [
    "pip install pgmpy"
   ]
  },
  {
   "cell_type": "code",
   "execution_count": 2,
   "metadata": {},
   "outputs": [
    {
     "data": {
      "text/plain": [
       "'c:\\\\Users\\\\Antonio Luque\\\\Desktop\\\\Carpetas\\\\UIT\\\\INF-2600 AI\\\\Assignment 3'"
      ]
     },
     "execution_count": 2,
     "metadata": {},
     "output_type": "execute_result"
    }
   ],
   "source": [
    "import os\n",
    "os.getcwd()\n"
   ]
  },
  {
   "cell_type": "code",
   "execution_count": 3,
   "metadata": {},
   "outputs": [
    {
     "name": "stdout",
     "output_type": "stream",
     "text": [
      "Note: you may need to restart the kernel to use updated packages.\n"
     ]
    },
    {
     "name": "stderr",
     "output_type": "stream",
     "text": [
      "c:\\Users\\Antonio Luque\\AppData\\Local\\Programs\\Python\\Python312\\python.exe: No module named pip\n"
     ]
    }
   ],
   "source": [
    "pip install seaborn"
   ]
  },
  {
   "cell_type": "code",
   "execution_count": 4,
   "metadata": {
    "id": "_Dnf0jwzsoK8"
   },
   "outputs": [
    {
     "name": "stderr",
     "output_type": "stream",
     "text": [
      "c:\\Users\\Antonio Luque\\AppData\\Local\\Programs\\Python\\Python312\\Lib\\site-packages\\tqdm\\auto.py:21: TqdmWarning: IProgress not found. Please update jupyter and ipywidgets. See https://ipywidgets.readthedocs.io/en/stable/user_install.html\n",
      "  from .autonotebook import tqdm as notebook_tqdm\n"
     ]
    }
   ],
   "source": [
    "# Including the necessary libraries\n",
    "import numpy as np\n",
    "import pandas as pd\n",
    "import seaborn as sns\n",
    "import matplotlib.pyplot as plt\n",
    "\n",
    "from pgmpy.models import BayesianNetwork\n",
    "from pgmpy.factors.discrete import TabularCPD"
   ]
  },
  {
   "cell_type": "markdown",
   "metadata": {
    "id": "8kDXvpvVtFNJ"
   },
   "source": [
    "# Factoring the dataset"
   ]
  },
  {
   "cell_type": "code",
   "execution_count": 42,
   "metadata": {
    "colab": {
     "base_uri": "https://localhost:8080/",
     "height": 206
    },
    "id": "j1UBAX640ozx",
    "outputId": "338206b0-408e-4c58-d0bc-cff2efc89adf"
   },
   "outputs": [
    {
     "data": {
      "text/html": [
       "<div>\n",
       "<style scoped>\n",
       "    .dataframe tbody tr th:only-of-type {\n",
       "        vertical-align: middle;\n",
       "    }\n",
       "\n",
       "    .dataframe tbody tr th {\n",
       "        vertical-align: top;\n",
       "    }\n",
       "\n",
       "    .dataframe thead th {\n",
       "        text-align: right;\n",
       "    }\n",
       "</style>\n",
       "<table border=\"1\" class=\"dataframe\">\n",
       "  <thead>\n",
       "    <tr style=\"text-align: right;\">\n",
       "      <th></th>\n",
       "      <th>date</th>\n",
       "      <th>precipitation</th>\n",
       "      <th>temp_max</th>\n",
       "      <th>temp_min</th>\n",
       "      <th>wind</th>\n",
       "      <th>weather</th>\n",
       "    </tr>\n",
       "  </thead>\n",
       "  <tbody>\n",
       "    <tr>\n",
       "      <th>0</th>\n",
       "      <td>2012-01-01</td>\n",
       "      <td>0.0</td>\n",
       "      <td>12.8</td>\n",
       "      <td>5.0</td>\n",
       "      <td>4.7</td>\n",
       "      <td>drizzle</td>\n",
       "    </tr>\n",
       "    <tr>\n",
       "      <th>1</th>\n",
       "      <td>2012-01-02</td>\n",
       "      <td>10.9</td>\n",
       "      <td>10.6</td>\n",
       "      <td>2.8</td>\n",
       "      <td>4.5</td>\n",
       "      <td>rain</td>\n",
       "    </tr>\n",
       "    <tr>\n",
       "      <th>2</th>\n",
       "      <td>2012-01-03</td>\n",
       "      <td>0.8</td>\n",
       "      <td>11.7</td>\n",
       "      <td>7.2</td>\n",
       "      <td>2.3</td>\n",
       "      <td>rain</td>\n",
       "    </tr>\n",
       "    <tr>\n",
       "      <th>3</th>\n",
       "      <td>2012-01-04</td>\n",
       "      <td>20.3</td>\n",
       "      <td>12.2</td>\n",
       "      <td>5.6</td>\n",
       "      <td>4.7</td>\n",
       "      <td>rain</td>\n",
       "    </tr>\n",
       "    <tr>\n",
       "      <th>4</th>\n",
       "      <td>2012-01-05</td>\n",
       "      <td>1.3</td>\n",
       "      <td>8.9</td>\n",
       "      <td>2.8</td>\n",
       "      <td>6.1</td>\n",
       "      <td>rain</td>\n",
       "    </tr>\n",
       "  </tbody>\n",
       "</table>\n",
       "</div>"
      ],
      "text/plain": [
       "         date  precipitation  temp_max  temp_min  wind  weather\n",
       "0  2012-01-01            0.0      12.8       5.0   4.7  drizzle\n",
       "1  2012-01-02           10.9      10.6       2.8   4.5     rain\n",
       "2  2012-01-03            0.8      11.7       7.2   2.3     rain\n",
       "3  2012-01-04           20.3      12.2       5.6   4.7     rain\n",
       "4  2012-01-05            1.3       8.9       2.8   6.1     rain"
      ]
     },
     "execution_count": 42,
     "metadata": {},
     "output_type": "execute_result"
    }
   ],
   "source": [
    "# Import data, make a copy of the original\n",
    "\n",
    "df0 = pd.read_csv('./seattle-weather.csv')\n",
    "dfc1 = df0.copy()\n",
    "dfc1.head()"
   ]
  },
  {
   "cell_type": "code",
   "execution_count": 43,
   "metadata": {
    "colab": {
     "base_uri": "https://localhost:8080/"
    },
    "id": "nFIlg96M0qH1",
    "outputId": "36b3b9f8-9c4b-454f-c811-a77c6c513354"
   },
   "outputs": [
    {
     "name": "stdout",
     "output_type": "stream",
     "text": [
      "<class 'pandas.core.frame.DataFrame'>\n",
      "RangeIndex: 1461 entries, 0 to 1460\n",
      "Data columns (total 6 columns):\n",
      " #   Column         Non-Null Count  Dtype  \n",
      "---  ------         --------------  -----  \n",
      " 0   date           1461 non-null   object \n",
      " 1   precipitation  1461 non-null   float64\n",
      " 2   temp_max       1461 non-null   float64\n",
      " 3   temp_min       1461 non-null   float64\n",
      " 4   wind           1461 non-null   float64\n",
      " 5   weather        1461 non-null   object \n",
      "dtypes: float64(4), object(2)\n",
      "memory usage: 68.6+ KB\n"
     ]
    }
   ],
   "source": [
    "# Get characteristics of dataset including columns with missing data as well:\n",
    "dfc1.info()"
   ]
  },
  {
   "cell_type": "code",
   "execution_count": 44,
   "metadata": {
    "colab": {
     "base_uri": "https://localhost:8080/"
    },
    "id": "J4-9pU7v9xCI",
    "outputId": "b245bb96-df16-40bc-aa50-805e0efa1ec4"
   },
   "outputs": [
    {
     "name": "stdout",
     "output_type": "stream",
     "text": [
      "['drizzle' 'rain' 'sun' 'snow' 'fog']\n"
     ]
    }
   ],
   "source": [
    "# Checking the unique values in the 'weather' column\n",
    "unique_fields = dfc1['weather'].unique()\n",
    "print(unique_fields)"
   ]
  },
  {
   "cell_type": "code",
   "execution_count": 45,
   "metadata": {
    "colab": {
     "base_uri": "https://localhost:8080/",
     "height": 300
    },
    "id": "yHMgO4oF0tUI",
    "outputId": "851f538c-c6f9-40c9-e3ff-66e0c857543b"
   },
   "outputs": [
    {
     "data": {
      "text/html": [
       "<div>\n",
       "<style scoped>\n",
       "    .dataframe tbody tr th:only-of-type {\n",
       "        vertical-align: middle;\n",
       "    }\n",
       "\n",
       "    .dataframe tbody tr th {\n",
       "        vertical-align: top;\n",
       "    }\n",
       "\n",
       "    .dataframe thead th {\n",
       "        text-align: right;\n",
       "    }\n",
       "</style>\n",
       "<table border=\"1\" class=\"dataframe\">\n",
       "  <thead>\n",
       "    <tr style=\"text-align: right;\">\n",
       "      <th></th>\n",
       "      <th>precipitation</th>\n",
       "      <th>temp_max</th>\n",
       "      <th>temp_min</th>\n",
       "      <th>wind</th>\n",
       "    </tr>\n",
       "  </thead>\n",
       "  <tbody>\n",
       "    <tr>\n",
       "      <th>count</th>\n",
       "      <td>1461.000000</td>\n",
       "      <td>1461.000000</td>\n",
       "      <td>1461.000000</td>\n",
       "      <td>1461.000000</td>\n",
       "    </tr>\n",
       "    <tr>\n",
       "      <th>mean</th>\n",
       "      <td>3.029432</td>\n",
       "      <td>16.439083</td>\n",
       "      <td>8.234771</td>\n",
       "      <td>3.241136</td>\n",
       "    </tr>\n",
       "    <tr>\n",
       "      <th>std</th>\n",
       "      <td>6.680194</td>\n",
       "      <td>7.349758</td>\n",
       "      <td>5.023004</td>\n",
       "      <td>1.437825</td>\n",
       "    </tr>\n",
       "    <tr>\n",
       "      <th>min</th>\n",
       "      <td>0.000000</td>\n",
       "      <td>-1.600000</td>\n",
       "      <td>-7.100000</td>\n",
       "      <td>0.400000</td>\n",
       "    </tr>\n",
       "    <tr>\n",
       "      <th>25%</th>\n",
       "      <td>0.000000</td>\n",
       "      <td>10.600000</td>\n",
       "      <td>4.400000</td>\n",
       "      <td>2.200000</td>\n",
       "    </tr>\n",
       "    <tr>\n",
       "      <th>50%</th>\n",
       "      <td>0.000000</td>\n",
       "      <td>15.600000</td>\n",
       "      <td>8.300000</td>\n",
       "      <td>3.000000</td>\n",
       "    </tr>\n",
       "    <tr>\n",
       "      <th>75%</th>\n",
       "      <td>2.800000</td>\n",
       "      <td>22.200000</td>\n",
       "      <td>12.200000</td>\n",
       "      <td>4.000000</td>\n",
       "    </tr>\n",
       "    <tr>\n",
       "      <th>max</th>\n",
       "      <td>55.900000</td>\n",
       "      <td>35.600000</td>\n",
       "      <td>18.300000</td>\n",
       "      <td>9.500000</td>\n",
       "    </tr>\n",
       "  </tbody>\n",
       "</table>\n",
       "</div>"
      ],
      "text/plain": [
       "       precipitation     temp_max     temp_min         wind\n",
       "count    1461.000000  1461.000000  1461.000000  1461.000000\n",
       "mean        3.029432    16.439083     8.234771     3.241136\n",
       "std         6.680194     7.349758     5.023004     1.437825\n",
       "min         0.000000    -1.600000    -7.100000     0.400000\n",
       "25%         0.000000    10.600000     4.400000     2.200000\n",
       "50%         0.000000    15.600000     8.300000     3.000000\n",
       "75%         2.800000    22.200000    12.200000     4.000000\n",
       "max        55.900000    35.600000    18.300000     9.500000"
      ]
     },
     "execution_count": 45,
     "metadata": {},
     "output_type": "execute_result"
    }
   ],
   "source": [
    "dfc1.describe()"
   ]
  },
  {
   "cell_type": "code",
   "execution_count": 46,
   "metadata": {
    "id": "pD6zggr40w1R"
   },
   "outputs": [
    {
     "data": {
      "text/html": [
       "<div>\n",
       "<style scoped>\n",
       "    .dataframe tbody tr th:only-of-type {\n",
       "        vertical-align: middle;\n",
       "    }\n",
       "\n",
       "    .dataframe tbody tr th {\n",
       "        vertical-align: top;\n",
       "    }\n",
       "\n",
       "    .dataframe thead th {\n",
       "        text-align: right;\n",
       "    }\n",
       "</style>\n",
       "<table border=\"1\" class=\"dataframe\">\n",
       "  <thead>\n",
       "    <tr style=\"text-align: right;\">\n",
       "      <th></th>\n",
       "      <th>date</th>\n",
       "      <th>weather</th>\n",
       "    </tr>\n",
       "  </thead>\n",
       "  <tbody>\n",
       "    <tr>\n",
       "      <th>0</th>\n",
       "      <td>2012-01-01</td>\n",
       "      <td>drizzle</td>\n",
       "    </tr>\n",
       "    <tr>\n",
       "      <th>1</th>\n",
       "      <td>2012-01-02</td>\n",
       "      <td>rain</td>\n",
       "    </tr>\n",
       "    <tr>\n",
       "      <th>2</th>\n",
       "      <td>2012-01-03</td>\n",
       "      <td>rain</td>\n",
       "    </tr>\n",
       "    <tr>\n",
       "      <th>3</th>\n",
       "      <td>2012-01-04</td>\n",
       "      <td>rain</td>\n",
       "    </tr>\n",
       "    <tr>\n",
       "      <th>4</th>\n",
       "      <td>2012-01-05</td>\n",
       "      <td>rain</td>\n",
       "    </tr>\n",
       "  </tbody>\n",
       "</table>\n",
       "</div>"
      ],
      "text/plain": [
       "         date  weather\n",
       "0  2012-01-01  drizzle\n",
       "1  2012-01-02     rain\n",
       "2  2012-01-03     rain\n",
       "3  2012-01-04     rain\n",
       "4  2012-01-05     rain"
      ]
     },
     "execution_count": 46,
     "metadata": {},
     "output_type": "execute_result"
    }
   ],
   "source": [
    "# Put categorical varaibles in a list\n",
    "categorical_lst = ['date','weather']\n",
    "# Create a seperate & smaller dataframe for categorical variables\n",
    "dfc2a = pd.DataFrame(dfc1, columns=categorical_lst, copy=True)\n",
    "dfc2a.head()"
   ]
  },
  {
   "cell_type": "code",
   "execution_count": 47,
   "metadata": {
    "id": "lqmWkjP80yd-"
   },
   "outputs": [
    {
     "data": {
      "text/html": [
       "<div>\n",
       "<style scoped>\n",
       "    .dataframe tbody tr th:only-of-type {\n",
       "        vertical-align: middle;\n",
       "    }\n",
       "\n",
       "    .dataframe tbody tr th {\n",
       "        vertical-align: top;\n",
       "    }\n",
       "\n",
       "    .dataframe thead th {\n",
       "        text-align: right;\n",
       "    }\n",
       "</style>\n",
       "<table border=\"1\" class=\"dataframe\">\n",
       "  <thead>\n",
       "    <tr style=\"text-align: right;\">\n",
       "      <th></th>\n",
       "      <th>precipitation</th>\n",
       "      <th>temp_max</th>\n",
       "      <th>temp_min</th>\n",
       "      <th>wind</th>\n",
       "    </tr>\n",
       "  </thead>\n",
       "  <tbody>\n",
       "    <tr>\n",
       "      <th>0</th>\n",
       "      <td>0.0</td>\n",
       "      <td>12.8</td>\n",
       "      <td>5.0</td>\n",
       "      <td>4.7</td>\n",
       "    </tr>\n",
       "    <tr>\n",
       "      <th>1</th>\n",
       "      <td>10.9</td>\n",
       "      <td>10.6</td>\n",
       "      <td>2.8</td>\n",
       "      <td>4.5</td>\n",
       "    </tr>\n",
       "    <tr>\n",
       "      <th>2</th>\n",
       "      <td>0.8</td>\n",
       "      <td>11.7</td>\n",
       "      <td>7.2</td>\n",
       "      <td>2.3</td>\n",
       "    </tr>\n",
       "    <tr>\n",
       "      <th>3</th>\n",
       "      <td>20.3</td>\n",
       "      <td>12.2</td>\n",
       "      <td>5.6</td>\n",
       "      <td>4.7</td>\n",
       "    </tr>\n",
       "    <tr>\n",
       "      <th>4</th>\n",
       "      <td>1.3</td>\n",
       "      <td>8.9</td>\n",
       "      <td>2.8</td>\n",
       "      <td>6.1</td>\n",
       "    </tr>\n",
       "  </tbody>\n",
       "</table>\n",
       "</div>"
      ],
      "text/plain": [
       "   precipitation  temp_max  temp_min  wind\n",
       "0            0.0      12.8       5.0   4.7\n",
       "1           10.9      10.6       2.8   4.5\n",
       "2            0.8      11.7       7.2   2.3\n",
       "3           20.3      12.2       5.6   4.7\n",
       "4            1.3       8.9       2.8   6.1"
      ]
     },
     "execution_count": 47,
     "metadata": {},
     "output_type": "execute_result"
    }
   ],
   "source": [
    "# Put all continuous variables into a list\n",
    "continuous_lst = ['precipitation', 'temp_max', 'temp_min', 'wind']\n",
    "# Create a seperate & smaller dataframe for our chosen variables. Use 'copy=True' so changes wont affect original\n",
    "dfc2b = pd.DataFrame(dfc1, columns=continuous_lst, copy=True)\n",
    "dfc2b.head()"
   ]
  },
  {
   "cell_type": "markdown",
   "metadata": {
    "id": "TLtIxsxL01vX"
   },
   "source": [
    "### Create new dataframe"
   ]
  },
  {
   "cell_type": "code",
   "execution_count": 48,
   "metadata": {
    "id": "rSVcV5pL01_x"
   },
   "outputs": [],
   "source": [
    "# Create new df with variables we want to work with:\n",
    "new_cols = ['date', 'precipitation', 'temp_max', 'temp_min', 'wind', 'weather']\n",
    "\n",
    "df = df0[new_cols]\n",
    "# df.head()"
   ]
  },
  {
   "cell_type": "code",
   "execution_count": 49,
   "metadata": {
    "id": "0eVsX_2t3HYN"
   },
   "outputs": [
    {
     "data": {
      "text/plain": [
       "date             False\n",
       "precipitation    False\n",
       "temp_max         False\n",
       "temp_min         False\n",
       "wind             False\n",
       "weather          False\n",
       "dtype: bool"
      ]
     },
     "execution_count": 49,
     "metadata": {},
     "output_type": "execute_result"
    }
   ],
   "source": [
    "# Let's show all columns with missing data as well:\n",
    "df[df.isnull().any(axis=1)] # any missing data in columns\n",
    "df.isnull().any()"
   ]
  },
  {
   "cell_type": "code",
   "execution_count": 50,
   "metadata": {
    "colab": {
     "base_uri": "https://localhost:8080/",
     "height": 206
    },
    "id": "YDZTIG8w06pU",
    "outputId": "b162c88d-a4fc-4f02-83df-8d6c28a99a60"
   },
   "outputs": [
    {
     "data": {
      "text/html": [
       "<div>\n",
       "<style scoped>\n",
       "    .dataframe tbody tr th:only-of-type {\n",
       "        vertical-align: middle;\n",
       "    }\n",
       "\n",
       "    .dataframe tbody tr th {\n",
       "        vertical-align: top;\n",
       "    }\n",
       "\n",
       "    .dataframe thead th {\n",
       "        text-align: right;\n",
       "    }\n",
       "</style>\n",
       "<table border=\"1\" class=\"dataframe\">\n",
       "  <thead>\n",
       "    <tr style=\"text-align: right;\">\n",
       "      <th></th>\n",
       "      <th>date</th>\n",
       "      <th>precipitation</th>\n",
       "      <th>temp_max</th>\n",
       "      <th>temp_min</th>\n",
       "      <th>wind</th>\n",
       "      <th>weather</th>\n",
       "    </tr>\n",
       "  </thead>\n",
       "  <tbody>\n",
       "    <tr>\n",
       "      <th>0</th>\n",
       "      <td>2012-01-01</td>\n",
       "      <td>mid</td>\n",
       "      <td>mid</td>\n",
       "      <td>mid</td>\n",
       "      <td>high</td>\n",
       "      <td>drizzle</td>\n",
       "    </tr>\n",
       "    <tr>\n",
       "      <th>1</th>\n",
       "      <td>2012-01-02</td>\n",
       "      <td>high</td>\n",
       "      <td>mid</td>\n",
       "      <td>low</td>\n",
       "      <td>mid</td>\n",
       "      <td>rain</td>\n",
       "    </tr>\n",
       "    <tr>\n",
       "      <th>2</th>\n",
       "      <td>2012-01-03</td>\n",
       "      <td>mid</td>\n",
       "      <td>mid</td>\n",
       "      <td>mid</td>\n",
       "      <td>mid</td>\n",
       "      <td>rain</td>\n",
       "    </tr>\n",
       "    <tr>\n",
       "      <th>3</th>\n",
       "      <td>2012-01-04</td>\n",
       "      <td>high</td>\n",
       "      <td>mid</td>\n",
       "      <td>mid</td>\n",
       "      <td>high</td>\n",
       "      <td>rain</td>\n",
       "    </tr>\n",
       "    <tr>\n",
       "      <th>4</th>\n",
       "      <td>2012-01-05</td>\n",
       "      <td>mid</td>\n",
       "      <td>low</td>\n",
       "      <td>low</td>\n",
       "      <td>high</td>\n",
       "      <td>rain</td>\n",
       "    </tr>\n",
       "  </tbody>\n",
       "</table>\n",
       "</div>"
      ],
      "text/plain": [
       "         date precipitation temp_max temp_min  wind  weather\n",
       "0  2012-01-01           mid      mid      mid  high  drizzle\n",
       "1  2012-01-02          high      mid      low   mid     rain\n",
       "2  2012-01-03           mid      mid      mid   mid     rain\n",
       "3  2012-01-04          high      mid      mid  high     rain\n",
       "4  2012-01-05           mid      low      low  high     rain"
      ]
     },
     "execution_count": 50,
     "metadata": {},
     "output_type": "execute_result"
    }
   ],
   "source": [
    "num_stdv = 1\n",
    "\n",
    "# Define the labels dictionary\n",
    "labels = {\n",
    "    'precipitation': ['low', 'mid', 'high'],\n",
    "    'temp_max': ['low', 'mid', 'high'],\n",
    "    'temp_min': ['low', 'mid', 'high'],\n",
    "    'wind': ['low', 'mid', 'high']\n",
    "}\n",
    "\n",
    "# Create bounds for continuous labels\n",
    "for col in df.columns:\n",
    "    if col in labels:\n",
    "        col_mean = df[col].mean()\n",
    "        col_stdv = df[col].std()\n",
    "        lower_bound = col_mean - col_stdv * num_stdv\n",
    "        upper_bound = col_mean + col_stdv * num_stdv\n",
    "        bins = [-float('inf'), lower_bound, upper_bound, float('inf')]\n",
    "        df[col] = pd.cut(df[col], bins=bins, labels=labels[col])\n",
    "\n",
    "df.head()"
   ]
  },
  {
   "cell_type": "markdown",
   "metadata": {
    "id": "eG6lW2LPsspt"
   },
   "source": [
    "# Creating Bayes Nets"
   ]
  },
  {
   "attachments": {
    "image.png": {
     "image/png": "[encoded data removed]"
    }
   },
   "cell_type": "markdown",
   "metadata": {},
   "source": [
    "![image.png](attachment:image.png)"
   ]
  },
  {
   "cell_type": "code",
   "execution_count": 14,
   "metadata": {
    "id": "4jLlqnOisqre"
   },
   "outputs": [],
   "source": [
    "# Define the hierarchy\n",
    "modelfig1 = BayesianNetwork([\n",
    "    ('weather', 'precipitation'), ('weather', 'wind'),\n",
    "    ('precipitation', 'temp_max'),\n",
    "    ('wind', 'temp_min')\n",
    "])\n",
    "\n",
    "# And, the states for each variables\n",
    "weather_states = ['drizzle', 'rain', 'sun', 'snow', 'fog']\n",
    "precipitation_states = ['low', 'mid', 'high']\n",
    "wind_states = ['low', 'mid', 'high']\n",
    "temp_max_states = ['low', 'mid', 'high']\n",
    "temp_min_states = ['low', 'mid', 'high']"
   ]
  },
  {
   "cell_type": "code",
   "execution_count": 15,
   "metadata": {
    "id": "YfJQrK90s1mh"
   },
   "outputs": [
    {
     "name": "stderr",
     "output_type": "stream",
     "text": [
      "C:\\Users\\Antonio Luque\\AppData\\Local\\Temp\\ipykernel_5416\\1747450688.py:19: FutureWarning: The default of observed=False is deprecated and will be changed to True in a future version of pandas. Pass observed=False to retain current behavior or observed=True to adopt the future default and silence this warning.\n",
      "  value_given_key = df.groupby(key)[value[i]].value_counts(normalize=True).sort_index()\n",
      "C:\\Users\\Antonio Luque\\AppData\\Local\\Temp\\ipykernel_5416\\1747450688.py:19: FutureWarning: The default of observed=False is deprecated and will be changed to True in a future version of pandas. Pass observed=False to retain current behavior or observed=True to adopt the future default and silence this warning.\n",
      "  value_given_key = df.groupby(key)[value[i]].value_counts(normalize=True).sort_index()\n"
     ]
    },
    {
     "data": {
      "text/plain": [
       "[array([[0.        , 0.        , 0.        , 0.        , 0.        ],\n",
       "        [1.        , 1.        , 0.7800312 , 0.69230769, 1.        ],\n",
       "        [0.        , 0.        , 0.2199688 , 0.30769231, 0.        ]]),\n",
       " array([[0.30188679, 0.35643564, 0.10452418, 0.07692308, 0.140625  ],\n",
       "        [0.67924528, 0.58415842, 0.64118565, 0.38461538, 0.775     ],\n",
       "        [0.01886792, 0.05940594, 0.25429017, 0.53846154, 0.084375  ]]),\n",
       " array([[0.33      , 0.16996951, 0.18120805],\n",
       "        [0.33      , 0.61128049, 0.80536913],\n",
       "        [0.33      , 0.21875   , 0.01342282]]),\n",
       " array([[0.26066351, 0.14229249, 0.18067227],\n",
       "        [0.61137441, 0.5958498 , 0.77310924],\n",
       "        [0.12796209, 0.26185771, 0.04621849]])]"
      ]
     },
     "execution_count": 15,
     "metadata": {},
     "output_type": "execute_result"
    }
   ],
   "source": [
    "# Calculate Probabilities\n",
    "\n",
    "# Weather does not have any parents so all we need are the marginal probabilities of observing each weather type\n",
    "weather_marginal = (df['weather'].value_counts()/len(df['weather'])).round(3)\n",
    "weather_marginal = np.array([[value] for value in weather_marginal])\n",
    "\n",
    "# Joint Propabilities\n",
    "# Create dict where key=parent, value=child\n",
    "var_dict = {'weather': ['precipitation', 'wind'],\n",
    "            'precipitation': ['temp_max'],\n",
    "            'wind': ['temp_min']\n",
    "            }\n",
    "\n",
    "# Create conditional distributions and store results in a list\n",
    "cpd_lst = []\n",
    "for key, value in var_dict.items():\n",
    "    length = len(value)\n",
    "    for i in range(length):\n",
    "        value_given_key = df.groupby(key)[value[i]].value_counts(normalize=True).sort_index()\n",
    "        cpd = value_given_key.unstack(fill_value=0).to_numpy().T\n",
    "        cpd_lst.append(cpd)\n",
    "# Note that we get 3 Nan values in the above conditional distributions. This is because one of the type of precipitation (low) did not contain any relation with temp_max.\n",
    "# Therefore, normalization, does not produce the intended result.\n",
    "# To mitigate this, we replace Nan with the equal probability within the three values, i.e., 0.33\n",
    "cpd_lst[2][:,0] = .33\n",
    "cpd_lst"
   ]
  },
  {
   "cell_type": "code",
   "execution_count": 16,
   "metadata": {
    "id": "WM28YMt-s2b_"
   },
   "outputs": [],
   "source": [
    "# Creating tabular conditional probability distribution\n",
    "weather_cpd = TabularCPD(variable='weather', variable_card=5, values=weather_marginal, state_names={'weather': weather_states})\n",
    "\n",
    "precipitation_cpd = TabularCPD(variable='precipitation', variable_card=3, evidence=['weather'], evidence_card=[5],\n",
    "                               values=cpd_lst[0], state_names={'precipitation': precipitation_states, 'weather': weather_states})\n",
    "\n",
    "wind_cpd = TabularCPD(variable='wind', variable_card=3, evidence=['weather'], evidence_card=[5],\n",
    "                               values=cpd_lst[1], state_names={'wind': wind_states, 'weather': weather_states})\n",
    "\n",
    "temp_max_cpd = TabularCPD(variable='temp_max', variable_card=3, evidence=['precipitation'], evidence_card=[3],\n",
    "                               values=cpd_lst[2], state_names={'temp_max': temp_max_states, 'precipitation': precipitation_states})\n",
    "\n",
    "temp_min_cpd = TabularCPD(variable='temp_min', variable_card=3, evidence=['wind'], evidence_card=[3],\n",
    "                               values=cpd_lst[3], state_names={'temp_min': temp_min_states, 'wind': wind_states})\n"
   ]
  },
  {
   "cell_type": "code",
   "execution_count": 17,
   "metadata": {
    "id": "zrJIsmU7s_5N"
   },
   "outputs": [
    {
     "data": {
      "text/plain": [
       "True"
      ]
     },
     "execution_count": 17,
     "metadata": {},
     "output_type": "execute_result"
    }
   ],
   "source": [
    "# Add CPDs and factors to the model\n",
    "modelfig1.add_cpds(weather_cpd, precipitation_cpd, wind_cpd, temp_max_cpd, temp_min_cpd)\n",
    "\n",
    "# Check if model is consistent\n",
    "modelfig1.check_model()"
   ]
  },
  {
   "cell_type": "code",
   "execution_count": 18,
   "metadata": {
    "colab": {
     "base_uri": "https://localhost:8080/"
    },
    "id": "iWEUCooE6Y-z",
    "outputId": "6c9b3be0-c654-442b-a195-a306f902522b"
   },
   "outputs": [
    {
     "data": {
      "text/plain": [
       "NodeView(('weather', 'precipitation', 'wind', 'temp_max', 'temp_min'))"
      ]
     },
     "execution_count": 18,
     "metadata": {},
     "output_type": "execute_result"
    }
   ],
   "source": [
    "# Viewing nodes of the model\n",
    "modelfig1.nodes()"
   ]
  },
  {
   "cell_type": "code",
   "execution_count": 19,
   "metadata": {
    "colab": {
     "base_uri": "https://localhost:8080/"
    },
    "id": "udgc3c0G6lTJ",
    "outputId": "a1267d64-55f1-4acc-cbee-bfbffb2e00fb"
   },
   "outputs": [
    {
     "data": {
      "text/plain": [
       "OutEdgeView([('weather', 'precipitation'), ('weather', 'wind'), ('precipitation', 'temp_max'), ('wind', 'temp_min')])"
      ]
     },
     "execution_count": 19,
     "metadata": {},
     "output_type": "execute_result"
    }
   ],
   "source": [
    "# Viewing edges of the model\n",
    "modelfig1.edges()"
   ]
  },
  {
   "cell_type": "code",
   "execution_count": 20,
   "metadata": {
    "id": "hHv1dS0p6raG"
   },
   "outputs": [
    {
     "name": "stdout",
     "output_type": "stream",
     "text": [
      "+------------------+-------+\n",
      "| weather(drizzle) | 0.439 |\n",
      "+------------------+-------+\n",
      "| weather(rain)    | 0.438 |\n",
      "+------------------+-------+\n",
      "| weather(sun)     | 0.069 |\n",
      "+------------------+-------+\n",
      "| weather(snow)    | 0.036 |\n",
      "+------------------+-------+\n",
      "| weather(fog)     | 0.018 |\n",
      "+------------------+-------+\n",
      "+------------+----------------------+-----+--------------+\n",
      "| weather    | weather(drizzle)     | ... | weather(fog) |\n",
      "+------------+----------------------+-----+--------------+\n",
      "| wind(low)  | 0.3018867924528302   | ... | 0.140625     |\n",
      "+------------+----------------------+-----+--------------+\n",
      "| wind(mid)  | 0.6792452830188679   | ... | 0.775        |\n",
      "+------------+----------------------+-----+--------------+\n",
      "| wind(high) | 0.018867924528301886 | ... | 0.084375     |\n",
      "+------------+----------------------+-----+--------------+\n"
     ]
    }
   ],
   "source": [
    "# Print the probability table of the weather node\n",
    "print(weather_cpd)\n",
    "\n",
    "# Print the probability table of the wind node\n",
    "print(wind_cpd)"
   ]
  },
  {
   "cell_type": "code",
   "execution_count": 21,
   "metadata": {
    "id": "dSTNY8Mv7P5b"
   },
   "outputs": [
    {
     "data": {
      "text/plain": [
       "(temp_max ⟂ wind, weather, temp_min | precipitation)"
      ]
     },
     "execution_count": 21,
     "metadata": {},
     "output_type": "execute_result"
    }
   ],
   "source": [
    "# Independcies in the model\n",
    "modelfig1.get_independencies()\n",
    "# Checking independcies of a particular node\n",
    "modelfig1.local_independencies('temp_max')"
   ]
  },
  {
   "cell_type": "markdown",
   "metadata": {
    "id": "DLGlLT-u1mgI"
   },
   "source": [
    "# Task 1.2"
   ]
  },
  {
   "cell_type": "code",
   "execution_count": 22,
   "metadata": {
    "id": "f7Bp2mCD1ocl"
   },
   "outputs": [],
   "source": [
    "from pgmpy.inference import VariableElimination\n",
    "inference = VariableElimination(modelfig1)"
   ]
  },
  {
   "cell_type": "code",
   "execution_count": 23,
   "metadata": {
    "id": "6C1h4iFn1ut3"
   },
   "outputs": [
    {
     "name": "stdout",
     "output_type": "stream",
     "text": [
      "+------------+-------------+\n",
      "| wind       |   phi(wind) |\n",
      "+============+=============+\n",
      "| wind(low)  |      0.1045 |\n",
      "+------------+-------------+\n",
      "| wind(mid)  |      0.6412 |\n",
      "+------------+-------------+\n",
      "| wind(high) |      0.2543 |\n",
      "+------------+-------------+\n",
      "Probability of high wind when the weather is sunny:25.4290%\n",
      "+------------------+----------------+\n",
      "| weather          |   phi(weather) |\n",
      "+==================+================+\n",
      "| weather(drizzle) |         0.1139 |\n",
      "+------------------+----------------+\n",
      "| weather(rain)    |         0.3576 |\n",
      "+------------------+----------------+\n",
      "| weather(sun)     |         0.2412 |\n",
      "+------------------+----------------+\n",
      "| weather(snow)    |         0.2664 |\n",
      "+------------------+----------------+\n",
      "| weather(fog)     |         0.0209 |\n",
      "+------------------+----------------+\n",
      "Probability of sunny weather when the wind is high: 24.1175%\n"
     ]
    }
   ],
   "source": [
    "\n",
    "# Question 1: (a) What is the probability of high wind when the weather is sunny? \n",
    "probs_wind_by_sun = inference.query(variables=['wind'], evidence={'weather': 'sun'})\n",
    "print(probs_wind_by_sun)\n",
    "\n",
    "prob_high_wind_when_sunny = probs_wind_by_sun.values[2] * 100\n",
    "print(f\"Probability of high wind when the weather is sunny:{prob_high_wind_when_sunny:.4f}%\")\n",
    "\n",
    "\n",
    "# (b) What is the probability of sunny weather when the wind is high?\n",
    "prob_weather_by_high_wind = inference.query(variables=['weather'], evidence={'wind': 'high'})\n",
    "print(prob_weather_by_high_wind)\n",
    "\n",
    "prob_sunny_when_high_wind = prob_weather_by_high_wind.values[2] * 100  # Convert fraction to percentage\n",
    "print(f\"Probability of sunny weather when the wind is high: {prob_sunny_when_high_wind:.4f}%\")"
   ]
  },
  {
   "cell_type": "code",
   "execution_count": 24,
   "metadata": {},
   "outputs": [
    {
     "name": "stdout",
     "output_type": "stream",
     "text": [
      "+------------------+------------+---------------------+----------------+----------------+-----------------------------------------------------+\n",
      "| weather          | wind       | precipitation       | temp_max       | temp_min       |   phi(weather,wind,precipitation,temp_max,temp_min) |\n",
      "+==================+============+=====================+================+================+=====================================================+\n",
      "| weather(drizzle) | wind(low)  | precipitation(low)  | temp_max(low)  | temp_min(low)  |                                              0.0000 |\n",
      "+------------------+------------+---------------------+----------------+----------------+-----------------------------------------------------+\n",
      "| weather(drizzle) | wind(low)  | precipitation(low)  | temp_max(low)  | temp_min(mid)  |                                              0.0000 |\n",
      "+------------------+------------+---------------------+----------------+----------------+-----------------------------------------------------+\n",
      "| weather(drizzle) | wind(low)  | precipitation(low)  | temp_max(low)  | temp_min(high) |                                              0.0000 |\n",
      "+------------------+------------+---------------------+----------------+----------------+-----------------------------------------------------+\n",
      "| weather(drizzle) | wind(low)  | precipitation(low)  | temp_max(mid)  | temp_min(low)  |                                              0.0000 |\n",
      "+------------------+------------+---------------------+----------------+----------------+-----------------------------------------------------+\n",
      "| weather(drizzle) | wind(low)  | precipitation(low)  | temp_max(mid)  | temp_min(mid)  |                                              0.0000 |\n",
      "+------------------+------------+---------------------+----------------+----------------+-----------------------------------------------------+\n",
      "| weather(drizzle) | wind(low)  | precipitation(low)  | temp_max(mid)  | temp_min(high) |                                              0.0000 |\n",
      "+------------------+------------+---------------------+----------------+----------------+-----------------------------------------------------+\n",
      "| weather(drizzle) | wind(low)  | precipitation(low)  | temp_max(high) | temp_min(low)  |                                              0.0000 |\n",
      "+------------------+------------+---------------------+----------------+----------------+-----------------------------------------------------+\n",
      "| weather(drizzle) | wind(low)  | precipitation(low)  | temp_max(high) | temp_min(mid)  |                                              0.0000 |\n",
      "+------------------+------------+---------------------+----------------+----------------+-----------------------------------------------------+\n",
      "| weather(drizzle) | wind(low)  | precipitation(low)  | temp_max(high) | temp_min(high) |                                              0.0000 |\n",
      "+------------------+------------+---------------------+----------------+----------------+-----------------------------------------------------+\n",
      "| weather(drizzle) | wind(low)  | precipitation(mid)  | temp_max(low)  | temp_min(low)  |                                              0.0059 |\n",
      "+------------------+------------+---------------------+----------------+----------------+-----------------------------------------------------+\n",
      "| weather(drizzle) | wind(low)  | precipitation(mid)  | temp_max(low)  | temp_min(mid)  |                                              0.0138 |\n",
      "+------------------+------------+---------------------+----------------+----------------+-----------------------------------------------------+\n",
      "| weather(drizzle) | wind(low)  | precipitation(mid)  | temp_max(low)  | temp_min(high) |                                              0.0029 |\n",
      "+------------------+------------+---------------------+----------------+----------------+-----------------------------------------------------+\n",
      "| weather(drizzle) | wind(low)  | precipitation(mid)  | temp_max(mid)  | temp_min(low)  |                                              0.0211 |\n",
      "+------------------+------------+---------------------+----------------+----------------+-----------------------------------------------------+\n",
      "| weather(drizzle) | wind(low)  | precipitation(mid)  | temp_max(mid)  | temp_min(mid)  |                                              0.0495 |\n",
      "+------------------+------------+---------------------+----------------+----------------+-----------------------------------------------------+\n",
      "| weather(drizzle) | wind(low)  | precipitation(mid)  | temp_max(mid)  | temp_min(high) |                                              0.0104 |\n",
      "+------------------+------------+---------------------+----------------+----------------+-----------------------------------------------------+\n",
      "| weather(drizzle) | wind(low)  | precipitation(mid)  | temp_max(high) | temp_min(low)  |                                              0.0076 |\n",
      "+------------------+------------+---------------------+----------------+----------------+-----------------------------------------------------+\n",
      "| weather(drizzle) | wind(low)  | precipitation(mid)  | temp_max(high) | temp_min(mid)  |                                              0.0177 |\n",
      "+------------------+------------+---------------------+----------------+----------------+-----------------------------------------------------+\n",
      "| weather(drizzle) | wind(low)  | precipitation(mid)  | temp_max(high) | temp_min(high) |                                              0.0037 |\n",
      "+------------------+------------+---------------------+----------------+----------------+-----------------------------------------------------+\n",
      "| weather(drizzle) | wind(low)  | precipitation(high) | temp_max(low)  | temp_min(low)  |                                              0.0000 |\n",
      "+------------------+------------+---------------------+----------------+----------------+-----------------------------------------------------+\n",
      "| weather(drizzle) | wind(low)  | precipitation(high) | temp_max(low)  | temp_min(mid)  |                                              0.0000 |\n",
      "+------------------+------------+---------------------+----------------+----------------+-----------------------------------------------------+\n",
      "| weather(drizzle) | wind(low)  | precipitation(high) | temp_max(low)  | temp_min(high) |                                              0.0000 |\n",
      "+------------------+------------+---------------------+----------------+----------------+-----------------------------------------------------+\n",
      "| weather(drizzle) | wind(low)  | precipitation(high) | temp_max(mid)  | temp_min(low)  |                                              0.0000 |\n",
      "+------------------+------------+---------------------+----------------+----------------+-----------------------------------------------------+\n",
      "| weather(drizzle) | wind(low)  | precipitation(high) | temp_max(mid)  | temp_min(mid)  |                                              0.0000 |\n",
      "+------------------+------------+---------------------+----------------+----------------+-----------------------------------------------------+\n",
      "| weather(drizzle) | wind(low)  | precipitation(high) | temp_max(mid)  | temp_min(high) |                                              0.0000 |\n",
      "+------------------+------------+---------------------+----------------+----------------+-----------------------------------------------------+\n",
      "| weather(drizzle) | wind(low)  | precipitation(high) | temp_max(high) | temp_min(low)  |                                              0.0000 |\n",
      "+------------------+------------+---------------------+----------------+----------------+-----------------------------------------------------+\n",
      "| weather(drizzle) | wind(low)  | precipitation(high) | temp_max(high) | temp_min(mid)  |                                              0.0000 |\n",
      "+------------------+------------+---------------------+----------------+----------------+-----------------------------------------------------+\n",
      "| weather(drizzle) | wind(low)  | precipitation(high) | temp_max(high) | temp_min(high) |                                              0.0000 |\n",
      "+------------------+------------+---------------------+----------------+----------------+-----------------------------------------------------+\n",
      "| weather(drizzle) | wind(mid)  | precipitation(low)  | temp_max(low)  | temp_min(low)  |                                              0.0000 |\n",
      "+------------------+------------+---------------------+----------------+----------------+-----------------------------------------------------+\n",
      "| weather(drizzle) | wind(mid)  | precipitation(low)  | temp_max(low)  | temp_min(mid)  |                                              0.0000 |\n",
      "+------------------+------------+---------------------+----------------+----------------+-----------------------------------------------------+\n",
      "| weather(drizzle) | wind(mid)  | precipitation(low)  | temp_max(low)  | temp_min(high) |                                              0.0000 |\n",
      "+------------------+------------+---------------------+----------------+----------------+-----------------------------------------------------+\n",
      "| weather(drizzle) | wind(mid)  | precipitation(low)  | temp_max(mid)  | temp_min(low)  |                                              0.0000 |\n",
      "+------------------+------------+---------------------+----------------+----------------+-----------------------------------------------------+\n",
      "| weather(drizzle) | wind(mid)  | precipitation(low)  | temp_max(mid)  | temp_min(mid)  |                                              0.0000 |\n",
      "+------------------+------------+---------------------+----------------+----------------+-----------------------------------------------------+\n",
      "| weather(drizzle) | wind(mid)  | precipitation(low)  | temp_max(mid)  | temp_min(high) |                                              0.0000 |\n",
      "+------------------+------------+---------------------+----------------+----------------+-----------------------------------------------------+\n",
      "| weather(drizzle) | wind(mid)  | precipitation(low)  | temp_max(high) | temp_min(low)  |                                              0.0000 |\n",
      "+------------------+------------+---------------------+----------------+----------------+-----------------------------------------------------+\n",
      "| weather(drizzle) | wind(mid)  | precipitation(low)  | temp_max(high) | temp_min(mid)  |                                              0.0000 |\n",
      "+------------------+------------+---------------------+----------------+----------------+-----------------------------------------------------+\n",
      "| weather(drizzle) | wind(mid)  | precipitation(low)  | temp_max(high) | temp_min(high) |                                              0.0000 |\n",
      "+------------------+------------+---------------------+----------------+----------------+-----------------------------------------------------+\n",
      "| weather(drizzle) | wind(mid)  | precipitation(mid)  | temp_max(low)  | temp_min(low)  |                                              0.0072 |\n",
      "+------------------+------------+---------------------+----------------+----------------+-----------------------------------------------------+\n",
      "| weather(drizzle) | wind(mid)  | precipitation(mid)  | temp_max(low)  | temp_min(mid)  |                                              0.0302 |\n",
      "+------------------+------------+---------------------+----------------+----------------+-----------------------------------------------------+\n",
      "| weather(drizzle) | wind(mid)  | precipitation(mid)  | temp_max(low)  | temp_min(high) |                                              0.0133 |\n",
      "+------------------+------------+---------------------+----------------+----------------+-----------------------------------------------------+\n",
      "| weather(drizzle) | wind(mid)  | precipitation(mid)  | temp_max(mid)  | temp_min(low)  |                                              0.0259 |\n",
      "+------------------+------------+---------------------+----------------+----------------+-----------------------------------------------------+\n",
      "| weather(drizzle) | wind(mid)  | precipitation(mid)  | temp_max(mid)  | temp_min(mid)  |                                              0.1086 |\n",
      "+------------------+------------+---------------------+----------------+----------------+-----------------------------------------------------+\n",
      "| weather(drizzle) | wind(mid)  | precipitation(mid)  | temp_max(mid)  | temp_min(high) |                                              0.0477 |\n",
      "+------------------+------------+---------------------+----------------+----------------+-----------------------------------------------------+\n",
      "| weather(drizzle) | wind(mid)  | precipitation(mid)  | temp_max(high) | temp_min(low)  |                                              0.0093 |\n",
      "+------------------+------------+---------------------+----------------+----------------+-----------------------------------------------------+\n",
      "| weather(drizzle) | wind(mid)  | precipitation(mid)  | temp_max(high) | temp_min(mid)  |                                              0.0389 |\n",
      "+------------------+------------+---------------------+----------------+----------------+-----------------------------------------------------+\n",
      "| weather(drizzle) | wind(mid)  | precipitation(mid)  | temp_max(high) | temp_min(high) |                                              0.0171 |\n",
      "+------------------+------------+---------------------+----------------+----------------+-----------------------------------------------------+\n",
      "| weather(drizzle) | wind(mid)  | precipitation(high) | temp_max(low)  | temp_min(low)  |                                              0.0000 |\n",
      "+------------------+------------+---------------------+----------------+----------------+-----------------------------------------------------+\n",
      "| weather(drizzle) | wind(mid)  | precipitation(high) | temp_max(low)  | temp_min(mid)  |                                              0.0000 |\n",
      "+------------------+------------+---------------------+----------------+----------------+-----------------------------------------------------+\n",
      "| weather(drizzle) | wind(mid)  | precipitation(high) | temp_max(low)  | temp_min(high) |                                              0.0000 |\n",
      "+------------------+------------+---------------------+----------------+----------------+-----------------------------------------------------+\n",
      "| weather(drizzle) | wind(mid)  | precipitation(high) | temp_max(mid)  | temp_min(low)  |                                              0.0000 |\n",
      "+------------------+------------+---------------------+----------------+----------------+-----------------------------------------------------+\n",
      "| weather(drizzle) | wind(mid)  | precipitation(high) | temp_max(mid)  | temp_min(mid)  |                                              0.0000 |\n",
      "+------------------+------------+---------------------+----------------+----------------+-----------------------------------------------------+\n",
      "| weather(drizzle) | wind(mid)  | precipitation(high) | temp_max(mid)  | temp_min(high) |                                              0.0000 |\n",
      "+------------------+------------+---------------------+----------------+----------------+-----------------------------------------------------+\n",
      "| weather(drizzle) | wind(mid)  | precipitation(high) | temp_max(high) | temp_min(low)  |                                              0.0000 |\n",
      "+------------------+------------+---------------------+----------------+----------------+-----------------------------------------------------+\n",
      "| weather(drizzle) | wind(mid)  | precipitation(high) | temp_max(high) | temp_min(mid)  |                                              0.0000 |\n",
      "+------------------+------------+---------------------+----------------+----------------+-----------------------------------------------------+\n",
      "| weather(drizzle) | wind(mid)  | precipitation(high) | temp_max(high) | temp_min(high) |                                              0.0000 |\n",
      "+------------------+------------+---------------------+----------------+----------------+-----------------------------------------------------+\n",
      "| weather(drizzle) | wind(high) | precipitation(low)  | temp_max(low)  | temp_min(low)  |                                              0.0000 |\n",
      "+------------------+------------+---------------------+----------------+----------------+-----------------------------------------------------+\n",
      "| weather(drizzle) | wind(high) | precipitation(low)  | temp_max(low)  | temp_min(mid)  |                                              0.0000 |\n",
      "+------------------+------------+---------------------+----------------+----------------+-----------------------------------------------------+\n",
      "| weather(drizzle) | wind(high) | precipitation(low)  | temp_max(low)  | temp_min(high) |                                              0.0000 |\n",
      "+------------------+------------+---------------------+----------------+----------------+-----------------------------------------------------+\n",
      "| weather(drizzle) | wind(high) | precipitation(low)  | temp_max(mid)  | temp_min(low)  |                                              0.0000 |\n",
      "+------------------+------------+---------------------+----------------+----------------+-----------------------------------------------------+\n",
      "| weather(drizzle) | wind(high) | precipitation(low)  | temp_max(mid)  | temp_min(mid)  |                                              0.0000 |\n",
      "+------------------+------------+---------------------+----------------+----------------+-----------------------------------------------------+\n",
      "| weather(drizzle) | wind(high) | precipitation(low)  | temp_max(mid)  | temp_min(high) |                                              0.0000 |\n",
      "+------------------+------------+---------------------+----------------+----------------+-----------------------------------------------------+\n",
      "| weather(drizzle) | wind(high) | precipitation(low)  | temp_max(high) | temp_min(low)  |                                              0.0000 |\n",
      "+------------------+------------+---------------------+----------------+----------------+-----------------------------------------------------+\n",
      "| weather(drizzle) | wind(high) | precipitation(low)  | temp_max(high) | temp_min(mid)  |                                              0.0000 |\n",
      "+------------------+------------+---------------------+----------------+----------------+-----------------------------------------------------+\n",
      "| weather(drizzle) | wind(high) | precipitation(low)  | temp_max(high) | temp_min(high) |                                              0.0000 |\n",
      "+------------------+------------+---------------------+----------------+----------------+-----------------------------------------------------+\n",
      "| weather(drizzle) | wind(high) | precipitation(mid)  | temp_max(low)  | temp_min(low)  |                                              0.0003 |\n",
      "+------------------+------------+---------------------+----------------+----------------+-----------------------------------------------------+\n",
      "| weather(drizzle) | wind(high) | precipitation(mid)  | temp_max(low)  | temp_min(mid)  |                                              0.0011 |\n",
      "+------------------+------------+---------------------+----------------+----------------+-----------------------------------------------------+\n",
      "| weather(drizzle) | wind(high) | precipitation(mid)  | temp_max(low)  | temp_min(high) |                                              0.0001 |\n",
      "+------------------+------------+---------------------+----------------+----------------+-----------------------------------------------------+\n",
      "| weather(drizzle) | wind(high) | precipitation(mid)  | temp_max(mid)  | temp_min(low)  |                                              0.0009 |\n",
      "+------------------+------------+---------------------+----------------+----------------+-----------------------------------------------------+\n",
      "| weather(drizzle) | wind(high) | precipitation(mid)  | temp_max(mid)  | temp_min(mid)  |                                              0.0039 |\n",
      "+------------------+------------+---------------------+----------------+----------------+-----------------------------------------------------+\n",
      "| weather(drizzle) | wind(high) | precipitation(mid)  | temp_max(mid)  | temp_min(high) |                                              0.0002 |\n",
      "+------------------+------------+---------------------+----------------+----------------+-----------------------------------------------------+\n",
      "| weather(drizzle) | wind(high) | precipitation(mid)  | temp_max(high) | temp_min(low)  |                                              0.0003 |\n",
      "+------------------+------------+---------------------+----------------+----------------+-----------------------------------------------------+\n",
      "| weather(drizzle) | wind(high) | precipitation(mid)  | temp_max(high) | temp_min(mid)  |                                              0.0014 |\n",
      "+------------------+------------+---------------------+----------------+----------------+-----------------------------------------------------+\n",
      "| weather(drizzle) | wind(high) | precipitation(mid)  | temp_max(high) | temp_min(high) |                                              0.0001 |\n",
      "+------------------+------------+---------------------+----------------+----------------+-----------------------------------------------------+\n",
      "| weather(drizzle) | wind(high) | precipitation(high) | temp_max(low)  | temp_min(low)  |                                              0.0000 |\n",
      "+------------------+------------+---------------------+----------------+----------------+-----------------------------------------------------+\n",
      "| weather(drizzle) | wind(high) | precipitation(high) | temp_max(low)  | temp_min(mid)  |                                              0.0000 |\n",
      "+------------------+------------+---------------------+----------------+----------------+-----------------------------------------------------+\n",
      "| weather(drizzle) | wind(high) | precipitation(high) | temp_max(low)  | temp_min(high) |                                              0.0000 |\n",
      "+------------------+------------+---------------------+----------------+----------------+-----------------------------------------------------+\n",
      "| weather(drizzle) | wind(high) | precipitation(high) | temp_max(mid)  | temp_min(low)  |                                              0.0000 |\n",
      "+------------------+------------+---------------------+----------------+----------------+-----------------------------------------------------+\n",
      "| weather(drizzle) | wind(high) | precipitation(high) | temp_max(mid)  | temp_min(mid)  |                                              0.0000 |\n",
      "+------------------+------------+---------------------+----------------+----------------+-----------------------------------------------------+\n",
      "| weather(drizzle) | wind(high) | precipitation(high) | temp_max(mid)  | temp_min(high) |                                              0.0000 |\n",
      "+------------------+------------+---------------------+----------------+----------------+-----------------------------------------------------+\n",
      "| weather(drizzle) | wind(high) | precipitation(high) | temp_max(high) | temp_min(low)  |                                              0.0000 |\n",
      "+------------------+------------+---------------------+----------------+----------------+-----------------------------------------------------+\n",
      "| weather(drizzle) | wind(high) | precipitation(high) | temp_max(high) | temp_min(mid)  |                                              0.0000 |\n",
      "+------------------+------------+---------------------+----------------+----------------+-----------------------------------------------------+\n",
      "| weather(drizzle) | wind(high) | precipitation(high) | temp_max(high) | temp_min(high) |                                              0.0000 |\n",
      "+------------------+------------+---------------------+----------------+----------------+-----------------------------------------------------+\n",
      "| weather(rain)    | wind(low)  | precipitation(low)  | temp_max(low)  | temp_min(low)  |                                              0.0000 |\n",
      "+------------------+------------+---------------------+----------------+----------------+-----------------------------------------------------+\n",
      "| weather(rain)    | wind(low)  | precipitation(low)  | temp_max(low)  | temp_min(mid)  |                                              0.0000 |\n",
      "+------------------+------------+---------------------+----------------+----------------+-----------------------------------------------------+\n",
      "| weather(rain)    | wind(low)  | precipitation(low)  | temp_max(low)  | temp_min(high) |                                              0.0000 |\n",
      "+------------------+------------+---------------------+----------------+----------------+-----------------------------------------------------+\n",
      "| weather(rain)    | wind(low)  | precipitation(low)  | temp_max(mid)  | temp_min(low)  |                                              0.0000 |\n",
      "+------------------+------------+---------------------+----------------+----------------+-----------------------------------------------------+\n",
      "| weather(rain)    | wind(low)  | precipitation(low)  | temp_max(mid)  | temp_min(mid)  |                                              0.0000 |\n",
      "+------------------+------------+---------------------+----------------+----------------+-----------------------------------------------------+\n",
      "| weather(rain)    | wind(low)  | precipitation(low)  | temp_max(mid)  | temp_min(high) |                                              0.0000 |\n",
      "+------------------+------------+---------------------+----------------+----------------+-----------------------------------------------------+\n",
      "| weather(rain)    | wind(low)  | precipitation(low)  | temp_max(high) | temp_min(low)  |                                              0.0000 |\n",
      "+------------------+------------+---------------------+----------------+----------------+-----------------------------------------------------+\n",
      "| weather(rain)    | wind(low)  | precipitation(low)  | temp_max(high) | temp_min(mid)  |                                              0.0000 |\n",
      "+------------------+------------+---------------------+----------------+----------------+-----------------------------------------------------+\n",
      "| weather(rain)    | wind(low)  | precipitation(low)  | temp_max(high) | temp_min(high) |                                              0.0000 |\n",
      "+------------------+------------+---------------------+----------------+----------------+-----------------------------------------------------+\n",
      "| weather(rain)    | wind(low)  | precipitation(mid)  | temp_max(low)  | temp_min(low)  |                                              0.0069 |\n",
      "+------------------+------------+---------------------+----------------+----------------+-----------------------------------------------------+\n",
      "| weather(rain)    | wind(low)  | precipitation(mid)  | temp_max(low)  | temp_min(mid)  |                                              0.0162 |\n",
      "+------------------+------------+---------------------+----------------+----------------+-----------------------------------------------------+\n",
      "| weather(rain)    | wind(low)  | precipitation(mid)  | temp_max(low)  | temp_min(high) |                                              0.0034 |\n",
      "+------------------+------------+---------------------+----------------+----------------+-----------------------------------------------------+\n",
      "| weather(rain)    | wind(low)  | precipitation(mid)  | temp_max(mid)  | temp_min(low)  |                                              0.0249 |\n",
      "+------------------+------------+---------------------+----------------+----------------+-----------------------------------------------------+\n",
      "| weather(rain)    | wind(low)  | precipitation(mid)  | temp_max(mid)  | temp_min(mid)  |                                              0.0583 |\n",
      "+------------------+------------+---------------------+----------------+----------------+-----------------------------------------------------+\n",
      "| weather(rain)    | wind(low)  | precipitation(mid)  | temp_max(mid)  | temp_min(high) |                                              0.0122 |\n",
      "+------------------+------------+---------------------+----------------+----------------+-----------------------------------------------------+\n",
      "| weather(rain)    | wind(low)  | precipitation(mid)  | temp_max(high) | temp_min(low)  |                                              0.0089 |\n",
      "+------------------+------------+---------------------+----------------+----------------+-----------------------------------------------------+\n",
      "| weather(rain)    | wind(low)  | precipitation(mid)  | temp_max(high) | temp_min(mid)  |                                              0.0209 |\n",
      "+------------------+------------+---------------------+----------------+----------------+-----------------------------------------------------+\n",
      "| weather(rain)    | wind(low)  | precipitation(mid)  | temp_max(high) | temp_min(high) |                                              0.0044 |\n",
      "+------------------+------------+---------------------+----------------+----------------+-----------------------------------------------------+\n",
      "| weather(rain)    | wind(low)  | precipitation(high) | temp_max(low)  | temp_min(low)  |                                              0.0000 |\n",
      "+------------------+------------+---------------------+----------------+----------------+-----------------------------------------------------+\n",
      "| weather(rain)    | wind(low)  | precipitation(high) | temp_max(low)  | temp_min(mid)  |                                              0.0000 |\n",
      "+------------------+------------+---------------------+----------------+----------------+-----------------------------------------------------+\n",
      "| weather(rain)    | wind(low)  | precipitation(high) | temp_max(low)  | temp_min(high) |                                              0.0000 |\n",
      "+------------------+------------+---------------------+----------------+----------------+-----------------------------------------------------+\n",
      "| weather(rain)    | wind(low)  | precipitation(high) | temp_max(mid)  | temp_min(low)  |                                              0.0000 |\n",
      "+------------------+------------+---------------------+----------------+----------------+-----------------------------------------------------+\n",
      "| weather(rain)    | wind(low)  | precipitation(high) | temp_max(mid)  | temp_min(mid)  |                                              0.0000 |\n",
      "+------------------+------------+---------------------+----------------+----------------+-----------------------------------------------------+\n",
      "| weather(rain)    | wind(low)  | precipitation(high) | temp_max(mid)  | temp_min(high) |                                              0.0000 |\n",
      "+------------------+------------+---------------------+----------------+----------------+-----------------------------------------------------+\n",
      "| weather(rain)    | wind(low)  | precipitation(high) | temp_max(high) | temp_min(low)  |                                              0.0000 |\n",
      "+------------------+------------+---------------------+----------------+----------------+-----------------------------------------------------+\n",
      "| weather(rain)    | wind(low)  | precipitation(high) | temp_max(high) | temp_min(mid)  |                                              0.0000 |\n",
      "+------------------+------------+---------------------+----------------+----------------+-----------------------------------------------------+\n",
      "| weather(rain)    | wind(low)  | precipitation(high) | temp_max(high) | temp_min(high) |                                              0.0000 |\n",
      "+------------------+------------+---------------------+----------------+----------------+-----------------------------------------------------+\n",
      "| weather(rain)    | wind(mid)  | precipitation(low)  | temp_max(low)  | temp_min(low)  |                                              0.0000 |\n",
      "+------------------+------------+---------------------+----------------+----------------+-----------------------------------------------------+\n",
      "| weather(rain)    | wind(mid)  | precipitation(low)  | temp_max(low)  | temp_min(mid)  |                                              0.0000 |\n",
      "+------------------+------------+---------------------+----------------+----------------+-----------------------------------------------------+\n",
      "| weather(rain)    | wind(mid)  | precipitation(low)  | temp_max(low)  | temp_min(high) |                                              0.0000 |\n",
      "+------------------+------------+---------------------+----------------+----------------+-----------------------------------------------------+\n",
      "| weather(rain)    | wind(mid)  | precipitation(low)  | temp_max(mid)  | temp_min(low)  |                                              0.0000 |\n",
      "+------------------+------------+---------------------+----------------+----------------+-----------------------------------------------------+\n",
      "| weather(rain)    | wind(mid)  | precipitation(low)  | temp_max(mid)  | temp_min(mid)  |                                              0.0000 |\n",
      "+------------------+------------+---------------------+----------------+----------------+-----------------------------------------------------+\n",
      "| weather(rain)    | wind(mid)  | precipitation(low)  | temp_max(mid)  | temp_min(high) |                                              0.0000 |\n",
      "+------------------+------------+---------------------+----------------+----------------+-----------------------------------------------------+\n",
      "| weather(rain)    | wind(mid)  | precipitation(low)  | temp_max(high) | temp_min(low)  |                                              0.0000 |\n",
      "+------------------+------------+---------------------+----------------+----------------+-----------------------------------------------------+\n",
      "| weather(rain)    | wind(mid)  | precipitation(low)  | temp_max(high) | temp_min(mid)  |                                              0.0000 |\n",
      "+------------------+------------+---------------------+----------------+----------------+-----------------------------------------------------+\n",
      "| weather(rain)    | wind(mid)  | precipitation(low)  | temp_max(high) | temp_min(high) |                                              0.0000 |\n",
      "+------------------+------------+---------------------+----------------+----------------+-----------------------------------------------------+\n",
      "| weather(rain)    | wind(mid)  | precipitation(mid)  | temp_max(low)  | temp_min(low)  |                                              0.0062 |\n",
      "+------------------+------------+---------------------+----------------+----------------+-----------------------------------------------------+\n",
      "| weather(rain)    | wind(mid)  | precipitation(mid)  | temp_max(low)  | temp_min(mid)  |                                              0.0259 |\n",
      "+------------------+------------+---------------------+----------------+----------------+-----------------------------------------------------+\n",
      "| weather(rain)    | wind(mid)  | precipitation(mid)  | temp_max(low)  | temp_min(high) |                                              0.0114 |\n",
      "+------------------+------------+---------------------+----------------+----------------+-----------------------------------------------------+\n",
      "| weather(rain)    | wind(mid)  | precipitation(mid)  | temp_max(mid)  | temp_min(low)  |                                              0.0223 |\n",
      "+------------------+------------+---------------------+----------------+----------------+-----------------------------------------------------+\n",
      "| weather(rain)    | wind(mid)  | precipitation(mid)  | temp_max(mid)  | temp_min(mid)  |                                              0.0932 |\n",
      "+------------------+------------+---------------------+----------------+----------------+-----------------------------------------------------+\n",
      "| weather(rain)    | wind(mid)  | precipitation(mid)  | temp_max(mid)  | temp_min(high) |                                              0.0410 |\n",
      "+------------------+------------+---------------------+----------------+----------------+-----------------------------------------------------+\n",
      "| weather(rain)    | wind(mid)  | precipitation(mid)  | temp_max(high) | temp_min(low)  |                                              0.0080 |\n",
      "+------------------+------------+---------------------+----------------+----------------+-----------------------------------------------------+\n",
      "| weather(rain)    | wind(mid)  | precipitation(mid)  | temp_max(high) | temp_min(mid)  |                                              0.0333 |\n",
      "+------------------+------------+---------------------+----------------+----------------+-----------------------------------------------------+\n",
      "| weather(rain)    | wind(mid)  | precipitation(mid)  | temp_max(high) | temp_min(high) |                                              0.0147 |\n",
      "+------------------+------------+---------------------+----------------+----------------+-----------------------------------------------------+\n",
      "| weather(rain)    | wind(mid)  | precipitation(high) | temp_max(low)  | temp_min(low)  |                                              0.0000 |\n",
      "+------------------+------------+---------------------+----------------+----------------+-----------------------------------------------------+\n",
      "| weather(rain)    | wind(mid)  | precipitation(high) | temp_max(low)  | temp_min(mid)  |                                              0.0000 |\n",
      "+------------------+------------+---------------------+----------------+----------------+-----------------------------------------------------+\n",
      "| weather(rain)    | wind(mid)  | precipitation(high) | temp_max(low)  | temp_min(high) |                                              0.0000 |\n",
      "+------------------+------------+---------------------+----------------+----------------+-----------------------------------------------------+\n",
      "| weather(rain)    | wind(mid)  | precipitation(high) | temp_max(mid)  | temp_min(low)  |                                              0.0000 |\n",
      "+------------------+------------+---------------------+----------------+----------------+-----------------------------------------------------+\n",
      "| weather(rain)    | wind(mid)  | precipitation(high) | temp_max(mid)  | temp_min(mid)  |                                              0.0000 |\n",
      "+------------------+------------+---------------------+----------------+----------------+-----------------------------------------------------+\n",
      "| weather(rain)    | wind(mid)  | precipitation(high) | temp_max(mid)  | temp_min(high) |                                              0.0000 |\n",
      "+------------------+------------+---------------------+----------------+----------------+-----------------------------------------------------+\n",
      "| weather(rain)    | wind(mid)  | precipitation(high) | temp_max(high) | temp_min(low)  |                                              0.0000 |\n",
      "+------------------+------------+---------------------+----------------+----------------+-----------------------------------------------------+\n",
      "| weather(rain)    | wind(mid)  | precipitation(high) | temp_max(high) | temp_min(mid)  |                                              0.0000 |\n",
      "+------------------+------------+---------------------+----------------+----------------+-----------------------------------------------------+\n",
      "| weather(rain)    | wind(mid)  | precipitation(high) | temp_max(high) | temp_min(high) |                                              0.0000 |\n",
      "+------------------+------------+---------------------+----------------+----------------+-----------------------------------------------------+\n",
      "| weather(rain)    | wind(high) | precipitation(low)  | temp_max(low)  | temp_min(low)  |                                              0.0000 |\n",
      "+------------------+------------+---------------------+----------------+----------------+-----------------------------------------------------+\n",
      "| weather(rain)    | wind(high) | precipitation(low)  | temp_max(low)  | temp_min(mid)  |                                              0.0000 |\n",
      "+------------------+------------+---------------------+----------------+----------------+-----------------------------------------------------+\n",
      "| weather(rain)    | wind(high) | precipitation(low)  | temp_max(low)  | temp_min(high) |                                              0.0000 |\n",
      "+------------------+------------+---------------------+----------------+----------------+-----------------------------------------------------+\n",
      "| weather(rain)    | wind(high) | precipitation(low)  | temp_max(mid)  | temp_min(low)  |                                              0.0000 |\n",
      "+------------------+------------+---------------------+----------------+----------------+-----------------------------------------------------+\n",
      "| weather(rain)    | wind(high) | precipitation(low)  | temp_max(mid)  | temp_min(mid)  |                                              0.0000 |\n",
      "+------------------+------------+---------------------+----------------+----------------+-----------------------------------------------------+\n",
      "| weather(rain)    | wind(high) | precipitation(low)  | temp_max(mid)  | temp_min(high) |                                              0.0000 |\n",
      "+------------------+------------+---------------------+----------------+----------------+-----------------------------------------------------+\n",
      "| weather(rain)    | wind(high) | precipitation(low)  | temp_max(high) | temp_min(low)  |                                              0.0000 |\n",
      "+------------------+------------+---------------------+----------------+----------------+-----------------------------------------------------+\n",
      "| weather(rain)    | wind(high) | precipitation(low)  | temp_max(high) | temp_min(mid)  |                                              0.0000 |\n",
      "+------------------+------------+---------------------+----------------+----------------+-----------------------------------------------------+\n",
      "| weather(rain)    | wind(high) | precipitation(low)  | temp_max(high) | temp_min(high) |                                              0.0000 |\n",
      "+------------------+------------+---------------------+----------------+----------------+-----------------------------------------------------+\n",
      "| weather(rain)    | wind(high) | precipitation(mid)  | temp_max(low)  | temp_min(low)  |                                              0.0008 |\n",
      "+------------------+------------+---------------------+----------------+----------------+-----------------------------------------------------+\n",
      "| weather(rain)    | wind(high) | precipitation(mid)  | temp_max(low)  | temp_min(mid)  |                                              0.0034 |\n",
      "+------------------+------------+---------------------+----------------+----------------+-----------------------------------------------------+\n",
      "| weather(rain)    | wind(high) | precipitation(mid)  | temp_max(low)  | temp_min(high) |                                              0.0002 |\n",
      "+------------------+------------+---------------------+----------------+----------------+-----------------------------------------------------+\n",
      "| weather(rain)    | wind(high) | precipitation(mid)  | temp_max(mid)  | temp_min(low)  |                                              0.0029 |\n",
      "+------------------+------------+---------------------+----------------+----------------+-----------------------------------------------------+\n",
      "| weather(rain)    | wind(high) | precipitation(mid)  | temp_max(mid)  | temp_min(mid)  |                                              0.0123 |\n",
      "+------------------+------------+---------------------+----------------+----------------+-----------------------------------------------------+\n",
      "| weather(rain)    | wind(high) | precipitation(mid)  | temp_max(mid)  | temp_min(high) |                                              0.0007 |\n",
      "+------------------+------------+---------------------+----------------+----------------+-----------------------------------------------------+\n",
      "| weather(rain)    | wind(high) | precipitation(mid)  | temp_max(high) | temp_min(low)  |                                              0.0010 |\n",
      "+------------------+------------+---------------------+----------------+----------------+-----------------------------------------------------+\n",
      "| weather(rain)    | wind(high) | precipitation(mid)  | temp_max(high) | temp_min(mid)  |                                              0.0044 |\n",
      "+------------------+------------+---------------------+----------------+----------------+-----------------------------------------------------+\n",
      "| weather(rain)    | wind(high) | precipitation(mid)  | temp_max(high) | temp_min(high) |                                              0.0003 |\n",
      "+------------------+------------+---------------------+----------------+----------------+-----------------------------------------------------+\n",
      "| weather(rain)    | wind(high) | precipitation(high) | temp_max(low)  | temp_min(low)  |                                              0.0000 |\n",
      "+------------------+------------+---------------------+----------------+----------------+-----------------------------------------------------+\n",
      "| weather(rain)    | wind(high) | precipitation(high) | temp_max(low)  | temp_min(mid)  |                                              0.0000 |\n",
      "+------------------+------------+---------------------+----------------+----------------+-----------------------------------------------------+\n",
      "| weather(rain)    | wind(high) | precipitation(high) | temp_max(low)  | temp_min(high) |                                              0.0000 |\n",
      "+------------------+------------+---------------------+----------------+----------------+-----------------------------------------------------+\n",
      "| weather(rain)    | wind(high) | precipitation(high) | temp_max(mid)  | temp_min(low)  |                                              0.0000 |\n",
      "+------------------+------------+---------------------+----------------+----------------+-----------------------------------------------------+\n",
      "| weather(rain)    | wind(high) | precipitation(high) | temp_max(mid)  | temp_min(mid)  |                                              0.0000 |\n",
      "+------------------+------------+---------------------+----------------+----------------+-----------------------------------------------------+\n",
      "| weather(rain)    | wind(high) | precipitation(high) | temp_max(mid)  | temp_min(high) |                                              0.0000 |\n",
      "+------------------+------------+---------------------+----------------+----------------+-----------------------------------------------------+\n",
      "| weather(rain)    | wind(high) | precipitation(high) | temp_max(high) | temp_min(low)  |                                              0.0000 |\n",
      "+------------------+------------+---------------------+----------------+----------------+-----------------------------------------------------+\n",
      "| weather(rain)    | wind(high) | precipitation(high) | temp_max(high) | temp_min(mid)  |                                              0.0000 |\n",
      "+------------------+------------+---------------------+----------------+----------------+-----------------------------------------------------+\n",
      "| weather(rain)    | wind(high) | precipitation(high) | temp_max(high) | temp_min(high) |                                              0.0000 |\n",
      "+------------------+------------+---------------------+----------------+----------------+-----------------------------------------------------+\n",
      "| weather(sun)     | wind(low)  | precipitation(low)  | temp_max(low)  | temp_min(low)  |                                              0.0000 |\n",
      "+------------------+------------+---------------------+----------------+----------------+-----------------------------------------------------+\n",
      "| weather(sun)     | wind(low)  | precipitation(low)  | temp_max(low)  | temp_min(mid)  |                                              0.0000 |\n",
      "+------------------+------------+---------------------+----------------+----------------+-----------------------------------------------------+\n",
      "| weather(sun)     | wind(low)  | precipitation(low)  | temp_max(low)  | temp_min(high) |                                              0.0000 |\n",
      "+------------------+------------+---------------------+----------------+----------------+-----------------------------------------------------+\n",
      "| weather(sun)     | wind(low)  | precipitation(low)  | temp_max(mid)  | temp_min(low)  |                                              0.0000 |\n",
      "+------------------+------------+---------------------+----------------+----------------+-----------------------------------------------------+\n",
      "| weather(sun)     | wind(low)  | precipitation(low)  | temp_max(mid)  | temp_min(mid)  |                                              0.0000 |\n",
      "+------------------+------------+---------------------+----------------+----------------+-----------------------------------------------------+\n",
      "| weather(sun)     | wind(low)  | precipitation(low)  | temp_max(mid)  | temp_min(high) |                                              0.0000 |\n",
      "+------------------+------------+---------------------+----------------+----------------+-----------------------------------------------------+\n",
      "| weather(sun)     | wind(low)  | precipitation(low)  | temp_max(high) | temp_min(low)  |                                              0.0000 |\n",
      "+------------------+------------+---------------------+----------------+----------------+-----------------------------------------------------+\n",
      "| weather(sun)     | wind(low)  | precipitation(low)  | temp_max(high) | temp_min(mid)  |                                              0.0000 |\n",
      "+------------------+------------+---------------------+----------------+----------------+-----------------------------------------------------+\n",
      "| weather(sun)     | wind(low)  | precipitation(low)  | temp_max(high) | temp_min(high) |                                              0.0000 |\n",
      "+------------------+------------+---------------------+----------------+----------------+-----------------------------------------------------+\n",
      "| weather(sun)     | wind(low)  | precipitation(mid)  | temp_max(low)  | temp_min(low)  |                                              0.0002 |\n",
      "+------------------+------------+---------------------+----------------+----------------+-----------------------------------------------------+\n",
      "| weather(sun)     | wind(low)  | precipitation(mid)  | temp_max(low)  | temp_min(mid)  |                                              0.0006 |\n",
      "+------------------+------------+---------------------+----------------+----------------+-----------------------------------------------------+\n",
      "| weather(sun)     | wind(low)  | precipitation(mid)  | temp_max(low)  | temp_min(high) |                                              0.0001 |\n",
      "+------------------+------------+---------------------+----------------+----------------+-----------------------------------------------------+\n",
      "| weather(sun)     | wind(low)  | precipitation(mid)  | temp_max(mid)  | temp_min(low)  |                                              0.0009 |\n",
      "+------------------+------------+---------------------+----------------+----------------+-----------------------------------------------------+\n",
      "| weather(sun)     | wind(low)  | precipitation(mid)  | temp_max(mid)  | temp_min(mid)  |                                              0.0021 |\n",
      "+------------------+------------+---------------------+----------------+----------------+-----------------------------------------------------+\n",
      "| weather(sun)     | wind(low)  | precipitation(mid)  | temp_max(mid)  | temp_min(high) |                                              0.0004 |\n",
      "+------------------+------------+---------------------+----------------+----------------+-----------------------------------------------------+\n",
      "| weather(sun)     | wind(low)  | precipitation(mid)  | temp_max(high) | temp_min(low)  |                                              0.0003 |\n",
      "+------------------+------------+---------------------+----------------+----------------+-----------------------------------------------------+\n",
      "| weather(sun)     | wind(low)  | precipitation(mid)  | temp_max(high) | temp_min(mid)  |                                              0.0008 |\n",
      "+------------------+------------+---------------------+----------------+----------------+-----------------------------------------------------+\n",
      "| weather(sun)     | wind(low)  | precipitation(mid)  | temp_max(high) | temp_min(high) |                                              0.0002 |\n",
      "+------------------+------------+---------------------+----------------+----------------+-----------------------------------------------------+\n",
      "| weather(sun)     | wind(low)  | precipitation(high) | temp_max(low)  | temp_min(low)  |                                              0.0001 |\n",
      "+------------------+------------+---------------------+----------------+----------------+-----------------------------------------------------+\n",
      "| weather(sun)     | wind(low)  | precipitation(high) | temp_max(low)  | temp_min(mid)  |                                              0.0002 |\n",
      "+------------------+------------+---------------------+----------------+----------------+-----------------------------------------------------+\n",
      "| weather(sun)     | wind(low)  | precipitation(high) | temp_max(low)  | temp_min(high) |                                              0.0000 |\n",
      "+------------------+------------+---------------------+----------------+----------------+-----------------------------------------------------+\n",
      "| weather(sun)     | wind(low)  | precipitation(high) | temp_max(mid)  | temp_min(low)  |                                              0.0003 |\n",
      "+------------------+------------+---------------------+----------------+----------------+-----------------------------------------------------+\n",
      "| weather(sun)     | wind(low)  | precipitation(high) | temp_max(mid)  | temp_min(mid)  |                                              0.0008 |\n",
      "+------------------+------------+---------------------+----------------+----------------+-----------------------------------------------------+\n",
      "| weather(sun)     | wind(low)  | precipitation(high) | temp_max(mid)  | temp_min(high) |                                              0.0002 |\n",
      "+------------------+------------+---------------------+----------------+----------------+-----------------------------------------------------+\n",
      "| weather(sun)     | wind(low)  | precipitation(high) | temp_max(high) | temp_min(low)  |                                              0.0000 |\n",
      "+------------------+------------+---------------------+----------------+----------------+-----------------------------------------------------+\n",
      "| weather(sun)     | wind(low)  | precipitation(high) | temp_max(high) | temp_min(mid)  |                                              0.0000 |\n",
      "+------------------+------------+---------------------+----------------+----------------+-----------------------------------------------------+\n",
      "| weather(sun)     | wind(low)  | precipitation(high) | temp_max(high) | temp_min(high) |                                              0.0000 |\n",
      "+------------------+------------+---------------------+----------------+----------------+-----------------------------------------------------+\n",
      "| weather(sun)     | wind(mid)  | precipitation(low)  | temp_max(low)  | temp_min(low)  |                                              0.0000 |\n",
      "+------------------+------------+---------------------+----------------+----------------+-----------------------------------------------------+\n",
      "| weather(sun)     | wind(mid)  | precipitation(low)  | temp_max(low)  | temp_min(mid)  |                                              0.0000 |\n",
      "+------------------+------------+---------------------+----------------+----------------+-----------------------------------------------------+\n",
      "| weather(sun)     | wind(mid)  | precipitation(low)  | temp_max(low)  | temp_min(high) |                                              0.0000 |\n",
      "+------------------+------------+---------------------+----------------+----------------+-----------------------------------------------------+\n",
      "| weather(sun)     | wind(mid)  | precipitation(low)  | temp_max(mid)  | temp_min(low)  |                                              0.0000 |\n",
      "+------------------+------------+---------------------+----------------+----------------+-----------------------------------------------------+\n",
      "| weather(sun)     | wind(mid)  | precipitation(low)  | temp_max(mid)  | temp_min(mid)  |                                              0.0000 |\n",
      "+------------------+------------+---------------------+----------------+----------------+-----------------------------------------------------+\n",
      "| weather(sun)     | wind(mid)  | precipitation(low)  | temp_max(mid)  | temp_min(high) |                                              0.0000 |\n",
      "+------------------+------------+---------------------+----------------+----------------+-----------------------------------------------------+\n",
      "| weather(sun)     | wind(mid)  | precipitation(low)  | temp_max(high) | temp_min(low)  |                                              0.0000 |\n",
      "+------------------+------------+---------------------+----------------+----------------+-----------------------------------------------------+\n",
      "| weather(sun)     | wind(mid)  | precipitation(low)  | temp_max(high) | temp_min(mid)  |                                              0.0000 |\n",
      "+------------------+------------+---------------------+----------------+----------------+-----------------------------------------------------+\n",
      "| weather(sun)     | wind(mid)  | precipitation(low)  | temp_max(high) | temp_min(high) |                                              0.0000 |\n",
      "+------------------+------------+---------------------+----------------+----------------+-----------------------------------------------------+\n",
      "| weather(sun)     | wind(mid)  | precipitation(mid)  | temp_max(low)  | temp_min(low)  |                                              0.0008 |\n",
      "+------------------+------------+---------------------+----------------+----------------+-----------------------------------------------------+\n",
      "| weather(sun)     | wind(mid)  | precipitation(mid)  | temp_max(low)  | temp_min(mid)  |                                              0.0035 |\n",
      "+------------------+------------+---------------------+----------------+----------------+-----------------------------------------------------+\n",
      "| weather(sun)     | wind(mid)  | precipitation(mid)  | temp_max(low)  | temp_min(high) |                                              0.0015 |\n",
      "+------------------+------------+---------------------+----------------+----------------+-----------------------------------------------------+\n",
      "| weather(sun)     | wind(mid)  | precipitation(mid)  | temp_max(mid)  | temp_min(low)  |                                              0.0030 |\n",
      "+------------------+------------+---------------------+----------------+----------------+-----------------------------------------------------+\n",
      "| weather(sun)     | wind(mid)  | precipitation(mid)  | temp_max(mid)  | temp_min(mid)  |                                              0.0126 |\n",
      "+------------------+------------+---------------------+----------------+----------------+-----------------------------------------------------+\n",
      "| weather(sun)     | wind(mid)  | precipitation(mid)  | temp_max(mid)  | temp_min(high) |                                              0.0055 |\n",
      "+------------------+------------+---------------------+----------------+----------------+-----------------------------------------------------+\n",
      "| weather(sun)     | wind(mid)  | precipitation(mid)  | temp_max(high) | temp_min(low)  |                                              0.0011 |\n",
      "+------------------+------------+---------------------+----------------+----------------+-----------------------------------------------------+\n",
      "| weather(sun)     | wind(mid)  | precipitation(mid)  | temp_max(high) | temp_min(mid)  |                                              0.0045 |\n",
      "+------------------+------------+---------------------+----------------+----------------+-----------------------------------------------------+\n",
      "| weather(sun)     | wind(mid)  | precipitation(mid)  | temp_max(high) | temp_min(high) |                                              0.0020 |\n",
      "+------------------+------------+---------------------+----------------+----------------+-----------------------------------------------------+\n",
      "| weather(sun)     | wind(mid)  | precipitation(high) | temp_max(low)  | temp_min(low)  |                                              0.0003 |\n",
      "+------------------+------------+---------------------+----------------+----------------+-----------------------------------------------------+\n",
      "| weather(sun)     | wind(mid)  | precipitation(high) | temp_max(low)  | temp_min(mid)  |                                              0.0011 |\n",
      "+------------------+------------+---------------------+----------------+----------------+-----------------------------------------------------+\n",
      "| weather(sun)     | wind(mid)  | precipitation(high) | temp_max(low)  | temp_min(high) |                                              0.0005 |\n",
      "+------------------+------------+---------------------+----------------+----------------+-----------------------------------------------------+\n",
      "| weather(sun)     | wind(mid)  | precipitation(high) | temp_max(mid)  | temp_min(low)  |                                              0.0011 |\n",
      "+------------------+------------+---------------------+----------------+----------------+-----------------------------------------------------+\n",
      "| weather(sun)     | wind(mid)  | precipitation(high) | temp_max(mid)  | temp_min(mid)  |                                              0.0047 |\n",
      "+------------------+------------+---------------------+----------------+----------------+-----------------------------------------------------+\n",
      "| weather(sun)     | wind(mid)  | precipitation(high) | temp_max(mid)  | temp_min(high) |                                              0.0021 |\n",
      "+------------------+------------+---------------------+----------------+----------------+-----------------------------------------------------+\n",
      "| weather(sun)     | wind(mid)  | precipitation(high) | temp_max(high) | temp_min(low)  |                                              0.0000 |\n",
      "+------------------+------------+---------------------+----------------+----------------+-----------------------------------------------------+\n",
      "| weather(sun)     | wind(mid)  | precipitation(high) | temp_max(high) | temp_min(mid)  |                                              0.0001 |\n",
      "+------------------+------------+---------------------+----------------+----------------+-----------------------------------------------------+\n",
      "| weather(sun)     | wind(mid)  | precipitation(high) | temp_max(high) | temp_min(high) |                                              0.0000 |\n",
      "+------------------+------------+---------------------+----------------+----------------+-----------------------------------------------------+\n",
      "| weather(sun)     | wind(high) | precipitation(low)  | temp_max(low)  | temp_min(low)  |                                              0.0000 |\n",
      "+------------------+------------+---------------------+----------------+----------------+-----------------------------------------------------+\n",
      "| weather(sun)     | wind(high) | precipitation(low)  | temp_max(low)  | temp_min(mid)  |                                              0.0000 |\n",
      "+------------------+------------+---------------------+----------------+----------------+-----------------------------------------------------+\n",
      "| weather(sun)     | wind(high) | precipitation(low)  | temp_max(low)  | temp_min(high) |                                              0.0000 |\n",
      "+------------------+------------+---------------------+----------------+----------------+-----------------------------------------------------+\n",
      "| weather(sun)     | wind(high) | precipitation(low)  | temp_max(mid)  | temp_min(low)  |                                              0.0000 |\n",
      "+------------------+------------+---------------------+----------------+----------------+-----------------------------------------------------+\n",
      "| weather(sun)     | wind(high) | precipitation(low)  | temp_max(mid)  | temp_min(mid)  |                                              0.0000 |\n",
      "+------------------+------------+---------------------+----------------+----------------+-----------------------------------------------------+\n",
      "| weather(sun)     | wind(high) | precipitation(low)  | temp_max(mid)  | temp_min(high) |                                              0.0000 |\n",
      "+------------------+------------+---------------------+----------------+----------------+-----------------------------------------------------+\n",
      "| weather(sun)     | wind(high) | precipitation(low)  | temp_max(high) | temp_min(low)  |                                              0.0000 |\n",
      "+------------------+------------+---------------------+----------------+----------------+-----------------------------------------------------+\n",
      "| weather(sun)     | wind(high) | precipitation(low)  | temp_max(high) | temp_min(mid)  |                                              0.0000 |\n",
      "+------------------+------------+---------------------+----------------+----------------+-----------------------------------------------------+\n",
      "| weather(sun)     | wind(high) | precipitation(low)  | temp_max(high) | temp_min(high) |                                              0.0000 |\n",
      "+------------------+------------+---------------------+----------------+----------------+-----------------------------------------------------+\n",
      "| weather(sun)     | wind(high) | precipitation(mid)  | temp_max(low)  | temp_min(low)  |                                              0.0004 |\n",
      "+------------------+------------+---------------------+----------------+----------------+-----------------------------------------------------+\n",
      "| weather(sun)     | wind(high) | precipitation(mid)  | temp_max(low)  | temp_min(mid)  |                                              0.0018 |\n",
      "+------------------+------------+---------------------+----------------+----------------+-----------------------------------------------------+\n",
      "| weather(sun)     | wind(high) | precipitation(mid)  | temp_max(low)  | temp_min(high) |                                              0.0001 |\n",
      "+------------------+------------+---------------------+----------------+----------------+-----------------------------------------------------+\n",
      "| weather(sun)     | wind(high) | precipitation(mid)  | temp_max(mid)  | temp_min(low)  |                                              0.0015 |\n",
      "+------------------+------------+---------------------+----------------+----------------+-----------------------------------------------------+\n",
      "| weather(sun)     | wind(high) | precipitation(mid)  | temp_max(mid)  | temp_min(mid)  |                                              0.0065 |\n",
      "+------------------+------------+---------------------+----------------+----------------+-----------------------------------------------------+\n",
      "| weather(sun)     | wind(high) | precipitation(mid)  | temp_max(mid)  | temp_min(high) |                                              0.0004 |\n",
      "+------------------+------------+---------------------+----------------+----------------+-----------------------------------------------------+\n",
      "| weather(sun)     | wind(high) | precipitation(mid)  | temp_max(high) | temp_min(low)  |                                              0.0005 |\n",
      "+------------------+------------+---------------------+----------------+----------------+-----------------------------------------------------+\n",
      "| weather(sun)     | wind(high) | precipitation(mid)  | temp_max(high) | temp_min(mid)  |                                              0.0023 |\n",
      "+------------------+------------+---------------------+----------------+----------------+-----------------------------------------------------+\n",
      "| weather(sun)     | wind(high) | precipitation(mid)  | temp_max(high) | temp_min(high) |                                              0.0001 |\n",
      "+------------------+------------+---------------------+----------------+----------------+-----------------------------------------------------+\n",
      "| weather(sun)     | wind(high) | precipitation(high) | temp_max(low)  | temp_min(low)  |                                              0.0001 |\n",
      "+------------------+------------+---------------------+----------------+----------------+-----------------------------------------------------+\n",
      "| weather(sun)     | wind(high) | precipitation(high) | temp_max(low)  | temp_min(mid)  |                                              0.0005 |\n",
      "+------------------+------------+---------------------+----------------+----------------+-----------------------------------------------------+\n",
      "| weather(sun)     | wind(high) | precipitation(high) | temp_max(low)  | temp_min(high) |                                              0.0000 |\n",
      "+------------------+------------+---------------------+----------------+----------------+-----------------------------------------------------+\n",
      "| weather(sun)     | wind(high) | precipitation(high) | temp_max(mid)  | temp_min(low)  |                                              0.0006 |\n",
      "+------------------+------------+---------------------+----------------+----------------+-----------------------------------------------------+\n",
      "| weather(sun)     | wind(high) | precipitation(high) | temp_max(mid)  | temp_min(mid)  |                                              0.0024 |\n",
      "+------------------+------------+---------------------+----------------+----------------+-----------------------------------------------------+\n",
      "| weather(sun)     | wind(high) | precipitation(high) | temp_max(mid)  | temp_min(high) |                                              0.0001 |\n",
      "+------------------+------------+---------------------+----------------+----------------+-----------------------------------------------------+\n",
      "| weather(sun)     | wind(high) | precipitation(high) | temp_max(high) | temp_min(low)  |                                              0.0000 |\n",
      "+------------------+------------+---------------------+----------------+----------------+-----------------------------------------------------+\n",
      "| weather(sun)     | wind(high) | precipitation(high) | temp_max(high) | temp_min(mid)  |                                              0.0000 |\n",
      "+------------------+------------+---------------------+----------------+----------------+-----------------------------------------------------+\n",
      "| weather(sun)     | wind(high) | precipitation(high) | temp_max(high) | temp_min(high) |                                              0.0000 |\n",
      "+------------------+------------+---------------------+----------------+----------------+-----------------------------------------------------+\n",
      "| weather(snow)    | wind(low)  | precipitation(low)  | temp_max(low)  | temp_min(low)  |                                              0.0000 |\n",
      "+------------------+------------+---------------------+----------------+----------------+-----------------------------------------------------+\n",
      "| weather(snow)    | wind(low)  | precipitation(low)  | temp_max(low)  | temp_min(mid)  |                                              0.0000 |\n",
      "+------------------+------------+---------------------+----------------+----------------+-----------------------------------------------------+\n",
      "| weather(snow)    | wind(low)  | precipitation(low)  | temp_max(low)  | temp_min(high) |                                              0.0000 |\n",
      "+------------------+------------+---------------------+----------------+----------------+-----------------------------------------------------+\n",
      "| weather(snow)    | wind(low)  | precipitation(low)  | temp_max(mid)  | temp_min(low)  |                                              0.0000 |\n",
      "+------------------+------------+---------------------+----------------+----------------+-----------------------------------------------------+\n",
      "| weather(snow)    | wind(low)  | precipitation(low)  | temp_max(mid)  | temp_min(mid)  |                                              0.0000 |\n",
      "+------------------+------------+---------------------+----------------+----------------+-----------------------------------------------------+\n",
      "| weather(snow)    | wind(low)  | precipitation(low)  | temp_max(mid)  | temp_min(high) |                                              0.0000 |\n",
      "+------------------+------------+---------------------+----------------+----------------+-----------------------------------------------------+\n",
      "| weather(snow)    | wind(low)  | precipitation(low)  | temp_max(high) | temp_min(low)  |                                              0.0000 |\n",
      "+------------------+------------+---------------------+----------------+----------------+-----------------------------------------------------+\n",
      "| weather(snow)    | wind(low)  | precipitation(low)  | temp_max(high) | temp_min(mid)  |                                              0.0000 |\n",
      "+------------------+------------+---------------------+----------------+----------------+-----------------------------------------------------+\n",
      "| weather(snow)    | wind(low)  | precipitation(low)  | temp_max(high) | temp_min(high) |                                              0.0000 |\n",
      "+------------------+------------+---------------------+----------------+----------------+-----------------------------------------------------+\n",
      "| weather(snow)    | wind(low)  | precipitation(mid)  | temp_max(low)  | temp_min(low)  |                                              0.0001 |\n",
      "+------------------+------------+---------------------+----------------+----------------+-----------------------------------------------------+\n",
      "| weather(snow)    | wind(low)  | precipitation(mid)  | temp_max(low)  | temp_min(mid)  |                                              0.0002 |\n",
      "+------------------+------------+---------------------+----------------+----------------+-----------------------------------------------------+\n",
      "| weather(snow)    | wind(low)  | precipitation(mid)  | temp_max(low)  | temp_min(high) |                                              0.0000 |\n",
      "+------------------+------------+---------------------+----------------+----------------+-----------------------------------------------------+\n",
      "| weather(snow)    | wind(low)  | precipitation(mid)  | temp_max(mid)  | temp_min(low)  |                                              0.0003 |\n",
      "+------------------+------------+---------------------+----------------+----------------+-----------------------------------------------------+\n",
      "| weather(snow)    | wind(low)  | precipitation(mid)  | temp_max(mid)  | temp_min(mid)  |                                              0.0007 |\n",
      "+------------------+------------+---------------------+----------------+----------------+-----------------------------------------------------+\n",
      "| weather(snow)    | wind(low)  | precipitation(mid)  | temp_max(mid)  | temp_min(high) |                                              0.0001 |\n",
      "+------------------+------------+---------------------+----------------+----------------+-----------------------------------------------------+\n",
      "| weather(snow)    | wind(low)  | precipitation(mid)  | temp_max(high) | temp_min(low)  |                                              0.0001 |\n",
      "+------------------+------------+---------------------+----------------+----------------+-----------------------------------------------------+\n",
      "| weather(snow)    | wind(low)  | precipitation(mid)  | temp_max(high) | temp_min(mid)  |                                              0.0003 |\n",
      "+------------------+------------+---------------------+----------------+----------------+-----------------------------------------------------+\n",
      "| weather(snow)    | wind(low)  | precipitation(mid)  | temp_max(high) | temp_min(high) |                                              0.0001 |\n",
      "+------------------+------------+---------------------+----------------+----------------+-----------------------------------------------------+\n",
      "| weather(snow)    | wind(low)  | precipitation(high) | temp_max(low)  | temp_min(low)  |                                              0.0000 |\n",
      "+------------------+------------+---------------------+----------------+----------------+-----------------------------------------------------+\n",
      "| weather(snow)    | wind(low)  | precipitation(high) | temp_max(low)  | temp_min(mid)  |                                              0.0001 |\n",
      "+------------------+------------+---------------------+----------------+----------------+-----------------------------------------------------+\n",
      "| weather(snow)    | wind(low)  | precipitation(high) | temp_max(low)  | temp_min(high) |                                              0.0000 |\n",
      "+------------------+------------+---------------------+----------------+----------------+-----------------------------------------------------+\n",
      "| weather(snow)    | wind(low)  | precipitation(high) | temp_max(mid)  | temp_min(low)  |                                              0.0002 |\n",
      "+------------------+------------+---------------------+----------------+----------------+-----------------------------------------------------+\n",
      "| weather(snow)    | wind(low)  | precipitation(high) | temp_max(mid)  | temp_min(mid)  |                                              0.0004 |\n",
      "+------------------+------------+---------------------+----------------+----------------+-----------------------------------------------------+\n",
      "| weather(snow)    | wind(low)  | precipitation(high) | temp_max(mid)  | temp_min(high) |                                              0.0001 |\n",
      "+------------------+------------+---------------------+----------------+----------------+-----------------------------------------------------+\n",
      "| weather(snow)    | wind(low)  | precipitation(high) | temp_max(high) | temp_min(low)  |                                              0.0000 |\n",
      "+------------------+------------+---------------------+----------------+----------------+-----------------------------------------------------+\n",
      "| weather(snow)    | wind(low)  | precipitation(high) | temp_max(high) | temp_min(mid)  |                                              0.0000 |\n",
      "+------------------+------------+---------------------+----------------+----------------+-----------------------------------------------------+\n",
      "| weather(snow)    | wind(low)  | precipitation(high) | temp_max(high) | temp_min(high) |                                              0.0000 |\n",
      "+------------------+------------+---------------------+----------------+----------------+-----------------------------------------------------+\n",
      "| weather(snow)    | wind(mid)  | precipitation(low)  | temp_max(low)  | temp_min(low)  |                                              0.0000 |\n",
      "+------------------+------------+---------------------+----------------+----------------+-----------------------------------------------------+\n",
      "| weather(snow)    | wind(mid)  | precipitation(low)  | temp_max(low)  | temp_min(mid)  |                                              0.0000 |\n",
      "+------------------+------------+---------------------+----------------+----------------+-----------------------------------------------------+\n",
      "| weather(snow)    | wind(mid)  | precipitation(low)  | temp_max(low)  | temp_min(high) |                                              0.0000 |\n",
      "+------------------+------------+---------------------+----------------+----------------+-----------------------------------------------------+\n",
      "| weather(snow)    | wind(mid)  | precipitation(low)  | temp_max(mid)  | temp_min(low)  |                                              0.0000 |\n",
      "+------------------+------------+---------------------+----------------+----------------+-----------------------------------------------------+\n",
      "| weather(snow)    | wind(mid)  | precipitation(low)  | temp_max(mid)  | temp_min(mid)  |                                              0.0000 |\n",
      "+------------------+------------+---------------------+----------------+----------------+-----------------------------------------------------+\n",
      "| weather(snow)    | wind(mid)  | precipitation(low)  | temp_max(mid)  | temp_min(high) |                                              0.0000 |\n",
      "+------------------+------------+---------------------+----------------+----------------+-----------------------------------------------------+\n",
      "| weather(snow)    | wind(mid)  | precipitation(low)  | temp_max(high) | temp_min(low)  |                                              0.0000 |\n",
      "+------------------+------------+---------------------+----------------+----------------+-----------------------------------------------------+\n",
      "| weather(snow)    | wind(mid)  | precipitation(low)  | temp_max(high) | temp_min(mid)  |                                              0.0000 |\n",
      "+------------------+------------+---------------------+----------------+----------------+-----------------------------------------------------+\n",
      "| weather(snow)    | wind(mid)  | precipitation(low)  | temp_max(high) | temp_min(high) |                                              0.0000 |\n",
      "+------------------+------------+---------------------+----------------+----------------+-----------------------------------------------------+\n",
      "| weather(snow)    | wind(mid)  | precipitation(mid)  | temp_max(low)  | temp_min(low)  |                                              0.0002 |\n",
      "+------------------+------------+---------------------+----------------+----------------+-----------------------------------------------------+\n",
      "| weather(snow)    | wind(mid)  | precipitation(mid)  | temp_max(low)  | temp_min(mid)  |                                              0.0010 |\n",
      "+------------------+------------+---------------------+----------------+----------------+-----------------------------------------------------+\n",
      "| weather(snow)    | wind(mid)  | precipitation(mid)  | temp_max(low)  | temp_min(high) |                                              0.0004 |\n",
      "+------------------+------------+---------------------+----------------+----------------+-----------------------------------------------------+\n",
      "| weather(snow)    | wind(mid)  | precipitation(mid)  | temp_max(mid)  | temp_min(low)  |                                              0.0008 |\n",
      "+------------------+------------+---------------------+----------------+----------------+-----------------------------------------------------+\n",
      "| weather(snow)    | wind(mid)  | precipitation(mid)  | temp_max(mid)  | temp_min(mid)  |                                              0.0035 |\n",
      "+------------------+------------+---------------------+----------------+----------------+-----------------------------------------------------+\n",
      "| weather(snow)    | wind(mid)  | precipitation(mid)  | temp_max(mid)  | temp_min(high) |                                              0.0015 |\n",
      "+------------------+------------+---------------------+----------------+----------------+-----------------------------------------------------+\n",
      "| weather(snow)    | wind(mid)  | precipitation(mid)  | temp_max(high) | temp_min(low)  |                                              0.0003 |\n",
      "+------------------+------------+---------------------+----------------+----------------+-----------------------------------------------------+\n",
      "| weather(snow)    | wind(mid)  | precipitation(mid)  | temp_max(high) | temp_min(mid)  |                                              0.0012 |\n",
      "+------------------+------------+---------------------+----------------+----------------+-----------------------------------------------------+\n",
      "| weather(snow)    | wind(mid)  | precipitation(mid)  | temp_max(high) | temp_min(high) |                                              0.0005 |\n",
      "+------------------+------------+---------------------+----------------+----------------+-----------------------------------------------------+\n",
      "| weather(snow)    | wind(mid)  | precipitation(high) | temp_max(low)  | temp_min(low)  |                                              0.0001 |\n",
      "+------------------+------------+---------------------+----------------+----------------+-----------------------------------------------------+\n",
      "| weather(snow)    | wind(mid)  | precipitation(high) | temp_max(low)  | temp_min(mid)  |                                              0.0005 |\n",
      "+------------------+------------+---------------------+----------------+----------------+-----------------------------------------------------+\n",
      "| weather(snow)    | wind(mid)  | precipitation(high) | temp_max(low)  | temp_min(high) |                                              0.0002 |\n",
      "+------------------+------------+---------------------+----------------+----------------+-----------------------------------------------------+\n",
      "| weather(snow)    | wind(mid)  | precipitation(high) | temp_max(mid)  | temp_min(low)  |                                              0.0005 |\n",
      "+------------------+------------+---------------------+----------------+----------------+-----------------------------------------------------+\n",
      "| weather(snow)    | wind(mid)  | precipitation(high) | temp_max(mid)  | temp_min(mid)  |                                              0.0020 |\n",
      "+------------------+------------+---------------------+----------------+----------------+-----------------------------------------------------+\n",
      "| weather(snow)    | wind(mid)  | precipitation(high) | temp_max(mid)  | temp_min(high) |                                              0.0009 |\n",
      "+------------------+------------+---------------------+----------------+----------------+-----------------------------------------------------+\n",
      "| weather(snow)    | wind(mid)  | precipitation(high) | temp_max(high) | temp_min(low)  |                                              0.0000 |\n",
      "+------------------+------------+---------------------+----------------+----------------+-----------------------------------------------------+\n",
      "| weather(snow)    | wind(mid)  | precipitation(high) | temp_max(high) | temp_min(mid)  |                                              0.0000 |\n",
      "+------------------+------------+---------------------+----------------+----------------+-----------------------------------------------------+\n",
      "| weather(snow)    | wind(mid)  | precipitation(high) | temp_max(high) | temp_min(high) |                                              0.0000 |\n",
      "+------------------+------------+---------------------+----------------+----------------+-----------------------------------------------------+\n",
      "| weather(snow)    | wind(high) | precipitation(low)  | temp_max(low)  | temp_min(low)  |                                              0.0000 |\n",
      "+------------------+------------+---------------------+----------------+----------------+-----------------------------------------------------+\n",
      "| weather(snow)    | wind(high) | precipitation(low)  | temp_max(low)  | temp_min(mid)  |                                              0.0000 |\n",
      "+------------------+------------+---------------------+----------------+----------------+-----------------------------------------------------+\n",
      "| weather(snow)    | wind(high) | precipitation(low)  | temp_max(low)  | temp_min(high) |                                              0.0000 |\n",
      "+------------------+------------+---------------------+----------------+----------------+-----------------------------------------------------+\n",
      "| weather(snow)    | wind(high) | precipitation(low)  | temp_max(mid)  | temp_min(low)  |                                              0.0000 |\n",
      "+------------------+------------+---------------------+----------------+----------------+-----------------------------------------------------+\n",
      "| weather(snow)    | wind(high) | precipitation(low)  | temp_max(mid)  | temp_min(mid)  |                                              0.0000 |\n",
      "+------------------+------------+---------------------+----------------+----------------+-----------------------------------------------------+\n",
      "| weather(snow)    | wind(high) | precipitation(low)  | temp_max(mid)  | temp_min(high) |                                              0.0000 |\n",
      "+------------------+------------+---------------------+----------------+----------------+-----------------------------------------------------+\n",
      "| weather(snow)    | wind(high) | precipitation(low)  | temp_max(high) | temp_min(low)  |                                              0.0000 |\n",
      "+------------------+------------+---------------------+----------------+----------------+-----------------------------------------------------+\n",
      "| weather(snow)    | wind(high) | precipitation(low)  | temp_max(high) | temp_min(mid)  |                                              0.0000 |\n",
      "+------------------+------------+---------------------+----------------+----------------+-----------------------------------------------------+\n",
      "| weather(snow)    | wind(high) | precipitation(low)  | temp_max(high) | temp_min(high) |                                              0.0000 |\n",
      "+------------------+------------+---------------------+----------------+----------------+-----------------------------------------------------+\n",
      "| weather(snow)    | wind(high) | precipitation(mid)  | temp_max(low)  | temp_min(low)  |                                              0.0004 |\n",
      "+------------------+------------+---------------------+----------------+----------------+-----------------------------------------------------+\n",
      "| weather(snow)    | wind(high) | precipitation(mid)  | temp_max(low)  | temp_min(mid)  |                                              0.0018 |\n",
      "+------------------+------------+---------------------+----------------+----------------+-----------------------------------------------------+\n",
      "| weather(snow)    | wind(high) | precipitation(mid)  | temp_max(low)  | temp_min(high) |                                              0.0001 |\n",
      "+------------------+------------+---------------------+----------------+----------------+-----------------------------------------------------+\n",
      "| weather(snow)    | wind(high) | precipitation(mid)  | temp_max(mid)  | temp_min(low)  |                                              0.0015 |\n",
      "+------------------+------------+---------------------+----------------+----------------+-----------------------------------------------------+\n",
      "| weather(snow)    | wind(high) | precipitation(mid)  | temp_max(mid)  | temp_min(mid)  |                                              0.0063 |\n",
      "+------------------+------------+---------------------+----------------+----------------+-----------------------------------------------------+\n",
      "| weather(snow)    | wind(high) | precipitation(mid)  | temp_max(mid)  | temp_min(high) |                                              0.0004 |\n",
      "+------------------+------------+---------------------+----------------+----------------+-----------------------------------------------------+\n",
      "| weather(snow)    | wind(high) | precipitation(mid)  | temp_max(high) | temp_min(low)  |                                              0.0005 |\n",
      "+------------------+------------+---------------------+----------------+----------------+-----------------------------------------------------+\n",
      "| weather(snow)    | wind(high) | precipitation(mid)  | temp_max(high) | temp_min(mid)  |                                              0.0023 |\n",
      "+------------------+------------+---------------------+----------------+----------------+-----------------------------------------------------+\n",
      "| weather(snow)    | wind(high) | precipitation(mid)  | temp_max(high) | temp_min(high) |                                              0.0001 |\n",
      "+------------------+------------+---------------------+----------------+----------------+-----------------------------------------------------+\n",
      "| weather(snow)    | wind(high) | precipitation(high) | temp_max(low)  | temp_min(low)  |                                              0.0002 |\n",
      "+------------------+------------+---------------------+----------------+----------------+-----------------------------------------------------+\n",
      "| weather(snow)    | wind(high) | precipitation(high) | temp_max(low)  | temp_min(mid)  |                                              0.0008 |\n",
      "+------------------+------------+---------------------+----------------+----------------+-----------------------------------------------------+\n",
      "| weather(snow)    | wind(high) | precipitation(high) | temp_max(low)  | temp_min(high) |                                              0.0000 |\n",
      "+------------------+------------+---------------------+----------------+----------------+-----------------------------------------------------+\n",
      "| weather(snow)    | wind(high) | precipitation(high) | temp_max(mid)  | temp_min(low)  |                                              0.0009 |\n",
      "+------------------+------------+---------------------+----------------+----------------+-----------------------------------------------------+\n",
      "| weather(snow)    | wind(high) | precipitation(high) | temp_max(mid)  | temp_min(mid)  |                                              0.0037 |\n",
      "+------------------+------------+---------------------+----------------+----------------+-----------------------------------------------------+\n",
      "| weather(snow)    | wind(high) | precipitation(high) | temp_max(mid)  | temp_min(high) |                                              0.0002 |\n",
      "+------------------+------------+---------------------+----------------+----------------+-----------------------------------------------------+\n",
      "| weather(snow)    | wind(high) | precipitation(high) | temp_max(high) | temp_min(low)  |                                              0.0000 |\n",
      "+------------------+------------+---------------------+----------------+----------------+-----------------------------------------------------+\n",
      "| weather(snow)    | wind(high) | precipitation(high) | temp_max(high) | temp_min(mid)  |                                              0.0001 |\n",
      "+------------------+------------+---------------------+----------------+----------------+-----------------------------------------------------+\n",
      "| weather(snow)    | wind(high) | precipitation(high) | temp_max(high) | temp_min(high) |                                              0.0000 |\n",
      "+------------------+------------+---------------------+----------------+----------------+-----------------------------------------------------+\n",
      "| weather(fog)     | wind(low)  | precipitation(low)  | temp_max(low)  | temp_min(low)  |                                              0.0000 |\n",
      "+------------------+------------+---------------------+----------------+----------------+-----------------------------------------------------+\n",
      "| weather(fog)     | wind(low)  | precipitation(low)  | temp_max(low)  | temp_min(mid)  |                                              0.0000 |\n",
      "+------------------+------------+---------------------+----------------+----------------+-----------------------------------------------------+\n",
      "| weather(fog)     | wind(low)  | precipitation(low)  | temp_max(low)  | temp_min(high) |                                              0.0000 |\n",
      "+------------------+------------+---------------------+----------------+----------------+-----------------------------------------------------+\n",
      "| weather(fog)     | wind(low)  | precipitation(low)  | temp_max(mid)  | temp_min(low)  |                                              0.0000 |\n",
      "+------------------+------------+---------------------+----------------+----------------+-----------------------------------------------------+\n",
      "| weather(fog)     | wind(low)  | precipitation(low)  | temp_max(mid)  | temp_min(mid)  |                                              0.0000 |\n",
      "+------------------+------------+---------------------+----------------+----------------+-----------------------------------------------------+\n",
      "| weather(fog)     | wind(low)  | precipitation(low)  | temp_max(mid)  | temp_min(high) |                                              0.0000 |\n",
      "+------------------+------------+---------------------+----------------+----------------+-----------------------------------------------------+\n",
      "| weather(fog)     | wind(low)  | precipitation(low)  | temp_max(high) | temp_min(low)  |                                              0.0000 |\n",
      "+------------------+------------+---------------------+----------------+----------------+-----------------------------------------------------+\n",
      "| weather(fog)     | wind(low)  | precipitation(low)  | temp_max(high) | temp_min(mid)  |                                              0.0000 |\n",
      "+------------------+------------+---------------------+----------------+----------------+-----------------------------------------------------+\n",
      "| weather(fog)     | wind(low)  | precipitation(low)  | temp_max(high) | temp_min(high) |                                              0.0000 |\n",
      "+------------------+------------+---------------------+----------------+----------------+-----------------------------------------------------+\n",
      "| weather(fog)     | wind(low)  | precipitation(mid)  | temp_max(low)  | temp_min(low)  |                                              0.0001 |\n",
      "+------------------+------------+---------------------+----------------+----------------+-----------------------------------------------------+\n",
      "| weather(fog)     | wind(low)  | precipitation(mid)  | temp_max(low)  | temp_min(mid)  |                                              0.0003 |\n",
      "+------------------+------------+---------------------+----------------+----------------+-----------------------------------------------------+\n",
      "| weather(fog)     | wind(low)  | precipitation(mid)  | temp_max(low)  | temp_min(high) |                                              0.0001 |\n",
      "+------------------+------------+---------------------+----------------+----------------+-----------------------------------------------------+\n",
      "| weather(fog)     | wind(low)  | precipitation(mid)  | temp_max(mid)  | temp_min(low)  |                                              0.0004 |\n",
      "+------------------+------------+---------------------+----------------+----------------+-----------------------------------------------------+\n",
      "| weather(fog)     | wind(low)  | precipitation(mid)  | temp_max(mid)  | temp_min(mid)  |                                              0.0009 |\n",
      "+------------------+------------+---------------------+----------------+----------------+-----------------------------------------------------+\n",
      "| weather(fog)     | wind(low)  | precipitation(mid)  | temp_max(mid)  | temp_min(high) |                                              0.0002 |\n",
      "+------------------+------------+---------------------+----------------+----------------+-----------------------------------------------------+\n",
      "| weather(fog)     | wind(low)  | precipitation(mid)  | temp_max(high) | temp_min(low)  |                                              0.0001 |\n",
      "+------------------+------------+---------------------+----------------+----------------+-----------------------------------------------------+\n",
      "| weather(fog)     | wind(low)  | precipitation(mid)  | temp_max(high) | temp_min(mid)  |                                              0.0003 |\n",
      "+------------------+------------+---------------------+----------------+----------------+-----------------------------------------------------+\n",
      "| weather(fog)     | wind(low)  | precipitation(mid)  | temp_max(high) | temp_min(high) |                                              0.0001 |\n",
      "+------------------+------------+---------------------+----------------+----------------+-----------------------------------------------------+\n",
      "| weather(fog)     | wind(low)  | precipitation(high) | temp_max(low)  | temp_min(low)  |                                              0.0000 |\n",
      "+------------------+------------+---------------------+----------------+----------------+-----------------------------------------------------+\n",
      "| weather(fog)     | wind(low)  | precipitation(high) | temp_max(low)  | temp_min(mid)  |                                              0.0000 |\n",
      "+------------------+------------+---------------------+----------------+----------------+-----------------------------------------------------+\n",
      "| weather(fog)     | wind(low)  | precipitation(high) | temp_max(low)  | temp_min(high) |                                              0.0000 |\n",
      "+------------------+------------+---------------------+----------------+----------------+-----------------------------------------------------+\n",
      "| weather(fog)     | wind(low)  | precipitation(high) | temp_max(mid)  | temp_min(low)  |                                              0.0000 |\n",
      "+------------------+------------+---------------------+----------------+----------------+-----------------------------------------------------+\n",
      "| weather(fog)     | wind(low)  | precipitation(high) | temp_max(mid)  | temp_min(mid)  |                                              0.0000 |\n",
      "+------------------+------------+---------------------+----------------+----------------+-----------------------------------------------------+\n",
      "| weather(fog)     | wind(low)  | precipitation(high) | temp_max(mid)  | temp_min(high) |                                              0.0000 |\n",
      "+------------------+------------+---------------------+----------------+----------------+-----------------------------------------------------+\n",
      "| weather(fog)     | wind(low)  | precipitation(high) | temp_max(high) | temp_min(low)  |                                              0.0000 |\n",
      "+------------------+------------+---------------------+----------------+----------------+-----------------------------------------------------+\n",
      "| weather(fog)     | wind(low)  | precipitation(high) | temp_max(high) | temp_min(mid)  |                                              0.0000 |\n",
      "+------------------+------------+---------------------+----------------+----------------+-----------------------------------------------------+\n",
      "| weather(fog)     | wind(low)  | precipitation(high) | temp_max(high) | temp_min(high) |                                              0.0000 |\n",
      "+------------------+------------+---------------------+----------------+----------------+-----------------------------------------------------+\n",
      "| weather(fog)     | wind(mid)  | precipitation(low)  | temp_max(low)  | temp_min(low)  |                                              0.0000 |\n",
      "+------------------+------------+---------------------+----------------+----------------+-----------------------------------------------------+\n",
      "| weather(fog)     | wind(mid)  | precipitation(low)  | temp_max(low)  | temp_min(mid)  |                                              0.0000 |\n",
      "+------------------+------------+---------------------+----------------+----------------+-----------------------------------------------------+\n",
      "| weather(fog)     | wind(mid)  | precipitation(low)  | temp_max(low)  | temp_min(high) |                                              0.0000 |\n",
      "+------------------+------------+---------------------+----------------+----------------+-----------------------------------------------------+\n",
      "| weather(fog)     | wind(mid)  | precipitation(low)  | temp_max(mid)  | temp_min(low)  |                                              0.0000 |\n",
      "+------------------+------------+---------------------+----------------+----------------+-----------------------------------------------------+\n",
      "| weather(fog)     | wind(mid)  | precipitation(low)  | temp_max(mid)  | temp_min(mid)  |                                              0.0000 |\n",
      "+------------------+------------+---------------------+----------------+----------------+-----------------------------------------------------+\n",
      "| weather(fog)     | wind(mid)  | precipitation(low)  | temp_max(mid)  | temp_min(high) |                                              0.0000 |\n",
      "+------------------+------------+---------------------+----------------+----------------+-----------------------------------------------------+\n",
      "| weather(fog)     | wind(mid)  | precipitation(low)  | temp_max(high) | temp_min(low)  |                                              0.0000 |\n",
      "+------------------+------------+---------------------+----------------+----------------+-----------------------------------------------------+\n",
      "| weather(fog)     | wind(mid)  | precipitation(low)  | temp_max(high) | temp_min(mid)  |                                              0.0000 |\n",
      "+------------------+------------+---------------------+----------------+----------------+-----------------------------------------------------+\n",
      "| weather(fog)     | wind(mid)  | precipitation(low)  | temp_max(high) | temp_min(high) |                                              0.0000 |\n",
      "+------------------+------------+---------------------+----------------+----------------+-----------------------------------------------------+\n",
      "| weather(fog)     | wind(mid)  | precipitation(mid)  | temp_max(low)  | temp_min(low)  |                                              0.0003 |\n",
      "+------------------+------------+---------------------+----------------+----------------+-----------------------------------------------------+\n",
      "| weather(fog)     | wind(mid)  | precipitation(mid)  | temp_max(low)  | temp_min(mid)  |                                              0.0014 |\n",
      "+------------------+------------+---------------------+----------------+----------------+-----------------------------------------------------+\n",
      "| weather(fog)     | wind(mid)  | precipitation(mid)  | temp_max(low)  | temp_min(high) |                                              0.0006 |\n",
      "+------------------+------------+---------------------+----------------+----------------+-----------------------------------------------------+\n",
      "| weather(fog)     | wind(mid)  | precipitation(mid)  | temp_max(mid)  | temp_min(low)  |                                              0.0012 |\n",
      "+------------------+------------+---------------------+----------------+----------------+-----------------------------------------------------+\n",
      "| weather(fog)     | wind(mid)  | precipitation(mid)  | temp_max(mid)  | temp_min(mid)  |                                              0.0051 |\n",
      "+------------------+------------+---------------------+----------------+----------------+-----------------------------------------------------+\n",
      "| weather(fog)     | wind(mid)  | precipitation(mid)  | temp_max(mid)  | temp_min(high) |                                              0.0022 |\n",
      "+------------------+------------+---------------------+----------------+----------------+-----------------------------------------------------+\n",
      "| weather(fog)     | wind(mid)  | precipitation(mid)  | temp_max(high) | temp_min(low)  |                                              0.0004 |\n",
      "+------------------+------------+---------------------+----------------+----------------+-----------------------------------------------------+\n",
      "| weather(fog)     | wind(mid)  | precipitation(mid)  | temp_max(high) | temp_min(mid)  |                                              0.0018 |\n",
      "+------------------+------------+---------------------+----------------+----------------+-----------------------------------------------------+\n",
      "| weather(fog)     | wind(mid)  | precipitation(mid)  | temp_max(high) | temp_min(high) |                                              0.0008 |\n",
      "+------------------+------------+---------------------+----------------+----------------+-----------------------------------------------------+\n",
      "| weather(fog)     | wind(mid)  | precipitation(high) | temp_max(low)  | temp_min(low)  |                                              0.0000 |\n",
      "+------------------+------------+---------------------+----------------+----------------+-----------------------------------------------------+\n",
      "| weather(fog)     | wind(mid)  | precipitation(high) | temp_max(low)  | temp_min(mid)  |                                              0.0000 |\n",
      "+------------------+------------+---------------------+----------------+----------------+-----------------------------------------------------+\n",
      "| weather(fog)     | wind(mid)  | precipitation(high) | temp_max(low)  | temp_min(high) |                                              0.0000 |\n",
      "+------------------+------------+---------------------+----------------+----------------+-----------------------------------------------------+\n",
      "| weather(fog)     | wind(mid)  | precipitation(high) | temp_max(mid)  | temp_min(low)  |                                              0.0000 |\n",
      "+------------------+------------+---------------------+----------------+----------------+-----------------------------------------------------+\n",
      "| weather(fog)     | wind(mid)  | precipitation(high) | temp_max(mid)  | temp_min(mid)  |                                              0.0000 |\n",
      "+------------------+------------+---------------------+----------------+----------------+-----------------------------------------------------+\n",
      "| weather(fog)     | wind(mid)  | precipitation(high) | temp_max(mid)  | temp_min(high) |                                              0.0000 |\n",
      "+------------------+------------+---------------------+----------------+----------------+-----------------------------------------------------+\n",
      "| weather(fog)     | wind(mid)  | precipitation(high) | temp_max(high) | temp_min(low)  |                                              0.0000 |\n",
      "+------------------+------------+---------------------+----------------+----------------+-----------------------------------------------------+\n",
      "| weather(fog)     | wind(mid)  | precipitation(high) | temp_max(high) | temp_min(mid)  |                                              0.0000 |\n",
      "+------------------+------------+---------------------+----------------+----------------+-----------------------------------------------------+\n",
      "| weather(fog)     | wind(mid)  | precipitation(high) | temp_max(high) | temp_min(high) |                                              0.0000 |\n",
      "+------------------+------------+---------------------+----------------+----------------+-----------------------------------------------------+\n",
      "| weather(fog)     | wind(high) | precipitation(low)  | temp_max(low)  | temp_min(low)  |                                              0.0000 |\n",
      "+------------------+------------+---------------------+----------------+----------------+-----------------------------------------------------+\n",
      "| weather(fog)     | wind(high) | precipitation(low)  | temp_max(low)  | temp_min(mid)  |                                              0.0000 |\n",
      "+------------------+------------+---------------------+----------------+----------------+-----------------------------------------------------+\n",
      "| weather(fog)     | wind(high) | precipitation(low)  | temp_max(low)  | temp_min(high) |                                              0.0000 |\n",
      "+------------------+------------+---------------------+----------------+----------------+-----------------------------------------------------+\n",
      "| weather(fog)     | wind(high) | precipitation(low)  | temp_max(mid)  | temp_min(low)  |                                              0.0000 |\n",
      "+------------------+------------+---------------------+----------------+----------------+-----------------------------------------------------+\n",
      "| weather(fog)     | wind(high) | precipitation(low)  | temp_max(mid)  | temp_min(mid)  |                                              0.0000 |\n",
      "+------------------+------------+---------------------+----------------+----------------+-----------------------------------------------------+\n",
      "| weather(fog)     | wind(high) | precipitation(low)  | temp_max(mid)  | temp_min(high) |                                              0.0000 |\n",
      "+------------------+------------+---------------------+----------------+----------------+-----------------------------------------------------+\n",
      "| weather(fog)     | wind(high) | precipitation(low)  | temp_max(high) | temp_min(low)  |                                              0.0000 |\n",
      "+------------------+------------+---------------------+----------------+----------------+-----------------------------------------------------+\n",
      "| weather(fog)     | wind(high) | precipitation(low)  | temp_max(high) | temp_min(mid)  |                                              0.0000 |\n",
      "+------------------+------------+---------------------+----------------+----------------+-----------------------------------------------------+\n",
      "| weather(fog)     | wind(high) | precipitation(low)  | temp_max(high) | temp_min(high) |                                              0.0000 |\n",
      "+------------------+------------+---------------------+----------------+----------------+-----------------------------------------------------+\n",
      "| weather(fog)     | wind(high) | precipitation(mid)  | temp_max(low)  | temp_min(low)  |                                              0.0000 |\n",
      "+------------------+------------+---------------------+----------------+----------------+-----------------------------------------------------+\n",
      "| weather(fog)     | wind(high) | precipitation(mid)  | temp_max(low)  | temp_min(mid)  |                                              0.0002 |\n",
      "+------------------+------------+---------------------+----------------+----------------+-----------------------------------------------------+\n",
      "| weather(fog)     | wind(high) | precipitation(mid)  | temp_max(low)  | temp_min(high) |                                              0.0000 |\n",
      "+------------------+------------+---------------------+----------------+----------------+-----------------------------------------------------+\n",
      "| weather(fog)     | wind(high) | precipitation(mid)  | temp_max(mid)  | temp_min(low)  |                                              0.0002 |\n",
      "+------------------+------------+---------------------+----------------+----------------+-----------------------------------------------------+\n",
      "| weather(fog)     | wind(high) | precipitation(mid)  | temp_max(mid)  | temp_min(mid)  |                                              0.0007 |\n",
      "+------------------+------------+---------------------+----------------+----------------+-----------------------------------------------------+\n",
      "| weather(fog)     | wind(high) | precipitation(mid)  | temp_max(mid)  | temp_min(high) |                                              0.0000 |\n",
      "+------------------+------------+---------------------+----------------+----------------+-----------------------------------------------------+\n",
      "| weather(fog)     | wind(high) | precipitation(mid)  | temp_max(high) | temp_min(low)  |                                              0.0001 |\n",
      "+------------------+------------+---------------------+----------------+----------------+-----------------------------------------------------+\n",
      "| weather(fog)     | wind(high) | precipitation(mid)  | temp_max(high) | temp_min(mid)  |                                              0.0003 |\n",
      "+------------------+------------+---------------------+----------------+----------------+-----------------------------------------------------+\n",
      "| weather(fog)     | wind(high) | precipitation(mid)  | temp_max(high) | temp_min(high) |                                              0.0000 |\n",
      "+------------------+------------+---------------------+----------------+----------------+-----------------------------------------------------+\n",
      "| weather(fog)     | wind(high) | precipitation(high) | temp_max(low)  | temp_min(low)  |                                              0.0000 |\n",
      "+------------------+------------+---------------------+----------------+----------------+-----------------------------------------------------+\n",
      "| weather(fog)     | wind(high) | precipitation(high) | temp_max(low)  | temp_min(mid)  |                                              0.0000 |\n",
      "+------------------+------------+---------------------+----------------+----------------+-----------------------------------------------------+\n",
      "| weather(fog)     | wind(high) | precipitation(high) | temp_max(low)  | temp_min(high) |                                              0.0000 |\n",
      "+------------------+------------+---------------------+----------------+----------------+-----------------------------------------------------+\n",
      "| weather(fog)     | wind(high) | precipitation(high) | temp_max(mid)  | temp_min(low)  |                                              0.0000 |\n",
      "+------------------+------------+---------------------+----------------+----------------+-----------------------------------------------------+\n",
      "| weather(fog)     | wind(high) | precipitation(high) | temp_max(mid)  | temp_min(mid)  |                                              0.0000 |\n",
      "+------------------+------------+---------------------+----------------+----------------+-----------------------------------------------------+\n",
      "| weather(fog)     | wind(high) | precipitation(high) | temp_max(mid)  | temp_min(high) |                                              0.0000 |\n",
      "+------------------+------------+---------------------+----------------+----------------+-----------------------------------------------------+\n",
      "| weather(fog)     | wind(high) | precipitation(high) | temp_max(high) | temp_min(low)  |                                              0.0000 |\n",
      "+------------------+------------+---------------------+----------------+----------------+-----------------------------------------------------+\n",
      "| weather(fog)     | wind(high) | precipitation(high) | temp_max(high) | temp_min(mid)  |                                              0.0000 |\n",
      "+------------------+------------+---------------------+----------------+----------------+-----------------------------------------------------+\n",
      "| weather(fog)     | wind(high) | precipitation(high) | temp_max(high) | temp_min(high) |                                              0.0000 |\n",
      "+------------------+------------+---------------------+----------------+----------------+-----------------------------------------------------+\n",
      "The most probable condition is:\n",
      "weather          drizzle\n",
      "wind                 mid\n",
      "precipitation        mid\n",
      "temp_max             mid\n",
      "temp_min             mid\n",
      "Probability      0.10861\n",
      "Name: 40, dtype: object\n"
     ]
    }
   ],
   "source": [
    "# Question 2:\n",
    "# (a) Calculate all the possible joint probability and determine the best probable condition. Explain your results?\n",
    "joint_probability = inference.query(variables=['weather', 'wind', 'precipitation', 'temp_max', 'temp_min'])\n",
    "print(joint_probability)\n",
    "\n",
    "def factor_to_df(factor):\n",
    "    \"\"\"Converts a DiscreteFactor object to a pandas DataFrame.\"\"\"\n",
    "    # Flatten the values\n",
    "    flat_values = factor.values.flatten()\n",
    "    # Create a multi-index from the state names\n",
    "    index = pd.MultiIndex.from_product(factor.state_names.values(), names=factor.variables)\n",
    "    # Create the DataFrame\n",
    "    df = pd.DataFrame(flat_values, index=index, columns=['Probability'])\n",
    "    return df.reset_index()\n",
    "\n",
    "# Assuming 'joint_probability' is your DiscreteFactor object from pgmpy\n",
    "df = factor_to_df(joint_probability)\n",
    "\n",
    "# Find the row with the maximum probability\n",
    "max_prob_row = df.loc[df['Probability'].idxmax()]\n",
    "\n",
    "# Print the most probable condition\n",
    "print(\"The most probable condition is:\")\n",
    "print(max_prob_row)\n",
    "\n"
   ]
  },
  {
   "cell_type": "code",
   "execution_count": 25,
   "metadata": {},
   "outputs": [
    {
     "name": "stdout",
     "output_type": "stream",
     "text": [
      "+------------------+------------+---------------------+-----------------------------------+\n",
      "| weather          | wind       | precipitation       |   phi(weather,wind,precipitation) |\n",
      "+==================+============+=====================+===================================+\n",
      "| weather(drizzle) | wind(low)  | precipitation(low)  |                            0.0000 |\n",
      "+------------------+------------+---------------------+-----------------------------------+\n",
      "| weather(drizzle) | wind(low)  | precipitation(mid)  |                            0.1325 |\n",
      "+------------------+------------+---------------------+-----------------------------------+\n",
      "| weather(drizzle) | wind(low)  | precipitation(high) |                            0.0000 |\n",
      "+------------------+------------+---------------------+-----------------------------------+\n",
      "| weather(drizzle) | wind(mid)  | precipitation(low)  |                            0.0000 |\n",
      "+------------------+------------+---------------------+-----------------------------------+\n",
      "| weather(drizzle) | wind(mid)  | precipitation(mid)  |                            0.2982 |\n",
      "+------------------+------------+---------------------+-----------------------------------+\n",
      "| weather(drizzle) | wind(mid)  | precipitation(high) |                            0.0000 |\n",
      "+------------------+------------+---------------------+-----------------------------------+\n",
      "| weather(drizzle) | wind(high) | precipitation(low)  |                            0.0000 |\n",
      "+------------------+------------+---------------------+-----------------------------------+\n",
      "| weather(drizzle) | wind(high) | precipitation(mid)  |                            0.0083 |\n",
      "+------------------+------------+---------------------+-----------------------------------+\n",
      "| weather(drizzle) | wind(high) | precipitation(high) |                            0.0000 |\n",
      "+------------------+------------+---------------------+-----------------------------------+\n",
      "| weather(rain)    | wind(low)  | precipitation(low)  |                            0.0000 |\n",
      "+------------------+------------+---------------------+-----------------------------------+\n",
      "| weather(rain)    | wind(low)  | precipitation(mid)  |                            0.1561 |\n",
      "+------------------+------------+---------------------+-----------------------------------+\n",
      "| weather(rain)    | wind(low)  | precipitation(high) |                            0.0000 |\n",
      "+------------------+------------+---------------------+-----------------------------------+\n",
      "| weather(rain)    | wind(mid)  | precipitation(low)  |                            0.0000 |\n",
      "+------------------+------------+---------------------+-----------------------------------+\n",
      "| weather(rain)    | wind(mid)  | precipitation(mid)  |                            0.2559 |\n",
      "+------------------+------------+---------------------+-----------------------------------+\n",
      "| weather(rain)    | wind(mid)  | precipitation(high) |                            0.0000 |\n",
      "+------------------+------------+---------------------+-----------------------------------+\n",
      "| weather(rain)    | wind(high) | precipitation(low)  |                            0.0000 |\n",
      "+------------------+------------+---------------------+-----------------------------------+\n",
      "| weather(rain)    | wind(high) | precipitation(mid)  |                            0.0260 |\n",
      "+------------------+------------+---------------------+-----------------------------------+\n",
      "| weather(rain)    | wind(high) | precipitation(high) |                            0.0000 |\n",
      "+------------------+------------+---------------------+-----------------------------------+\n",
      "| weather(sun)     | wind(low)  | precipitation(low)  |                            0.0000 |\n",
      "+------------------+------------+---------------------+-----------------------------------+\n",
      "| weather(sun)     | wind(low)  | precipitation(mid)  |                            0.0056 |\n",
      "+------------------+------------+---------------------+-----------------------------------+\n",
      "| weather(sun)     | wind(low)  | precipitation(high) |                            0.0016 |\n",
      "+------------------+------------+---------------------+-----------------------------------+\n",
      "| weather(sun)     | wind(mid)  | precipitation(low)  |                            0.0000 |\n",
      "+------------------+------------+---------------------+-----------------------------------+\n",
      "| weather(sun)     | wind(mid)  | precipitation(mid)  |                            0.0345 |\n",
      "+------------------+------------+---------------------+-----------------------------------+\n",
      "| weather(sun)     | wind(mid)  | precipitation(high) |                            0.0097 |\n",
      "+------------------+------------+---------------------+-----------------------------------+\n",
      "| weather(sun)     | wind(high) | precipitation(low)  |                            0.0000 |\n",
      "+------------------+------------+---------------------+-----------------------------------+\n",
      "| weather(sun)     | wind(high) | precipitation(mid)  |                            0.0137 |\n",
      "+------------------+------------+---------------------+-----------------------------------+\n",
      "| weather(sun)     | wind(high) | precipitation(high) |                            0.0039 |\n",
      "+------------------+------------+---------------------+-----------------------------------+\n",
      "| weather(snow)    | wind(low)  | precipitation(low)  |                            0.0000 |\n",
      "+------------------+------------+---------------------+-----------------------------------+\n",
      "| weather(snow)    | wind(low)  | precipitation(mid)  |                            0.0019 |\n",
      "+------------------+------------+---------------------+-----------------------------------+\n",
      "| weather(snow)    | wind(low)  | precipitation(high) |                            0.0009 |\n",
      "+------------------+------------+---------------------+-----------------------------------+\n",
      "| weather(snow)    | wind(mid)  | precipitation(low)  |                            0.0000 |\n",
      "+------------------+------------+---------------------+-----------------------------------+\n",
      "| weather(snow)    | wind(mid)  | precipitation(mid)  |                            0.0096 |\n",
      "+------------------+------------+---------------------+-----------------------------------+\n",
      "| weather(snow)    | wind(mid)  | precipitation(high) |                            0.0043 |\n",
      "+------------------+------------+---------------------+-----------------------------------+\n",
      "| weather(snow)    | wind(high) | precipitation(low)  |                            0.0000 |\n",
      "+------------------+------------+---------------------+-----------------------------------+\n",
      "| weather(snow)    | wind(high) | precipitation(mid)  |                            0.0134 |\n",
      "+------------------+------------+---------------------+-----------------------------------+\n",
      "| weather(snow)    | wind(high) | precipitation(high) |                            0.0060 |\n",
      "+------------------+------------+---------------------+-----------------------------------+\n",
      "| weather(fog)     | wind(low)  | precipitation(low)  |                            0.0000 |\n",
      "+------------------+------------+---------------------+-----------------------------------+\n",
      "| weather(fog)     | wind(low)  | precipitation(mid)  |                            0.0025 |\n",
      "+------------------+------------+---------------------+-----------------------------------+\n",
      "| weather(fog)     | wind(low)  | precipitation(high) |                            0.0000 |\n",
      "+------------------+------------+---------------------+-----------------------------------+\n",
      "| weather(fog)     | wind(mid)  | precipitation(low)  |                            0.0000 |\n",
      "+------------------+------------+---------------------+-----------------------------------+\n",
      "| weather(fog)     | wind(mid)  | precipitation(mid)  |                            0.0139 |\n",
      "+------------------+------------+---------------------+-----------------------------------+\n",
      "| weather(fog)     | wind(mid)  | precipitation(high) |                            0.0000 |\n",
      "+------------------+------------+---------------------+-----------------------------------+\n",
      "| weather(fog)     | wind(high) | precipitation(low)  |                            0.0000 |\n",
      "+------------------+------------+---------------------+-----------------------------------+\n",
      "| weather(fog)     | wind(high) | precipitation(mid)  |                            0.0015 |\n",
      "+------------------+------------+---------------------+-----------------------------------+\n",
      "| weather(fog)     | wind(high) | precipitation(high) |                            0.0000 |\n",
      "+------------------+------------+---------------------+-----------------------------------+\n",
      "The most probable condition is:\n",
      "weather           drizzle\n",
      "wind                  mid\n",
      "precipitation         mid\n",
      "Probability      0.298189\n",
      "Name: 4, dtype: object\n"
     ]
    }
   ],
   "source": [
    "\n",
    "# (b) What is the most probable condition for precipitation, wind and weather, combined?\n",
    "joint_probability = inference.query(variables=['weather', 'wind', 'precipitation'])\n",
    "print(joint_probability)\n",
    "\n",
    "def factor_to_df(factor):\n",
    "    \"\"\"Converts a DiscreteFactor object to a pandas DataFrame.\"\"\"\n",
    "    # Flatten the values\n",
    "    flat_values = factor.values.flatten()\n",
    "    # Create a multi-index from the state names\n",
    "    index = pd.MultiIndex.from_product(factor.state_names.values(), names=factor.variables)\n",
    "    # Create the DataFrame\n",
    "    df = pd.DataFrame(flat_values, index=index, columns=['Probability'])\n",
    "    return df.reset_index()\n",
    "\n",
    "# Assuming 'joint_probability' is your DiscreteFactor object from pgmpy\n",
    "df = factor_to_df(joint_probability)\n",
    "\n",
    "# Find the row with the maximum probability\n",
    "max_prob_row = df.loc[df['Probability'].idxmax()]\n",
    "\n",
    "# Print the most probable condition\n",
    "print(\"The most probable condition is:\")\n",
    "print(max_prob_row)\n",
    "\n"
   ]
  },
  {
   "cell_type": "code",
   "execution_count": 26,
   "metadata": {
    "id": "pqiWpd1h6Wsd"
   },
   "outputs": [
    {
     "name": "stdout",
     "output_type": "stream",
     "text": [
      "+------------------+----------------+\n",
      "| weather          |   phi(weather) |\n",
      "+==================+================+\n",
      "| weather(drizzle) |         0.4508 |\n",
      "+------------------+----------------+\n",
      "| weather(rain)    |         0.4498 |\n",
      "+------------------+----------------+\n",
      "| weather(sun)     |         0.0553 |\n",
      "+------------------+----------------+\n",
      "| weather(snow)    |         0.0256 |\n",
      "+------------------+----------------+\n",
      "| weather(fog)     |         0.0185 |\n",
      "+------------------+----------------+\n"
     ]
    }
   ],
   "source": [
    "# Question 3. Find the probability associated with each weather, given that the precipitation is medium? Explain your result.\n",
    "prob_weather_by_med_precipitation = inference.query(variables=['weather'], evidence={'precipitation': 'mid'})\n",
    "print(prob_weather_by_med_precipitation)\n"
   ]
  },
  {
   "cell_type": "code",
   "execution_count": 27,
   "metadata": {
    "id": "kHFGTqpRDIgy"
   },
   "outputs": [
    {
     "name": "stdout",
     "output_type": "stream",
     "text": [
      "Weather given precipitation is medium and wind is low:\n",
      " +------------------+----------------+\n",
      "| weather          |   phi(weather) |\n",
      "+==================+================+\n",
      "| weather(drizzle) |         0.4437 |\n",
      "+------------------+----------------+\n",
      "| weather(rain)    |         0.5226 |\n",
      "+------------------+----------------+\n",
      "| weather(sun)     |         0.0188 |\n",
      "+------------------+----------------+\n",
      "| weather(snow)    |         0.0064 |\n",
      "+------------------+----------------+\n",
      "| weather(fog)     |         0.0085 |\n",
      "+------------------+----------------+\n",
      "Weather given precipitation is medium and wind is mid:\n",
      " +------------------+----------------+\n",
      "| weather          |   phi(weather) |\n",
      "+==================+================+\n",
      "| weather(drizzle) |         0.4872 |\n",
      "+------------------+----------------+\n",
      "| weather(rain)    |         0.4180 |\n",
      "+------------------+----------------+\n",
      "| weather(sun)     |         0.0564 |\n",
      "+------------------+----------------+\n",
      "| weather(snow)    |         0.0157 |\n",
      "+------------------+----------------+\n",
      "| weather(fog)     |         0.0228 |\n",
      "+------------------+----------------+\n"
     ]
    }
   ],
   "source": [
    "# Question 4. What is the probability of each weather condition given that precipitation is medium and wind is low or medium? Explain your method and results. How does the result change with the addition of wind factor compared to question 3 of Task 1.2?\n",
    "for wind_state in ['low', 'mid']:   \n",
    "    prob_weather_by_low_or_med_precipitation = inference.query(variables=['weather'], evidence={'precipitation': 'mid', 'wind': wind_state})\n",
    "    print(f\"Weather given precipitation is medium and wind is {wind_state}:\\n\", prob_weather_by_low_or_med_precipitation)\n"
   ]
  },
  {
   "cell_type": "markdown",
   "metadata": {
    "id": "Kjsqw6ktHlbU"
   },
   "source": [
    "# Task 1.3 - Approximate Inference"
   ]
  },
  {
   "cell_type": "markdown",
   "metadata": {
    "id": "C5tLD8SIJdvz"
   },
   "source": [
    "## Likelihood Weighted Sample\n",
    "\n",
    "Generates weighted sample(s) from joint distribution of the Bayesian Network, that comply with the given evidence."
   ]
  },
  {
   "cell_type": "code",
   "execution_count": 28,
   "metadata": {
    "id": "Qgf1j-UpMJF2"
   },
   "outputs": [],
   "source": [
    "from pgmpy.factors.discrete import State\n",
    "from pgmpy.sampling import BayesianModelSampling"
   ]
  },
  {
   "cell_type": "code",
   "execution_count": 29,
   "metadata": {
    "id": "dJzv6qTcO4m8"
   },
   "outputs": [
    {
     "name": "stderr",
     "output_type": "stream",
     "text": [
      "Generating for node: temp_min: 100%|██████████| 5/5 [00:00<00:00, 113.59it/s]\n",
      "c:\\Users\\Antonio Luque\\AppData\\Local\\Programs\\Python\\Python312\\Lib\\site-packages\\pgmpy\\sampling\\base.py:598: FutureWarning: Passing a DataFrame to DataFrame.from_records is deprecated. Use set_index and/or drop to modify the DataFrame instead.\n",
      "  df = pd.DataFrame.from_records(samples)\n"
     ]
    },
    {
     "data": {
      "text/html": [
       "<div>\n",
       "<style scoped>\n",
       "    .dataframe tbody tr th:only-of-type {\n",
       "        vertical-align: middle;\n",
       "    }\n",
       "\n",
       "    .dataframe tbody tr th {\n",
       "        vertical-align: top;\n",
       "    }\n",
       "\n",
       "    .dataframe thead th {\n",
       "        text-align: right;\n",
       "    }\n",
       "</style>\n",
       "<table border=\"1\" class=\"dataframe\">\n",
       "  <thead>\n",
       "    <tr style=\"text-align: right;\">\n",
       "      <th></th>\n",
       "      <th>_weight</th>\n",
       "    </tr>\n",
       "    <tr>\n",
       "      <th>wind</th>\n",
       "      <th></th>\n",
       "    </tr>\n",
       "  </thead>\n",
       "  <tbody>\n",
       "    <tr>\n",
       "      <th>high</th>\n",
       "      <td>0.2491</td>\n",
       "    </tr>\n",
       "    <tr>\n",
       "      <th>low</th>\n",
       "      <td>0.1026</td>\n",
       "    </tr>\n",
       "    <tr>\n",
       "      <th>mid</th>\n",
       "      <td>0.6483</td>\n",
       "    </tr>\n",
       "  </tbody>\n",
       "</table>\n",
       "</div>"
      ],
      "text/plain": [
       "      _weight\n",
       "wind         \n",
       "high   0.2491\n",
       "low    0.1026\n",
       "mid    0.6483"
      ]
     },
     "execution_count": 29,
     "metadata": {},
     "output_type": "execute_result"
    }
   ],
   "source": [
    "# Repeat Q.1. (a) of Task 1.2 - \n",
    "# What is the probability of high wind when the weather is sunny?\n",
    "\n",
    "# Instantiate the Bayesian model sampler\n",
    "sampler = BayesianModelSampling(modelfig1)\n",
    "\n",
    "# Specify the evidence with the weather condition set to 'sunny'\n",
    "evidence_conditions = [State('weather', 'sun')]\n",
    "\n",
    "# Generate samples using likelihood weighting, based on the given evidence\n",
    "likelihood_weighted_samples = sampler.likelihood_weighted_sample(\n",
    "    evidence=evidence_conditions, size=10000)[['wind', '_weight']]\n",
    "\n",
    "# Aggregate the weights for each wind condition to calculate the total weight for each category\n",
    "aggregated_weights_by_wind = likelihood_weighted_samples.groupby('wind').sum()\n",
    "\n",
    "# Normalize the aggregated weights to convert them into probability estimates\n",
    "normalized_wind_probabilities = aggregated_weights_by_wind / aggregated_weights_by_wind.sum()\n",
    "\n",
    "# Display the normalized probabilities of each wind condition given that the weather is sunny\n",
    "normalized_wind_probabilities\n"
   ]
  },
  {
   "cell_type": "code",
   "execution_count": 30,
   "metadata": {},
   "outputs": [
    {
     "name": "stdout",
     "output_type": "stream",
     "text": [
      "Probability of high wind when weather is sunny: 24.9100%\n"
     ]
    }
   ],
   "source": [
    "prob_high_wind_when_sunny = normalized_wind_probabilities.values[0][0] * 100  # Convert fraction to percentage\n",
    "print(f\"Probability of high wind when weather is sunny: {prob_high_wind_when_sunny:.4f}%\")"
   ]
  },
  {
   "cell_type": "markdown",
   "metadata": {},
   "source": [
    "Trying Rejection Sampling here as well:"
   ]
  },
  {
   "cell_type": "code",
   "execution_count": 31,
   "metadata": {},
   "outputs": [
    {
     "name": "stderr",
     "output_type": "stream",
     "text": [
      "Generating for node: temp_min: 100%|██████████| 5/5 [00:00<00:00, 132.43it/s]"
     ]
    },
    {
     "name": "stdout",
     "output_type": "stream",
     "text": [
      "Probability of high wind when weather is sunny: 0.2453900709219858\n"
     ]
    },
    {
     "name": "stderr",
     "output_type": "stream",
     "text": [
      "\n",
      "c:\\Users\\Antonio Luque\\AppData\\Local\\Programs\\Python\\Python312\\Lib\\site-packages\\pgmpy\\sampling\\base.py:598: FutureWarning: Passing a DataFrame to DataFrame.from_records is deprecated. Use set_index and/or drop to modify the DataFrame instead.\n",
      "  df = pd.DataFrame.from_records(samples)\n"
     ]
    }
   ],
   "source": [
    "# Repeat Q.1. (a) of Task 1.2 - \n",
    "# What is the probability of high wind when the weather is sunny?\n",
    "\n",
    "# Generate samples from the Bayesian model\n",
    "inference = BayesianModelSampling(modelfig1)\n",
    "samples = inference.forward_sample(size=10000)\n",
    "\n",
    "# Filter samples where weather is 'sun'\n",
    "sunny_samples = samples[samples['weather'] == 'sun']\n",
    "\n",
    "# Calculate the probability of 'high wind' given 'sunny weather'\n",
    "high_wind_given_sunny = (sunny_samples['wind'] == 'high').mean()\n",
    "\n",
    "print(f\"Probability of high wind when weather is sunny: {high_wind_given_sunny}\")\n"
   ]
  },
  {
   "cell_type": "code",
   "execution_count": 32,
   "metadata": {
    "id": "lI68QNwgJalj"
   },
   "outputs": [
    {
     "name": "stderr",
     "output_type": "stream",
     "text": [
      "Generating for node: temp_min: 100%|██████████| 5/5 [00:00<00:00, 154.95it/s]\n",
      "c:\\Users\\Antonio Luque\\AppData\\Local\\Programs\\Python\\Python312\\Lib\\site-packages\\pgmpy\\sampling\\base.py:598: FutureWarning: Passing a DataFrame to DataFrame.from_records is deprecated. Use set_index and/or drop to modify the DataFrame instead.\n",
      "  df = pd.DataFrame.from_records(samples)\n"
     ]
    },
    {
     "data": {
      "text/html": [
       "<div>\n",
       "<style scoped>\n",
       "    .dataframe tbody tr th:only-of-type {\n",
       "        vertical-align: middle;\n",
       "    }\n",
       "\n",
       "    .dataframe tbody tr th {\n",
       "        vertical-align: top;\n",
       "    }\n",
       "\n",
       "    .dataframe thead th {\n",
       "        text-align: right;\n",
       "    }\n",
       "</style>\n",
       "<table border=\"1\" class=\"dataframe\">\n",
       "  <thead>\n",
       "    <tr style=\"text-align: right;\">\n",
       "      <th></th>\n",
       "      <th>_weight</th>\n",
       "    </tr>\n",
       "    <tr>\n",
       "      <th>weather</th>\n",
       "      <th></th>\n",
       "    </tr>\n",
       "  </thead>\n",
       "  <tbody>\n",
       "    <tr>\n",
       "      <th>drizzle</th>\n",
       "      <td>0.114041</td>\n",
       "    </tr>\n",
       "    <tr>\n",
       "      <th>fog</th>\n",
       "      <td>0.019713</td>\n",
       "    </tr>\n",
       "    <tr>\n",
       "      <th>rain</th>\n",
       "      <td>0.358650</td>\n",
       "    </tr>\n",
       "    <tr>\n",
       "      <th>snow</th>\n",
       "      <td>0.273802</td>\n",
       "    </tr>\n",
       "    <tr>\n",
       "      <th>sun</th>\n",
       "      <td>0.233795</td>\n",
       "    </tr>\n",
       "  </tbody>\n",
       "</table>\n",
       "</div>"
      ],
      "text/plain": [
       "          _weight\n",
       "weather          \n",
       "drizzle  0.114041\n",
       "fog      0.019713\n",
       "rain     0.358650\n",
       "snow     0.273802\n",
       "sun      0.233795"
      ]
     },
     "execution_count": 32,
     "metadata": {},
     "output_type": "execute_result"
    }
   ],
   "source": [
    "# Repeat Q.1. (b) of Task 1.2 - \n",
    "# What is the probability of sunny weather when the wind is high?\n",
    "\n",
    "# Instantiate the Bayesian model sampler\n",
    "sampler = BayesianModelSampling(modelfig1)\n",
    "\n",
    "# Define the evidence with the wind condition set to 'high'\n",
    "evidence_conditions = [State('wind', 'high')]\n",
    "\n",
    "# Generate samples using likelihood weighting, based on the given evidence\n",
    "likelihood_weighted_samples = sampler.likelihood_weighted_sample(\n",
    "    evidence=evidence_conditions, size=10000)[['weather', '_weight']]\n",
    "\n",
    "# Aggregate the weights for each weather condition to calculate the total weight for each category\n",
    "aggregated_weights_by_weather = likelihood_weighted_samples.groupby('weather').sum()\n",
    "\n",
    "# Normalize the aggregated weights to convert them into probability estimates\n",
    "normalized_weather_probabilities = aggregated_weights_by_weather / aggregated_weights_by_weather.sum()\n",
    "\n",
    "# Display the normalized probabilities of each weather condition given that the wind is high\n",
    "normalized_weather_probabilities\n"
   ]
  },
  {
   "cell_type": "code",
   "execution_count": 33,
   "metadata": {},
   "outputs": [
    {
     "name": "stdout",
     "output_type": "stream",
     "text": [
      "Probability of sunny weather when wind is high: 23.3795%\n"
     ]
    }
   ],
   "source": [
    "prob_sunny_when_high_wind = normalized_weather_probabilities.values[4][0] * 100  # Convert fraction to percentage\n",
    "print(f\"Probability of sunny weather when wind is high: {prob_sunny_when_high_wind:.4f}%\")"
   ]
  },
  {
   "cell_type": "markdown",
   "metadata": {},
   "source": [
    "Trying Rejection Sampling here as well:"
   ]
  },
  {
   "cell_type": "code",
   "execution_count": 34,
   "metadata": {},
   "outputs": [
    {
     "name": "stderr",
     "output_type": "stream",
     "text": [
      "Generating for node: temp_min: 100%|██████████| 5/5 [00:00<00:00, 159.23it/s]"
     ]
    },
    {
     "name": "stdout",
     "output_type": "stream",
     "text": [
      "Probability of sunny weather when wind is high: 0.24133148404993066\n"
     ]
    },
    {
     "name": "stderr",
     "output_type": "stream",
     "text": [
      "\n",
      "c:\\Users\\Antonio Luque\\AppData\\Local\\Programs\\Python\\Python312\\Lib\\site-packages\\pgmpy\\sampling\\base.py:598: FutureWarning: Passing a DataFrame to DataFrame.from_records is deprecated. Use set_index and/or drop to modify the DataFrame instead.\n",
      "  df = pd.DataFrame.from_records(samples)\n"
     ]
    }
   ],
   "source": [
    "# Repeat Q.1. (b) of Task 1.2 - What is the probability of sunny weather when the wind is high?\n",
    "# Generate samples from the Bayesian model\n",
    "samples = inference.forward_sample(size=10000)\n",
    "\n",
    "# Filter samples where wind is 'high'\n",
    "high_wind_samples = samples[samples['wind'] == 'high']\n",
    "\n",
    "# Calculate the probability of 'sunny weather' given 'high wind'\n",
    "sunny_given_high_wind = (high_wind_samples['weather'] == 'sun').mean()\n",
    "\n",
    "print(f\"Probability of sunny weather when wind is high: {sunny_given_high_wind}\")\n"
   ]
  },
  {
   "cell_type": "markdown",
   "metadata": {
    "id": "-cxZxPokPP-O"
   },
   "source": [
    "## Rejection Sampling"
   ]
  },
  {
   "cell_type": "code",
   "execution_count": 35,
   "metadata": {
    "id": "dFwIjAp3PPY_"
   },
   "outputs": [
    {
     "name": "stderr",
     "output_type": "stream",
     "text": [
      "Generating for node: temp_min: 100%|██████████| 5/5 [00:00<00:00, 176.30it/s]\n",
      "c:\\Users\\Antonio Luque\\AppData\\Local\\Programs\\Python\\Python312\\Lib\\site-packages\\pgmpy\\sampling\\base.py:598: FutureWarning: Passing a DataFrame to DataFrame.from_records is deprecated. Use set_index and/or drop to modify the DataFrame instead.\n",
      "  df = pd.DataFrame.from_records(samples)\n"
     ]
    },
    {
     "name": "stdout",
     "output_type": "stream",
     "text": [
      "     weather precipitation  wind temp_max temp_min  Frequency  Probability\n",
      "0    drizzle           mid   mid      mid      mid       1109       0.1109\n",
      "1       rain           mid   mid      mid      mid        907       0.0907\n",
      "2       rain           mid   low      mid      mid        633       0.0633\n",
      "3    drizzle           mid   low      mid      mid        522       0.0522\n",
      "4    drizzle           mid   mid      mid     high        472       0.0472\n",
      "..       ...           ...   ...      ...      ...        ...          ...\n",
      "151     snow          high   mid      low      low          1       0.0001\n",
      "152     snow           mid   low      mid     high          1       0.0001\n",
      "153     snow           mid   low      low      mid          1       0.0001\n",
      "154     snow           mid  high      low      low          1       0.0001\n",
      "155  drizzle           mid  high     high     high          1       0.0001\n",
      "\n",
      "[156 rows x 7 columns]\n",
      "The most probable condition is:\n",
      "weather          drizzle\n",
      "precipitation        mid\n",
      "wind                 mid\n",
      "temp_max             mid\n",
      "temp_min             mid\n",
      "Frequency           1109\n",
      "Probability       0.1109\n",
      "Name: 0, dtype: object\n"
     ]
    }
   ],
   "source": [
    "# Repeat Q.2 . (a) of Task 1.2 - \n",
    "# Calculate all the possible joint probability and determine the best probable condition. Explain your results\n",
    "\n",
    "# Instantiate the Bayesian model sampler\n",
    "sampler = BayesianModelSampling(modelfig1)\n",
    "\n",
    "# Generate samples from the Bayesian network using rejection sampling\n",
    "sampled_data = sampler.rejection_sample(size=10000)\n",
    "\n",
    "# List all the columns to group by all variables for joint probability calculation\n",
    "variable_names = sampled_data.columns.tolist()\n",
    "\n",
    "# Group by all variables to calculate the frequency of each unique combination\n",
    "# and reset the index to convert the result into a DataFrame\n",
    "joint_probability_distribution = sampled_data.groupby(variable_names).size().reset_index(name='Frequency')\n",
    "\n",
    "# Normalize the frequencies to convert them into probabilities\n",
    "joint_probability_distribution['Probability'] = joint_probability_distribution['Frequency'] / joint_probability_distribution['Frequency'].sum()\n",
    "\n",
    "# Sort by probability in descending order to identify the most probable condition\n",
    "joint_probability_distribution = joint_probability_distribution.sort_values('Probability', ascending=False).reset_index(drop=True)\n",
    "\n",
    "# Display the joint probability distribution\n",
    "print(joint_probability_distribution)\n",
    "\n",
    "# Display the most probable condition\n",
    "most_probable_condition = joint_probability_distribution.iloc[0]\n",
    "print(f\"The most probable condition is:\\n{most_probable_condition}\")\n",
    "\n"
   ]
  },
  {
   "cell_type": "code",
   "execution_count": 36,
   "metadata": {
    "id": "9DS0j7ajLbov"
   },
   "outputs": [
    {
     "name": "stderr",
     "output_type": "stream",
     "text": [
      "Generating for node: temp_min: 100%|██████████| 5/5 [00:00<00:00, 128.85it/s]"
     ]
    },
    {
     "name": "stdout",
     "output_type": "stream",
     "text": [
      "Most probable condition: ('drizzle', 'mid', 'mid')\n",
      "Probability of the most probable condition: 30.1900%\n"
     ]
    },
    {
     "name": "stderr",
     "output_type": "stream",
     "text": [
      "\n",
      "c:\\Users\\Antonio Luque\\AppData\\Local\\Programs\\Python\\Python312\\Lib\\site-packages\\pgmpy\\sampling\\base.py:598: FutureWarning: Passing a DataFrame to DataFrame.from_records is deprecated. Use set_index and/or drop to modify the DataFrame instead.\n",
      "  df = pd.DataFrame.from_records(samples)\n"
     ]
    }
   ],
   "source": [
    "# Repeat Q.2 . (b) of Task 1.2 - \n",
    "# What is the most probable condition for precipitation, wind and weather, combined?\n",
    "\n",
    "# Instantiate the Bayesian model sampler\n",
    "sampler = BayesianModelSampling(modelfig1)\n",
    "\n",
    "# Generate samples from the Bayesian network using rejection sampling\n",
    "rejection_samples = sampler.rejection_sample(size=10000)\n",
    "\n",
    "# Focus on the variables of interest: 'weather', 'wind', and 'precipitation'\n",
    "selected_variables_samples = rejection_samples[['weather', 'wind', 'precipitation']]\n",
    "\n",
    "# Calculate the joint probabilities for the selected variables and normalize the results\n",
    "joint_probabilities = selected_variables_samples.value_counts(normalize=True)\n",
    "\n",
    "# Identify the most probable condition along with its probability\n",
    "most_probable_condition = joint_probabilities.idxmax()\n",
    "most_probable_probability = joint_probabilities.max() * 100\n",
    "\n",
    "# Output the most probable condition and its associated probability\n",
    "print(\"Most probable condition:\", most_probable_condition)\n",
    "print(f\"Probability of the most probable condition: {most_probable_probability:.4f}%\")\n"
   ]
  },
  {
   "cell_type": "markdown",
   "metadata": {
    "id": "OPYm8MwWJkz_"
   },
   "source": [
    "## Approx Inference"
   ]
  },
  {
   "cell_type": "code",
   "execution_count": 37,
   "metadata": {
    "id": "Z5T8q0KbAVsd"
   },
   "outputs": [],
   "source": [
    "from pgmpy.inference import ApproxInference"
   ]
  },
  {
   "cell_type": "code",
   "execution_count": 38,
   "metadata": {
    "id": "arv0oy_OPJxA"
   },
   "outputs": [
    {
     "name": "stderr",
     "output_type": "stream",
     "text": [
      "  0%|          | 0/10000 [00:00<?, ?it/s]c:\\Users\\Antonio Luque\\AppData\\Local\\Programs\\Python\\Python312\\Lib\\site-packages\\pgmpy\\sampling\\base.py:598: FutureWarning: Passing a DataFrame to DataFrame.from_records is deprecated. Use set_index and/or drop to modify the DataFrame instead.\n",
      "  df = pd.DataFrame.from_records(samples)\n",
      "100%|██████████| 10000/10000 [00:00<00:00, 202343.81it/s]\n"
     ]
    },
    {
     "name": "stdout",
     "output_type": "stream",
     "text": [
      "Probability distribution of weather given medium precipitation:\n",
      "+------------------+----------------+\n",
      "| weather          |   phi(weather) |\n",
      "+==================+================+\n",
      "| weather(rain)    |         0.4551 |\n",
      "+------------------+----------------+\n",
      "| weather(drizzle) |         0.4445 |\n",
      "+------------------+----------------+\n",
      "| weather(snow)    |         0.0260 |\n",
      "+------------------+----------------+\n",
      "| weather(sun)     |         0.0558 |\n",
      "+------------------+----------------+\n",
      "| weather(fog)     |         0.0186 |\n",
      "+------------------+----------------+\n"
     ]
    }
   ],
   "source": [
    "# Repeat Q.3 of Task 1.2 - \n",
    "# Find the probability associated with each weather, given that the precipitation is medium? Explain your result.\n",
    "\n",
    "# Initialize the approximate inference engine for the Bayesian model\n",
    "approx_infer_engine = ApproxInference(modelfig1)\n",
    "\n",
    "# Define the evidence where precipitation is set to 'medium'\n",
    "evidence_condition = {'precipitation': 'mid'}\n",
    "\n",
    "# Perform the query to calculate the probability distribution of 'weather' given the evidence\n",
    "weather_probabilities_given_precip = approx_infer_engine.query(variables=['weather'], evidence=evidence_condition)\n",
    "\n",
    "# Print the resulting probability distribution of weather conditions\n",
    "print(\"Probability distribution of weather given medium precipitation:\")\n",
    "print(weather_probabilities_given_precip)\n",
    "\n"
   ]
  },
  {
   "cell_type": "markdown",
   "metadata": {
    "id": "a_4fNI7NPZEc"
   },
   "source": [
    "# Normal Sampling"
   ]
  },
  {
   "cell_type": "code",
   "execution_count": 39,
   "metadata": {
    "id": "FvkmgoARHkuV"
   },
   "outputs": [
    {
     "name": "stderr",
     "output_type": "stream",
     "text": [
      "Generating for node: temp_min: 100%|██████████| 5/5 [00:00<00:00, 13.07it/s]\n",
      "c:\\Users\\Antonio Luque\\AppData\\Local\\Programs\\Python\\Python312\\Lib\\site-packages\\pgmpy\\sampling\\base.py:598: FutureWarning: Passing a DataFrame to DataFrame.from_records is deprecated. Use set_index and/or drop to modify the DataFrame instead.\n",
      "  df = pd.DataFrame.from_records(samples)\n"
     ]
    },
    {
     "name": "stdout",
     "output_type": "stream",
     "text": [
      "Normalized probabilities of weather conditions given medium precipitation and wind being low or medium:\n",
      "weather\n",
      "drizzle    0.475173\n",
      "rain       0.449967\n",
      "sun        0.044341\n",
      "fog        0.018136\n",
      "snow       0.012383\n",
      "Name: count, dtype: float64\n",
      "\n",
      "Comparison with only medium precipitation (no specific wind condition):\n",
      "weather\n",
      "drizzle    0.453426\n",
      "rain       0.448143\n",
      "sun        0.054935\n",
      "snow       0.025150\n",
      "fog        0.018346\n",
      "Name: count, dtype: float64\n"
     ]
    }
   ],
   "source": [
    "# Repeat Q.4 of Task 1.2 - \n",
    "#What is the probability of each weather condition given that precipitation is medium and wind is low or medium? \n",
    "# Explain your method and results. \n",
    "# How does the result change with the addition of wind factor compared to question 3 of Task 1.2?\n",
    "\n",
    "# Initialize the Bayesian model sampler\n",
    "sampler = BayesianModelSampling(modelfig1)\n",
    "\n",
    "# Generate a large number of samples from the Bayesian network model\n",
    "generated_samples = sampler.forward_sample(size=int(1e5))\n",
    "\n",
    "# Define evidence scenarios where precipitation is 'medium' and wind is either 'low' or 'medium'\n",
    "evidence_conditions = [\n",
    "    {'precipitation': 'mid', 'wind': 'low'},\n",
    "    {'precipitation': 'mid', 'wind': 'mid'}\n",
    "]\n",
    "\n",
    "# Filter samples based on the evidence conditions\n",
    "filtered_samples = generated_samples[\n",
    "    (generated_samples['precipitation'] == 'mid') & \n",
    "    ((generated_samples['wind'] == 'low') | (generated_samples['wind'] == 'mid'))\n",
    "]\n",
    "\n",
    "# Calculate the frequency of each weather condition given the evidence\n",
    "weather_frequencies_given_evidence = filtered_samples['weather'].value_counts()\n",
    "\n",
    "# Normalize the frequencies to obtain probabilities\n",
    "normalized_weather_probabilities = weather_frequencies_given_evidence / weather_frequencies_given_evidence.sum()\n",
    "\n",
    "# Print the normalized probabilities of weather conditions given the evidence\n",
    "print(\"Normalized probabilities of weather conditions given medium precipitation and wind being low or medium:\")\n",
    "print(normalized_weather_probabilities)\n",
    "\n",
    "# Comparing to the scenario where only precipitation is medium (from the previous task)\n",
    "single_evidence_samples = generated_samples[generated_samples['precipitation'] == 'mid']\n",
    "single_weather_frequencies = single_evidence_samples['weather'].value_counts()\n",
    "normalized_single_weather_probabilities = single_weather_frequencies / single_weather_frequencies.sum()\n",
    "\n",
    "# Display the comparison\n",
    "print(\"\\nComparison with only medium precipitation (no specific wind condition):\")\n",
    "print(normalized_single_weather_probabilities)\n",
    "\n"
   ]
  },
  {
   "cell_type": "markdown",
   "metadata": {},
   "source": [
    "# Task 1.4 - Exploring other hierarchies"
   ]
  },
  {
   "cell_type": "markdown",
   "metadata": {},
   "source": [
    "1.4.1 Create a Bayesian Network on the same data with two different hierarchies\n",
    "given below (ref. Figure 2 & 3)."
   ]
  },
  {
   "attachments": {
    "image-2.png": {
     "image/png": "[encoded data removed]"
    },
    "image.png": {
     "image/png": "[encoded data removed]"
    }
   },
   "cell_type": "markdown",
   "metadata": {},
   "source": [
    "![image.png](attachment:image.png)\n",
    "![image-2.png](attachment:image-2.png)"
   ]
  },
  {
   "cell_type": "markdown",
   "metadata": {},
   "source": [
    "## Hierarchy 1:"
   ]
  },
  {
   "cell_type": "code",
   "execution_count": 51,
   "metadata": {},
   "outputs": [],
   "source": [
    "# Define the hierarchy\n",
    "modelfig2 = BayesianNetwork([\n",
    "    ('weather', 'precipitation'), ('weather', 'wind'),\n",
    "    ('precipitation', 'temp_max'), ('precipitation', 'temp_min'),\n",
    "    ('wind', 'temp_max'), ('wind', 'temp_min')\n",
    "])\n",
    "\n",
    "# And, the states for each variables\n",
    "weather_states = ['drizzle', 'rain', 'sun', 'snow', 'fog']\n",
    "precipitation_states = ['low', 'mid', 'high']\n",
    "wind_states = ['low', 'mid', 'high']\n",
    "temp_max_states = ['low', 'mid', 'high']\n",
    "temp_min_states = ['low', 'mid', 'high']\n"
   ]
  },
  {
   "cell_type": "code",
   "execution_count": 52,
   "metadata": {},
   "outputs": [
    {
     "name": "stderr",
     "output_type": "stream",
     "text": [
      "C:\\Users\\Antonio Luque\\AppData\\Local\\Temp\\ipykernel_5416\\1439350072.py:23: FutureWarning: The default of observed=False is deprecated and will be changed to True in a future version of pandas. Pass observed=False to retain current behavior or observed=True to adopt the future default and silence this warning.\n",
      "  temp_max = df.groupby(['precipitation', 'wind'])['temp_max'].value_counts(normalize=True).sort_index().unstack(fill_value=0).to_numpy().T\n",
      "C:\\Users\\Antonio Luque\\AppData\\Local\\Temp\\ipykernel_5416\\1439350072.py:30: FutureWarning: The default of observed=False is deprecated and will be changed to True in a future version of pandas. Pass observed=False to retain current behavior or observed=True to adopt the future default and silence this warning.\n",
      "  temp_min = df.groupby(['precipitation', 'wind'])['temp_min'].value_counts(normalize=True).sort_index().unstack(fill_value=0).to_numpy().T\n"
     ]
    },
    {
     "data": {
      "text/plain": [
       "[array([[0.        , 0.        , 0.        , 0.        , 0.        ],\n",
       "        [1.        , 1.        , 0.7800312 , 0.69230769, 1.        ],\n",
       "        [0.        , 0.        , 0.2199688 , 0.30769231, 0.        ]]),\n",
       " array([[0.30188679, 0.35643564, 0.10452418, 0.07692308, 0.140625  ],\n",
       "        [0.67924528, 0.58415842, 0.64118565, 0.38461538, 0.775     ],\n",
       "        [0.01886792, 0.05940594, 0.25429017, 0.53846154, 0.084375  ]]),\n",
       " array([[0.33      , 0.33      , 0.33      , 0.25961538, 0.12903226,\n",
       "         0.2816092 , 1.        , 0.14634146, 0.1875    ],\n",
       "        [0.33      , 0.33      , 0.33      , 0.60576923, 0.60215054,\n",
       "         0.66666667, 0.        , 0.82926829, 0.8125    ],\n",
       "        [0.33      , 0.33      , 0.33      , 0.13461538, 0.2688172 ,\n",
       "         0.05172414, 0.        , 0.02439024, 0.        ]]),\n",
       " array([[0.33      , 0.33      , 0.33      , 0.25961538, 0.14516129,\n",
       "         0.20689655, 0.33333333, 0.1097561 , 0.109375  ],\n",
       "        [0.33      , 0.33      , 0.33      , 0.61057692, 0.58387097,\n",
       "         0.75287356, 0.66666667, 0.73170732, 0.828125  ],\n",
       "        [0.33      , 0.33      , 0.33      , 0.12980769, 0.27096774,\n",
       "         0.04022989, 0.        , 0.15853659, 0.0625    ]])]"
      ]
     },
     "execution_count": 52,
     "metadata": {},
     "output_type": "execute_result"
    }
   ],
   "source": [
    "# Calculate Probabilities\n",
    "\n",
    "# Weather does not have any parents so all we need are the marginal probabilities of observing each weather type\n",
    "weather_marginal = (df['weather'].value_counts()/len(df['weather'])).round(3)\n",
    "weather_marginal = np.array([[value] for value in weather_marginal])\n",
    "\n",
    "# Joint Propabilities\n",
    "# Create dict where key=parent, value=child\n",
    "var_dict = {'weather': ['precipitation', 'wind']\n",
    "            }\n",
    "\n",
    "# Create conditional distributions and store results in a list\n",
    "cpd_lst = []\n",
    "for key, value in var_dict.items():\n",
    "    length = len(value)\n",
    "    for i in range(length):\n",
    "        value_given_key = df.groupby(key)[value[i]].value_counts(normalize=True).sort_index()\n",
    "        cpd = value_given_key.unstack(fill_value=0).to_numpy().T\n",
    "        cpd_lst.append(cpd)\n",
    "\n",
    "temp_max = df.groupby(['precipitation', 'wind'])['temp_max'].value_counts(normalize=True).sort_index().unstack(fill_value=0).to_numpy().T\n",
    "for i in temp_max:\n",
    "    i[0] = 0.33\n",
    "    i[1] = 0.33\n",
    "    i[2] = 0.33\n",
    "cpd_lst.append(temp_max)\n",
    "\n",
    "temp_min = df.groupby(['precipitation', 'wind'])['temp_min'].value_counts(normalize=True).sort_index().unstack(fill_value=0).to_numpy().T\n",
    "for i in temp_min:\n",
    "    i[0] = 0.33\n",
    "    i[1] = 0.33\n",
    "    i[2] = 0.33\n",
    "cpd_lst.append(temp_min)\n",
    "\n",
    "cpd_lst\n"
   ]
  },
  {
   "cell_type": "code",
   "execution_count": 53,
   "metadata": {},
   "outputs": [],
   "source": [
    "# Creating tabular conditional probability distribution\n",
    "weather_cpd = TabularCPD(variable='weather', variable_card=5, values=weather_marginal, state_names={'weather': weather_states})\n",
    "\n",
    "precipitation_cpd = TabularCPD(variable='precipitation', variable_card=3, evidence=['weather'], evidence_card=[5],\n",
    "                               values=cpd_lst[0], state_names={'precipitation': precipitation_states, 'weather': weather_states})\n",
    "\n",
    "wind_cpd = TabularCPD(variable='wind', variable_card=3, evidence=['weather'], evidence_card=[5],\n",
    "                               values=cpd_lst[1], state_names={'wind': wind_states, 'weather': weather_states})\n",
    "\n",
    "temp_max_cpd = TabularCPD(variable='temp_max', variable_card=3, evidence=['precipitation', 'wind'], evidence_card=[3, 3], # Cardinality of precipitation and wind\n",
    "                               values=cpd_lst[2], state_names={'temp_max': temp_max_states, 'precipitation': precipitation_states, 'wind': wind_states})\n",
    "\n",
    "temp_min_cpd = TabularCPD(variable='temp_min', variable_card=3, evidence=['precipitation', 'wind'], evidence_card=[3, 3],\n",
    "                               values=cpd_lst[3], state_names={'temp_min': temp_min_states,'precipitation': precipitation_states, 'wind': wind_states})\n"
   ]
  },
  {
   "cell_type": "code",
   "execution_count": 54,
   "metadata": {},
   "outputs": [
    {
     "name": "stdout",
     "output_type": "stream",
     "text": [
      "+------------------+-------+\n",
      "| weather(drizzle) | 0.439 |\n",
      "+------------------+-------+\n",
      "| weather(rain)    | 0.438 |\n",
      "+------------------+-------+\n",
      "| weather(sun)     | 0.069 |\n",
      "+------------------+-------+\n",
      "| weather(snow)    | 0.036 |\n",
      "+------------------+-------+\n",
      "| weather(fog)     | 0.018 |\n",
      "+------------------+-------+\n",
      "+------------+----------------------+-----+--------------+\n",
      "| weather    | weather(drizzle)     | ... | weather(fog) |\n",
      "+------------+----------------------+-----+--------------+\n",
      "| wind(low)  | 0.3018867924528302   | ... | 0.140625     |\n",
      "+------------+----------------------+-----+--------------+\n",
      "| wind(mid)  | 0.6792452830188679   | ... | 0.775        |\n",
      "+------------+----------------------+-----+--------------+\n",
      "| wind(high) | 0.018867924528301886 | ... | 0.084375     |\n",
      "+------------+----------------------+-----+--------------+\n"
     ]
    },
    {
     "data": {
      "text/plain": [
       "(temp_max ⟂ weather, temp_min | wind, precipitation)"
      ]
     },
     "execution_count": 54,
     "metadata": {},
     "output_type": "execute_result"
    }
   ],
   "source": [
    "# Add CPDs and factors to the model\n",
    "modelfig2.add_cpds(weather_cpd, precipitation_cpd, wind_cpd, temp_max_cpd, temp_min_cpd)\n",
    "\n",
    "# Check if model is consistent\n",
    "modelfig2.check_model()\n",
    "\n",
    "# Viewing nodes of the model\n",
    "modelfig2.nodes()\n",
    "\n",
    "# Viewing edges of the model\n",
    "modelfig2.edges()\n",
    "\n",
    "# Print the probability table of the weather node\n",
    "print(weather_cpd)\n",
    "\n",
    "# Print the probability table of the wind node\n",
    "print(wind_cpd)\n",
    "\n",
    "# Independcies in the model\n",
    "modelfig2.get_independencies()\n",
    "# Checking independcies of a particular node\n",
    "modelfig2.local_independencies('temp_max')\n",
    "\n"
   ]
  },
  {
   "cell_type": "markdown",
   "metadata": {},
   "source": [
    "# Hierarchy 2"
   ]
  },
  {
   "cell_type": "code",
   "execution_count": 55,
   "metadata": {},
   "outputs": [],
   "source": [
    "# Define the hierarchy\n",
    "modelfig3 = BayesianNetwork([\n",
    "    ('weather', 'wind'), \n",
    "    ('wind', 'precipitation'),\n",
    "    ('precipitation', 'temp_max'), ('precipitation', 'temp_min')\n",
    "])\n",
    "\n",
    "# And, the states for each variables\n",
    "weather_states = ['drizzle', 'rain', 'sun', 'snow', 'fog']\n",
    "precipitation_states = ['low', 'mid', 'high']\n",
    "wind_states = ['low', 'mid', 'high']\n",
    "temp_max_states = ['low', 'mid', 'high']\n",
    "temp_min_states = ['low', 'mid', 'high']\n"
   ]
  },
  {
   "cell_type": "code",
   "execution_count": 56,
   "metadata": {},
   "outputs": [
    {
     "name": "stderr",
     "output_type": "stream",
     "text": [
      "C:\\Users\\Antonio Luque\\AppData\\Local\\Temp\\ipykernel_5416\\2147419593.py:19: FutureWarning: The default of observed=False is deprecated and will be changed to True in a future version of pandas. Pass observed=False to retain current behavior or observed=True to adopt the future default and silence this warning.\n",
      "  value_given_key = df.groupby(key)[value[i]].value_counts(normalize=True).sort_index()\n",
      "C:\\Users\\Antonio Luque\\AppData\\Local\\Temp\\ipykernel_5416\\2147419593.py:19: FutureWarning: The default of observed=False is deprecated and will be changed to True in a future version of pandas. Pass observed=False to retain current behavior or observed=True to adopt the future default and silence this warning.\n",
      "  value_given_key = df.groupby(key)[value[i]].value_counts(normalize=True).sort_index()\n",
      "C:\\Users\\Antonio Luque\\AppData\\Local\\Temp\\ipykernel_5416\\2147419593.py:19: FutureWarning: The default of observed=False is deprecated and will be changed to True in a future version of pandas. Pass observed=False to retain current behavior or observed=True to adopt the future default and silence this warning.\n",
      "  value_given_key = df.groupby(key)[value[i]].value_counts(normalize=True).sort_index()\n"
     ]
    },
    {
     "data": {
      "text/plain": [
       "[array([[0.30188679, 0.35643564, 0.10452418, 0.07692308, 0.140625  ],\n",
       "        [0.67924528, 0.58415842, 0.64118565, 0.38461538, 0.775     ],\n",
       "        [0.01886792, 0.05940594, 0.25429017, 0.53846154, 0.084375  ]]),\n",
       " array([[0.        , 0.        , 0.        ],\n",
       "        [0.98578199, 0.91897233, 0.73109244],\n",
       "        [0.01421801, 0.08102767, 0.26890756]]),\n",
       " array([[0.33      , 0.16996951, 0.18120805],\n",
       "        [0.33      , 0.61128049, 0.80536913],\n",
       "        [0.33      , 0.21875   , 0.01342282]]),\n",
       " array([[0.33      , 0.1714939 , 0.11409396],\n",
       "        [0.33      , 0.61051829, 0.77181208],\n",
       "        [0.33      , 0.2179878 , 0.11409396]])]"
      ]
     },
     "execution_count": 56,
     "metadata": {},
     "output_type": "execute_result"
    }
   ],
   "source": [
    "# Calculate Probabilities\n",
    "\n",
    "# Weather does not have any parents so all we need are the marginal probabilities of observing each weather type\n",
    "weather_marginal = (df['weather'].value_counts()/len(df['weather'])).round(3)\n",
    "weather_marginal = np.array([[value] for value in weather_marginal])\n",
    "\n",
    "# Joint Propabilities\n",
    "# Create dict where key=parent, value=child\n",
    "var_dict = {'weather': ['wind'],\n",
    "            'wind': ['precipitation'],\n",
    "            'precipitation': ['temp_max', 'temp_min']\n",
    "            }\n",
    "\n",
    "# Create conditional distributions and store results in a list\n",
    "cpd_lst = []\n",
    "for key, value in var_dict.items():\n",
    "    length = len(value)\n",
    "    for i in range(length):\n",
    "        value_given_key = df.groupby(key)[value[i]].value_counts(normalize=True).sort_index()\n",
    "        cpd = value_given_key.unstack(fill_value=0).to_numpy().T\n",
    "        cpd_lst.append(cpd)\n",
    "# Note that we get 3 Nan values in the above conditional distributions. This is because one of the type of precipitation (low) did not contain any relation with temp_max.\n",
    "# Therefore, normalization, does not produce the intended result.\n",
    "# To mitigate this, we replace Nan with the equal probability within the three values, i.e., 0.33\n",
    "cpd_lst[2][:,0] = .33\n",
    "cpd_lst[3][:,0] = .33\n",
    "cpd_lst\n"
   ]
  },
  {
   "cell_type": "code",
   "execution_count": 57,
   "metadata": {},
   "outputs": [],
   "source": [
    "# Creating tabular conditional probability distribution\n",
    "weather_cpd = TabularCPD(variable='weather', variable_card=5, values=weather_marginal, state_names={'weather': weather_states})\n",
    "\n",
    "wind_cpd = TabularCPD(variable='wind', variable_card=3, evidence=['weather'], evidence_card=[5],\n",
    "                               values=cpd_lst[0], state_names={'wind': wind_states, 'weather': weather_states})\n",
    "\n",
    "precipitation_cpd = TabularCPD(variable='precipitation', variable_card=3, evidence=['wind'], evidence_card=[3],\n",
    "                               values=cpd_lst[1], state_names={'precipitation': precipitation_states, 'wind': wind_states})\n",
    "\n",
    "temp_max_cpd = TabularCPD(variable='temp_max', variable_card=3, evidence=['precipitation'], evidence_card=[3],\n",
    "                               values=cpd_lst[2], state_names={'temp_max': temp_max_states, 'precipitation': precipitation_states})\n",
    "\n",
    "temp_min_cpd = TabularCPD(variable='temp_min', variable_card=3, evidence=['precipitation'], evidence_card=[3],\n",
    "                               values=cpd_lst[3], state_names={'temp_min': temp_min_states, 'precipitation': precipitation_states})\n"
   ]
  },
  {
   "cell_type": "code",
   "execution_count": 58,
   "metadata": {},
   "outputs": [
    {
     "name": "stdout",
     "output_type": "stream",
     "text": [
      "+------------------+-------+\n",
      "| weather(drizzle) | 0.439 |\n",
      "+------------------+-------+\n",
      "| weather(rain)    | 0.438 |\n",
      "+------------------+-------+\n",
      "| weather(sun)     | 0.069 |\n",
      "+------------------+-------+\n",
      "| weather(snow)    | 0.036 |\n",
      "+------------------+-------+\n",
      "| weather(fog)     | 0.018 |\n",
      "+------------------+-------+\n",
      "+------------+----------------------+-----+--------------+\n",
      "| weather    | weather(drizzle)     | ... | weather(fog) |\n",
      "+------------+----------------------+-----+--------------+\n",
      "| wind(low)  | 0.3018867924528302   | ... | 0.140625     |\n",
      "+------------+----------------------+-----+--------------+\n",
      "| wind(mid)  | 0.6792452830188679   | ... | 0.775        |\n",
      "+------------+----------------------+-----+--------------+\n",
      "| wind(high) | 0.018867924528301886 | ... | 0.084375     |\n",
      "+------------+----------------------+-----+--------------+\n"
     ]
    },
    {
     "data": {
      "text/plain": [
       "(temp_max ⟂ wind, weather, temp_min | precipitation)"
      ]
     },
     "execution_count": 58,
     "metadata": {},
     "output_type": "execute_result"
    }
   ],
   "source": [
    "# Add CPDs and factors to the model\n",
    "modelfig3.add_cpds(weather_cpd, precipitation_cpd, wind_cpd, temp_max_cpd, temp_min_cpd)\n",
    "\n",
    "# Check if model is consistent\n",
    "modelfig3.check_model()\n",
    "\n",
    "# Viewing nodes of the model\n",
    "modelfig3.nodes()\n",
    "\n",
    "# Viewing edges of the model\n",
    "modelfig3.edges()\n",
    "\n",
    "# Print the probability table of the weather node\n",
    "print(weather_cpd)\n",
    "\n",
    "# Print the probability table of the wind node\n",
    "print(wind_cpd)\n",
    "# Independcies in the model\n",
    "modelfig3.get_independencies()\n",
    "# Checking independcies of a particular node\n",
    "modelfig3.local_independencies('temp_max')\n"
   ]
  },
  {
   "cell_type": "markdown",
   "metadata": {},
   "source": [
    "1.4.2 Compare the joint probabilities from all the three-hierarchy using either exact or approximate inference? Discuss your results?"
   ]
  },
  {
   "cell_type": "code",
   "execution_count": 59,
   "metadata": {},
   "outputs": [],
   "source": [
    "inference1 = VariableElimination(modelfig1)\n",
    "joint_prob1 = inference1.query(variables=['weather', 'precipitation', 'wind', 'temp_max', 'temp_min'], joint=True)\n",
    "\n",
    "inference2 = VariableElimination(modelfig2)\n",
    "joint_prob2 = inference2.query(variables=['weather', 'precipitation', 'wind', 'temp_max', 'temp_min'], joint=True)\n",
    "\n",
    "inference3 = VariableElimination(modelfig3)\n",
    "joint_prob3 = inference3.query(variables=['weather', 'precipitation', 'wind', 'temp_max', 'temp_min'], joint=True)"
   ]
  },
  {
   "cell_type": "code",
   "execution_count": 64,
   "metadata": {},
   "outputs": [
    {
     "data": {
      "image/png": "[encoded data removed]",
      "text/plain": [
       "<Figure size 1200x600 with 1 Axes>"
      ]
     },
     "metadata": {},
     "output_type": "display_data"
    },
    {
     "name": "stderr",
     "output_type": "stream",
     "text": [
      "WARNING:matplotlib.legend:No artists with labels found to put in legend.  Note that artists whose label start with an underscore are ignored when legend() is called with no argument.\n"
     ]
    },
    {
     "data": {
      "image/png": "[encoded data removed]",
      "text/plain": [
       "<Figure size 1200x600 with 1 Axes>"
      ]
     },
     "metadata": {},
     "output_type": "display_data"
    }
   ],
   "source": [
    "import pandas as pd\n",
    "import numpy as np\n",
    "import matplotlib.pyplot as plt\n",
    "import seaborn as sns\n",
    "\n",
    "def factor_to_df(factor, model_label):\n",
    "    \"\"\" Converts a DiscreteFactor object to a pandas DataFrame.\n",
    "        Flattens multi-dimensional joint probability arrays and labels each entry.\n",
    "    \"\"\"\n",
    "    # Flatten the factor values and create a product of state names for indexing\n",
    "    flat_values = factor.values.flatten()\n",
    "    index = pd.MultiIndex.from_product(factor.state_names.values(), names=factor.variables)\n",
    "    df = pd.DataFrame(flat_values, index=index, columns=['probability'])\n",
    "    df = df.reset_index()\n",
    "    df['Model'] = model_label  # Assigning model label\n",
    "    return df\n",
    "\n",
    "# Assume joint_prob1, joint_prob2, joint_prob3 are defined DiscreteFactor objects\n",
    "df1 = factor_to_df(joint_prob1, 'Fig1')\n",
    "df2 = factor_to_df(joint_prob2, 'Fig2')\n",
    "df3 = factor_to_df(joint_prob3, 'Fig3')\n",
    "\n",
    "# Concatenate all DataFrames into one DataFrame for visualization\n",
    "all_samples = pd.concat([df1, df2, df3])\n",
    "\n",
    "# Bar plot of Temp_max frequencies across models\n",
    "plt.figure(figsize=(12, 6))\n",
    "sns.barplot(x='temp_max', y='probability', hue='Model', data=all_samples)\n",
    "plt.title('Comparison of Temp_max Probabilities Across Models')\n",
    "plt.xlabel('Temp_max Value')\n",
    "plt.ylabel('Probability')\n",
    "plt.legend(title='Model')\n",
    "plt.tight_layout()  # Adjust layout to make room for the legend\n",
    "plt.show()\n",
    "\n",
    "# Density Plot of Temp_max across models\n",
    "plt.figure(figsize=(12, 6))\n",
    "sns.histplot(data=all_samples, x='temp_max', hue='Model', multiple=\"stack\", shrink=0.8)\n",
    "plt.title('Histogram of Temp_max Across Models')\n",
    "plt.xlabel('Temp_max Category')\n",
    "plt.ylabel('Frequency')\n",
    "plt.legend(title='Model')\n",
    "plt.tight_layout()  # Adjust layout to make room for the legend\n",
    "plt.show()\n",
    "\n",
    "\n"
   ]
  },
  {
   "cell_type": "code",
   "execution_count": 61,
   "metadata": {},
   "outputs": [
    {
     "name": "stderr",
     "output_type": "stream",
     "text": [
      "Generating for node: temp_min: 100%|██████████| 5/5 [00:00<00:00, 181.45it/s]\n",
      "c:\\Users\\Antonio Luque\\AppData\\Local\\Programs\\Python\\Python312\\Lib\\site-packages\\pgmpy\\sampling\\base.py:598: FutureWarning: Passing a DataFrame to DataFrame.from_records is deprecated. Use set_index and/or drop to modify the DataFrame instead.\n",
      "  df = pd.DataFrame.from_records(samples)\n",
      "Generating for node: temp_min: 100%|██████████| 5/5 [00:00<00:00, 110.92it/s]\n",
      "c:\\Users\\Antonio Luque\\AppData\\Local\\Programs\\Python\\Python312\\Lib\\site-packages\\pgmpy\\sampling\\base.py:598: FutureWarning: Passing a DataFrame to DataFrame.from_records is deprecated. Use set_index and/or drop to modify the DataFrame instead.\n",
      "  df = pd.DataFrame.from_records(samples)\n",
      "Generating for node: temp_min: 100%|██████████| 5/5 [00:00<00:00, 95.20it/s]\n",
      "c:\\Users\\Antonio Luque\\AppData\\Local\\Programs\\Python\\Python312\\Lib\\site-packages\\pgmpy\\sampling\\base.py:598: FutureWarning: Passing a DataFrame to DataFrame.from_records is deprecated. Use set_index and/or drop to modify the DataFrame instead.\n",
      "  df = pd.DataFrame.from_records(samples)\n"
     ]
    }
   ],
   "source": [
    "sampler1 = BayesianModelSampling(modelfig1)\n",
    "samples1 = sampler1.forward_sample(size=10000)\n",
    "\n",
    "sampler2 = BayesianModelSampling(modelfig2)\n",
    "samples2 = sampler2.forward_sample(size=10000)\n",
    "\n",
    "sampler3 = BayesianModelSampling(modelfig3)\n",
    "samples3 = sampler3.forward_sample(size=10000)"
   ]
  },
  {
   "cell_type": "code",
   "execution_count": 62,
   "metadata": {},
   "outputs": [],
   "source": [
    "import pandas as pd\n",
    "\n",
    "# Convert the samples to pandas DataFrames for easier manipulation\n",
    "df1 = pd.DataFrame(samples1)\n",
    "df2 = pd.DataFrame(samples2)\n",
    "df3 = pd.DataFrame(samples3)\n",
    "\n",
    "# Add a model label for easier plotting and analysis\n",
    "df1['Model'] = 'Fig1'\n",
    "df2['Model'] = 'Fig2'\n",
    "df3['Model'] = 'Fig3'\n",
    "\n",
    "# Concatenate all samples into one DataFrame\n",
    "all_samples = pd.concat([df1, df2, df3])\n"
   ]
  },
  {
   "cell_type": "code",
   "execution_count": 63,
   "metadata": {},
   "outputs": [
    {
     "data": {
      "image/png": "[encoded data removed]",
      "text/plain": [
       "<Figure size 1200x600 with 1 Axes>"
      ]
     },
     "metadata": {},
     "output_type": "display_data"
    },
    {
     "data": {
      "image/png": "[encoded data removed]",
      "text/plain": [
       "<Figure size 1200x600 with 1 Axes>"
      ]
     },
     "metadata": {},
     "output_type": "display_data"
    }
   ],
   "source": [
    "import seaborn as sns\n",
    "import matplotlib.pyplot as plt\n",
    "\n",
    "# Visualize the distribution of Temp_max across different models\n",
    "plt.figure(figsize=(12, 6))\n",
    "sns.histplot(data=all_samples, x='temp_max', hue='Model', element='step', stat='density', common_norm=False)\n",
    "plt.title('Density Plot of Temp_max Across Models')\n",
    "plt.xlabel('Temp_max')\n",
    "plt.ylabel('Density')\n",
    "plt.show()\n",
    "\n",
    "# Visualize the distribution of Temp_min similarly\n",
    "plt.figure(figsize=(12, 6))\n",
    "sns.histplot(data=all_samples, x='temp_min', hue='Model', element='step', stat='density', common_norm=False)\n",
    "plt.title('Density Plot of Temp_min Across Models')\n",
    "plt.xlabel('Temp_min')\n",
    "plt.ylabel('Density')\n",
    "plt.show()\n"
   ]
  }
 ],
 "metadata": {
  "colab": {
   "provenance": []
  },
  "kernelspec": {
   "display_name": "Python 3 (ipykernel)",
   "language": "python",
   "name": "python3"
  },
  "language_info": {
   "codemirror_mode": {
    "name": "ipython",
    "version": 3
   },
   "file_extension": ".py",
   "mimetype": "text/x-python",
   "name": "python",
   "nbconvert_exporter": "python",
   "pygments_lexer": "ipython3",
   "version": "3.12.3"
  }
 },
 "nbformat": 4,
 "nbformat_minor": 1
}
